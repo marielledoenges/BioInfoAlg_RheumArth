{
 "cells": [
  {
   "cell_type": "code",
   "execution_count": 32,
   "id": "c117b570-3e4d-455a-946f-a5b1884b3fbc",
   "metadata": {},
   "outputs": [
    {
     "name": "stdout",
     "output_type": "stream",
     "text": [
      "Requirement already satisfied: pyclustering in /Users/kirillluka/BioInfoAlg_RheumArth/venv/lib/python3.10/site-packages (0.10.1.2)\n",
      "Requirement already satisfied: scipy>=1.1.0 in /Users/kirillluka/BioInfoAlg_RheumArth/venv/lib/python3.10/site-packages (from pyclustering) (1.14.1)\n",
      "Requirement already satisfied: matplotlib>=3.0.0 in /Users/kirillluka/BioInfoAlg_RheumArth/venv/lib/python3.10/site-packages (from pyclustering) (3.9.2)\n",
      "Requirement already satisfied: numpy>=1.15.2 in /Users/kirillluka/BioInfoAlg_RheumArth/venv/lib/python3.10/site-packages (from pyclustering) (2.0.0)\n",
      "Requirement already satisfied: Pillow>=5.2.0 in /Users/kirillluka/BioInfoAlg_RheumArth/venv/lib/python3.10/site-packages (from pyclustering) (10.4.0)\n",
      "Requirement already satisfied: contourpy>=1.0.1 in /Users/kirillluka/BioInfoAlg_RheumArth/venv/lib/python3.10/site-packages (from matplotlib>=3.0.0->pyclustering) (1.3.0)\n",
      "Requirement already satisfied: cycler>=0.10 in /Users/kirillluka/BioInfoAlg_RheumArth/venv/lib/python3.10/site-packages (from matplotlib>=3.0.0->pyclustering) (0.12.1)\n",
      "Requirement already satisfied: fonttools>=4.22.0 in /Users/kirillluka/BioInfoAlg_RheumArth/venv/lib/python3.10/site-packages (from matplotlib>=3.0.0->pyclustering) (4.54.1)\n",
      "Requirement already satisfied: kiwisolver>=1.3.1 in /Users/kirillluka/BioInfoAlg_RheumArth/venv/lib/python3.10/site-packages (from matplotlib>=3.0.0->pyclustering) (1.4.7)\n",
      "Requirement already satisfied: packaging>=20.0 in /Users/kirillluka/BioInfoAlg_RheumArth/venv/lib/python3.10/site-packages (from matplotlib>=3.0.0->pyclustering) (24.1)\n",
      "Requirement already satisfied: pyparsing>=2.3.1 in /Users/kirillluka/BioInfoAlg_RheumArth/venv/lib/python3.10/site-packages (from matplotlib>=3.0.0->pyclustering) (3.1.4)\n",
      "Requirement already satisfied: python-dateutil>=2.7 in /Users/kirillluka/BioInfoAlg_RheumArth/venv/lib/python3.10/site-packages (from matplotlib>=3.0.0->pyclustering) (2.9.0.post0)\n",
      "Requirement already satisfied: six>=1.5 in /Users/kirillluka/BioInfoAlg_RheumArth/venv/lib/python3.10/site-packages (from python-dateutil>=2.7->matplotlib>=3.0.0->pyclustering) (1.16.0)\n",
      "Note: you may need to restart the kernel to use updated packages.\n",
      "Collecting plotly\n",
      "  Downloading plotly-5.24.1-py3-none-any.whl.metadata (7.3 kB)\n",
      "Collecting tenacity>=6.2.0 (from plotly)\n",
      "  Downloading tenacity-9.0.0-py3-none-any.whl.metadata (1.2 kB)\n",
      "Requirement already satisfied: packaging in /Users/kirillluka/BioInfoAlg_RheumArth/venv/lib/python3.10/site-packages (from plotly) (24.1)\n",
      "Downloading plotly-5.24.1-py3-none-any.whl (19.1 MB)\n",
      "\u001b[2K   \u001b[90m━━━━━━━━━━━━━━━━━━━━━━━━━━━━━━━━━━━━━━━━\u001b[0m \u001b[32m19.1/19.1 MB\u001b[0m \u001b[31m1.2 MB/s\u001b[0m eta \u001b[36m0:00:00\u001b[0m00:01\u001b[0m00:01\u001b[0m\n",
      "\u001b[?25hDownloading tenacity-9.0.0-py3-none-any.whl (28 kB)\n",
      "Installing collected packages: tenacity, plotly\n",
      "Successfully installed plotly-5.24.1 tenacity-9.0.0\n",
      "Note: you may need to restart the kernel to use updated packages.\n"
     ]
    }
   ],
   "source": [
    "%pip install pyclustering\n",
    "%pip install plotly"
   ]
  },
  {
   "cell_type": "code",
   "execution_count": 22,
   "id": "23636a43-686b-4e0b-9a3c-130b8205a254",
   "metadata": {},
   "outputs": [],
   "source": [
    "from pyclustering.cluster.kmedoids import kmedoids\n",
    "from pyclustering.utils import read_sample\n",
    "from pyclustering.samples.definitions import FCPS_SAMPLES"
   ]
  },
  {
   "cell_type": "code",
   "execution_count": 23,
   "id": "437fa91e-8028-49e9-a650-82eb69b1e870",
   "metadata": {},
   "outputs": [
    {
     "data": {
      "text/html": [
       "<div>\n",
       "<style scoped>\n",
       "    .dataframe tbody tr th:only-of-type {\n",
       "        vertical-align: middle;\n",
       "    }\n",
       "\n",
       "    .dataframe tbody tr th {\n",
       "        vertical-align: top;\n",
       "    }\n",
       "\n",
       "    .dataframe thead th {\n",
       "        text-align: right;\n",
       "    }\n",
       "</style>\n",
       "<table border=\"1\" class=\"dataframe\">\n",
       "  <thead>\n",
       "    <tr style=\"text-align: right;\">\n",
       "      <th></th>\n",
       "      <th>refinebio_accession_code</th>\n",
       "      <th>CD4</th>\n",
       "      <th>CD8A</th>\n",
       "      <th>KLRC4-KLRK1</th>\n",
       "      <th>CD8B</th>\n",
       "      <th>STXBP2</th>\n",
       "      <th>ADGRG1</th>\n",
       "      <th>GINS3</th>\n",
       "      <th>GZMH</th>\n",
       "      <th>XIST</th>\n",
       "      <th>...</th>\n",
       "      <th>IGHV3-43</th>\n",
       "      <th>MYADM-AS2</th>\n",
       "      <th>ALDH1A3</th>\n",
       "      <th>NDUFV1-DT</th>\n",
       "      <th>ASCL5</th>\n",
       "      <th>KCNJ12</th>\n",
       "      <th>SPRR4</th>\n",
       "      <th>HSD17B3-AS1</th>\n",
       "      <th>LOC114841035</th>\n",
       "      <th>Group</th>\n",
       "    </tr>\n",
       "  </thead>\n",
       "  <tbody>\n",
       "    <tr>\n",
       "      <th>0</th>\n",
       "      <td>SRR7725764</td>\n",
       "      <td>8.164929</td>\n",
       "      <td>0.000000</td>\n",
       "      <td>0.000000</td>\n",
       "      <td>2.165702</td>\n",
       "      <td>0.000000</td>\n",
       "      <td>2.591752</td>\n",
       "      <td>8.125052</td>\n",
       "      <td>3.048034</td>\n",
       "      <td>1.728541</td>\n",
       "      <td>...</td>\n",
       "      <td>0.0</td>\n",
       "      <td>0.0</td>\n",
       "      <td>0.0</td>\n",
       "      <td>0.0</td>\n",
       "      <td>0.0</td>\n",
       "      <td>0.0</td>\n",
       "      <td>0.0</td>\n",
       "      <td>0.0</td>\n",
       "      <td>0.0</td>\n",
       "      <td>healthy</td>\n",
       "    </tr>\n",
       "    <tr>\n",
       "      <th>1</th>\n",
       "      <td>SRR7725765</td>\n",
       "      <td>8.328641</td>\n",
       "      <td>2.373090</td>\n",
       "      <td>3.572271</td>\n",
       "      <td>2.013168</td>\n",
       "      <td>0.000000</td>\n",
       "      <td>8.683048</td>\n",
       "      <td>6.860148</td>\n",
       "      <td>8.635401</td>\n",
       "      <td>0.000000</td>\n",
       "      <td>...</td>\n",
       "      <td>0.0</td>\n",
       "      <td>0.0</td>\n",
       "      <td>0.0</td>\n",
       "      <td>0.0</td>\n",
       "      <td>0.0</td>\n",
       "      <td>0.0</td>\n",
       "      <td>0.0</td>\n",
       "      <td>0.0</td>\n",
       "      <td>0.0</td>\n",
       "      <td>healthy</td>\n",
       "    </tr>\n",
       "    <tr>\n",
       "      <th>2</th>\n",
       "      <td>SRR7725767</td>\n",
       "      <td>0.000000</td>\n",
       "      <td>7.783076</td>\n",
       "      <td>6.575891</td>\n",
       "      <td>7.922238</td>\n",
       "      <td>7.388587</td>\n",
       "      <td>0.000000</td>\n",
       "      <td>9.744305</td>\n",
       "      <td>4.351330</td>\n",
       "      <td>0.000000</td>\n",
       "      <td>...</td>\n",
       "      <td>0.0</td>\n",
       "      <td>0.0</td>\n",
       "      <td>0.0</td>\n",
       "      <td>0.0</td>\n",
       "      <td>0.0</td>\n",
       "      <td>0.0</td>\n",
       "      <td>0.0</td>\n",
       "      <td>0.0</td>\n",
       "      <td>0.0</td>\n",
       "      <td>healthy</td>\n",
       "    </tr>\n",
       "    <tr>\n",
       "      <th>3</th>\n",
       "      <td>SRR7725768</td>\n",
       "      <td>0.000000</td>\n",
       "      <td>8.555245</td>\n",
       "      <td>7.407132</td>\n",
       "      <td>6.659247</td>\n",
       "      <td>0.000000</td>\n",
       "      <td>7.408645</td>\n",
       "      <td>0.404595</td>\n",
       "      <td>8.011064</td>\n",
       "      <td>0.000000</td>\n",
       "      <td>...</td>\n",
       "      <td>0.0</td>\n",
       "      <td>0.0</td>\n",
       "      <td>0.0</td>\n",
       "      <td>0.0</td>\n",
       "      <td>0.0</td>\n",
       "      <td>0.0</td>\n",
       "      <td>0.0</td>\n",
       "      <td>0.0</td>\n",
       "      <td>0.0</td>\n",
       "      <td>healthy</td>\n",
       "    </tr>\n",
       "    <tr>\n",
       "      <th>4</th>\n",
       "      <td>SRR7725770</td>\n",
       "      <td>1.150113</td>\n",
       "      <td>8.135226</td>\n",
       "      <td>6.840089</td>\n",
       "      <td>8.626322</td>\n",
       "      <td>0.000000</td>\n",
       "      <td>3.858808</td>\n",
       "      <td>7.499813</td>\n",
       "      <td>2.710086</td>\n",
       "      <td>0.732019</td>\n",
       "      <td>...</td>\n",
       "      <td>0.0</td>\n",
       "      <td>0.0</td>\n",
       "      <td>0.0</td>\n",
       "      <td>0.0</td>\n",
       "      <td>0.0</td>\n",
       "      <td>0.0</td>\n",
       "      <td>0.0</td>\n",
       "      <td>0.0</td>\n",
       "      <td>0.0</td>\n",
       "      <td>healthy</td>\n",
       "    </tr>\n",
       "  </tbody>\n",
       "</table>\n",
       "<p>5 rows × 31646 columns</p>\n",
       "</div>"
      ],
      "text/plain": [
       "  refinebio_accession_code       CD4      CD8A  KLRC4-KLRK1      CD8B  \\\n",
       "0               SRR7725764  8.164929  0.000000     0.000000  2.165702   \n",
       "1               SRR7725765  8.328641  2.373090     3.572271  2.013168   \n",
       "2               SRR7725767  0.000000  7.783076     6.575891  7.922238   \n",
       "3               SRR7725768  0.000000  8.555245     7.407132  6.659247   \n",
       "4               SRR7725770  1.150113  8.135226     6.840089  8.626322   \n",
       "\n",
       "     STXBP2    ADGRG1     GINS3      GZMH      XIST  ...  IGHV3-43  MYADM-AS2  \\\n",
       "0  0.000000  2.591752  8.125052  3.048034  1.728541  ...       0.0        0.0   \n",
       "1  0.000000  8.683048  6.860148  8.635401  0.000000  ...       0.0        0.0   \n",
       "2  7.388587  0.000000  9.744305  4.351330  0.000000  ...       0.0        0.0   \n",
       "3  0.000000  7.408645  0.404595  8.011064  0.000000  ...       0.0        0.0   \n",
       "4  0.000000  3.858808  7.499813  2.710086  0.732019  ...       0.0        0.0   \n",
       "\n",
       "   ALDH1A3  NDUFV1-DT  ASCL5  KCNJ12  SPRR4  HSD17B3-AS1  LOC114841035  \\\n",
       "0      0.0        0.0    0.0     0.0    0.0          0.0           0.0   \n",
       "1      0.0        0.0    0.0     0.0    0.0          0.0           0.0   \n",
       "2      0.0        0.0    0.0     0.0    0.0          0.0           0.0   \n",
       "3      0.0        0.0    0.0     0.0    0.0          0.0           0.0   \n",
       "4      0.0        0.0    0.0     0.0    0.0          0.0           0.0   \n",
       "\n",
       "     Group  \n",
       "0  healthy  \n",
       "1  healthy  \n",
       "2  healthy  \n",
       "3  healthy  \n",
       "4  healthy  \n",
       "\n",
       "[5 rows x 31646 columns]"
      ]
     },
     "execution_count": 23,
     "metadata": {},
     "output_type": "execute_result"
    }
   ],
   "source": [
    "import pandas as pd\n",
    "\n",
    "# Use a raw string by adding 'r' before the file path\n",
    "file_path = r'SRP158491_normalized_logscaled_std_sorted.csv'\n",
    "\n",
    "# Read the CSV file\n",
    "df = pd.read_csv(file_path)\n",
    "\n",
    "# Display the first few rows\n",
    "df.head()"
   ]
  },
  {
   "cell_type": "code",
   "execution_count": 24,
   "id": "9863ebfc-08c1-49bb-86e1-08922ede5343",
   "metadata": {},
   "outputs": [
    {
     "data": {
      "text/plain": [
       "(119, 31644)"
      ]
     },
     "execution_count": 24,
     "metadata": {},
     "output_type": "execute_result"
    }
   ],
   "source": [
    "# Select only numeric columns (genes)\n",
    "df_numeric = df.select_dtypes(include=[float, int])\n",
    "\n",
    "# Display the shape to confirm it's working\n",
    "df_numeric.shape"
   ]
  },
  {
   "cell_type": "code",
   "execution_count": 25,
   "id": "d1364d83-b163-4408-ab0e-1b1a9725f70f",
   "metadata": {},
   "outputs": [
    {
     "data": {
      "text/plain": [
       "(119, 5000)"
      ]
     },
     "execution_count": 25,
     "metadata": {},
     "output_type": "execute_result"
    }
   ],
   "source": [
    "# Calculate the variance for each gene\n",
    "gene_variances = df_numeric.var(axis=0)\n",
    "\n",
    "# Select the top 5,000 genes with the highest variance\n",
    "top_5000_genes = gene_variances.nlargest(5000).index\n",
    "\n",
    "# Subset the dataframe to only include those top 5,000 genes\n",
    "df_top_5000_genes = df_numeric[top_5000_genes]\n",
    "\n",
    "# Display the new shape of the data to confirm\n",
    "df_top_5000_genes.shape"
   ]
  },
  {
   "cell_type": "markdown",
   "id": "e26ef218-dd03-4530-bcc2-69c7cb43155b",
   "metadata": {},
   "source": [
    "## Perform PAM Clustering for different k"
   ]
  },
  {
   "cell_type": "code",
   "execution_count": 18,
   "id": "379fe08c-982d-46d4-ac1e-30e85e9fec9b",
   "metadata": {},
   "outputs": [
    {
     "name": "stdout",
     "output_type": "stream",
     "text": [
      "\n",
      "Number of Clusters (k=2):\n",
      "Clusters: [[0, 1, 2, 3, 4, 5, 6, 7, 8, 9, 10, 11, 12, 13, 14, 15, 16, 17, 20, 21, 22, 23, 24, 25, 27, 28, 29, 30, 31, 32, 33, 34, 35, 36, 37, 38, 39, 40, 41, 42, 43, 44, 45, 46, 47, 48, 49, 50, 51, 52, 53, 54, 55, 56, 57, 58, 59, 60, 61, 62, 63, 64, 65, 66, 67, 68, 69, 70, 71, 72, 73, 74, 75, 76, 77, 78, 79, 81, 82, 83, 84, 85, 86, 87, 89, 90, 91, 92, 93, 94, 95, 96, 97, 98, 99, 100, 101, 102, 103, 104, 105, 106, 107, 108, 109, 110, 111, 112, 113, 114, 115, 116, 117, 118], [18, 19, 26, 80, 88]]\n",
      "Medoids: [31 88]\n",
      "Silhouette Score: 0.5045946596283893\n",
      "\n",
      "Number of Clusters (k=3):\n",
      "Clusters: [[0, 2, 4, 6, 10, 11, 13, 15, 16, 22, 24, 25, 29, 34, 35, 37, 41, 42, 44, 49, 51, 55, 58, 62, 66, 69, 73, 74, 76, 81, 83, 85, 86, 87, 90, 92, 95, 96, 98, 100, 103, 106, 107, 112, 114, 118], [1, 3, 5, 7, 8, 9, 12, 14, 17, 20, 21, 23, 27, 28, 30, 31, 32, 33, 36, 38, 39, 40, 43, 45, 46, 47, 48, 50, 52, 53, 54, 56, 57, 59, 60, 61, 63, 64, 65, 67, 68, 70, 71, 72, 75, 77, 78, 79, 82, 84, 89, 91, 93, 94, 97, 99, 101, 102, 104, 105, 108, 109, 110, 111, 113, 115, 116, 117], [18, 19, 26, 80, 88]]\n",
      "Medoids: [76 94 19]\n",
      "Silhouette Score: 0.17085639347485285\n",
      "\n",
      "Number of Clusters (k=4):\n",
      "Clusters: [[0, 2, 7, 11, 12, 16, 17, 24, 30, 31, 35, 38, 42, 45, 48, 49, 50, 52, 56, 57, 59, 62, 63, 67, 70, 74, 75, 77, 81, 82, 86, 90, 91, 93, 96, 101, 102, 104, 107, 108, 109, 113, 115], [18, 19, 26, 80, 88], [4, 6, 10, 13, 15, 22, 25, 29, 34, 37, 41, 44, 51, 55, 58, 66, 69, 73, 76, 83, 85, 87, 92, 95, 98, 100, 103, 106, 112, 114, 118], [1, 3, 5, 8, 9, 14, 20, 21, 23, 27, 28, 32, 33, 36, 39, 40, 43, 46, 47, 53, 54, 60, 61, 64, 65, 68, 71, 72, 78, 79, 84, 89, 94, 97, 99, 105, 110, 111, 116, 117]]\n",
      "Medoids: [74 19 76 53]\n",
      "Silhouette Score: 0.14036603502761527\n",
      "\n",
      "Number of Clusters (k=5):\n",
      "Clusters: [[7, 12, 16, 17, 24, 30, 31, 35, 38, 42, 43, 45, 48, 49, 50, 56, 57, 59, 63, 67, 68, 74, 81, 86, 90, 91, 93, 96, 97, 101, 102, 104, 107, 108, 109, 113, 115], [1, 2, 14, 20, 21, 23, 28, 32, 33, 36, 52, 64, 65, 75, 77, 78, 79, 82, 84, 89, 99, 110, 111], [0, 4, 6, 10, 11, 13, 15, 22, 25, 29, 34, 37, 41, 44, 51, 55, 58, 62, 66, 69, 73, 76, 83, 85, 87, 92, 95, 98, 100, 103, 106, 112, 114, 118], [3, 5, 8, 9, 27, 39, 40, 46, 47, 53, 54, 60, 61, 70, 71, 72, 94, 105, 116, 117], [18, 19, 26, 80, 88]]\n",
      "Medoids: [108  78  76  71  19]\n",
      "Silhouette Score: 0.13163657740037044\n"
     ]
    }
   ],
   "source": [
    "from sklearn.metrics import silhouette_score\n",
    "\n",
    "# Convert the dataframe to a NumPy array\n",
    "data = df_top_5000_genes.to_numpy()\n",
    "\n",
    "# Define a range of k values to explore\n",
    "k_values = [2, 3, 4, 5]\n",
    "\n",
    "# Store results\n",
    "cluster_results = {}\n",
    "silhouette_scores = {}\n",
    "\n",
    "for k in k_values:\n",
    "    # Set random seed for reproducibility\n",
    "    np.random.seed(42)\n",
    "    \n",
    "    # Initialize medoids randomly for each k\n",
    "    initial_medoids = np.random.choice(len(data), k, replace=False)\n",
    "    \n",
    "    # Create and process PAM instance\n",
    "    pam_instance = kmedoids(data, initial_medoids)\n",
    "    pam_instance.process()\n",
    "    \n",
    "    # Get clusters and medoids\n",
    "    clusters = pam_instance.get_clusters()\n",
    "    medoids = pam_instance.get_medoids()\n",
    "    \n",
    "    # Assign cluster labels\n",
    "    labels = np.zeros(len(data))\n",
    "    for cluster_idx, cluster in enumerate(clusters):\n",
    "        for sample_idx in cluster:\n",
    "            labels[sample_idx] = cluster_idx\n",
    "    \n",
    "    # Calculate Silhouette Score\n",
    "    try:\n",
    "        score = silhouette_score(data, labels)\n",
    "    except ValueError:\n",
    "        score = 'Undefined (only one cluster present)'\n",
    "    \n",
    "    # Store results\n",
    "    cluster_results[k] = clusters\n",
    "    silhouette_scores[k] = score\n",
    "    \n",
    "    print(f\"\\nNumber of Clusters (k={k}):\")\n",
    "    print(\"Clusters:\", clusters)\n",
    "    print(\"Medoids:\", medoids)\n",
    "    print(f\"Silhouette Score: {score}\")"
   ]
  },
  {
   "cell_type": "markdown",
   "id": "573045e5",
   "metadata": {},
   "source": [
    "## PAM clustering for different numbers of genes (10, 100, 1,000, 10,000) using k = 3"
   ]
  },
  {
   "cell_type": "code",
   "execution_count": 28,
   "id": "94cc3c3c",
   "metadata": {},
   "outputs": [
    {
     "name": "stdout",
     "output_type": "stream",
     "text": [
      "Clustering completed for top 10 genes.\n",
      "Clustering completed for top 100 genes.\n",
      "Clustering completed for top 1000 genes.\n",
      "Clustering completed for top 10000 genes.\n"
     ]
    }
   ],
   "source": [
    "import numpy as np\n",
    "import pandas as pd\n",
    "from pyclustering.cluster.kmedoids import kmedoids\n",
    "from sklearn.metrics import silhouette_score\n",
    "\n",
    "# Define the different numbers of genes to test\n",
    "gene_counts = [10, 100, 1000, 10000]\n",
    "\n",
    "# Store clustering results\n",
    "clustering_results = {}\n",
    "\n",
    "for n_genes in gene_counts:\n",
    "    # Select top n_genes based on variance\n",
    "    gene_variances = df_top_5000_genes.var(axis=0)\n",
    "    top_genes = gene_variances.nlargest(n_genes).index\n",
    "    df_top_genes = df_top_5000_genes[top_genes]\n",
    "    data = df_top_genes.to_numpy()\n",
    "    \n",
    "    # Perform PAM clustering with k = 3\n",
    "    np.random.seed(42)\n",
    "    initial_medoids = np.random.choice(len(data), 3, replace=False)\n",
    "    pam_instance = kmedoids(data, initial_medoids)\n",
    "    pam_instance.process()\n",
    "    clusters = pam_instance.get_clusters()\n",
    "    \n",
    "    # Assign cluster labels\n",
    "    labels = np.zeros(len(data), dtype=int)\n",
    "    for cluster_idx, cluster in enumerate(clusters):\n",
    "        for sample_idx in cluster:\n",
    "            labels[sample_idx] = cluster_idx\n",
    "    \n",
    "    # Store the labels\n",
    "    clustering_results[n_genes] = labels\n",
    "    \n",
    "    print(f\"Clustering completed for top {n_genes} genes.\")"
   ]
  },
  {
   "cell_type": "markdown",
   "id": "9020a656",
   "metadata": {},
   "source": [
    "## Compare Clustering Results Using Chi-Squared Tests"
   ]
  },
  {
   "cell_type": "code",
   "execution_count": 37,
   "id": "082c3a75",
   "metadata": {},
   "outputs": [
    {
     "data": {
      "application/vnd.plotly.v1+json": {
       "config": {
        "plotlyServerURL": "https://plot.ly"
       },
       "data": [
        {
         "link": {
          "source": [
           0,
           0,
           0,
           1,
           1,
           2,
           2,
           3,
           3,
           4,
           4,
           5,
           5,
           6,
           6,
           6,
           7,
           8,
           8,
           8
          ],
          "target": [
           3,
           4,
           5,
           4,
           5,
           4,
           5,
           6,
           8,
           6,
           7,
           6,
           8,
           9,
           10,
           11,
           10,
           9,
           10,
           11
          ],
          "value": [
           35,
           11,
           5,
           18,
           17,
           27,
           6,
           24,
           11,
           12,
           44,
           5,
           23,
           15,
           23,
           3,
           44,
           31,
           1,
           2
          ]
         },
         "node": {
          "label": [
           "10 Genes Cluster 0",
           "10 Genes Cluster 1",
           "10 Genes Cluster 2",
           "100 Genes Cluster 0",
           "100 Genes Cluster 1",
           "100 Genes Cluster 2",
           "1000 Genes Cluster 0",
           "1000 Genes Cluster 1",
           "1000 Genes Cluster 2",
           "10000 Genes Cluster 0",
           "10000 Genes Cluster 1",
           "10000 Genes Cluster 2"
          ],
          "pad": 15,
          "thickness": 20
         },
         "type": "sankey"
        }
       ],
       "layout": {
        "font": {
         "size": 10
        },
        "template": {
         "data": {
          "bar": [
           {
            "error_x": {
             "color": "#2a3f5f"
            },
            "error_y": {
             "color": "#2a3f5f"
            },
            "marker": {
             "line": {
              "color": "#E5ECF6",
              "width": 0.5
             },
             "pattern": {
              "fillmode": "overlay",
              "size": 10,
              "solidity": 0.2
             }
            },
            "type": "bar"
           }
          ],
          "barpolar": [
           {
            "marker": {
             "line": {
              "color": "#E5ECF6",
              "width": 0.5
             },
             "pattern": {
              "fillmode": "overlay",
              "size": 10,
              "solidity": 0.2
             }
            },
            "type": "barpolar"
           }
          ],
          "carpet": [
           {
            "aaxis": {
             "endlinecolor": "#2a3f5f",
             "gridcolor": "white",
             "linecolor": "white",
             "minorgridcolor": "white",
             "startlinecolor": "#2a3f5f"
            },
            "baxis": {
             "endlinecolor": "#2a3f5f",
             "gridcolor": "white",
             "linecolor": "white",
             "minorgridcolor": "white",
             "startlinecolor": "#2a3f5f"
            },
            "type": "carpet"
           }
          ],
          "choropleth": [
           {
            "colorbar": {
             "outlinewidth": 0,
             "ticks": ""
            },
            "type": "choropleth"
           }
          ],
          "contour": [
           {
            "colorbar": {
             "outlinewidth": 0,
             "ticks": ""
            },
            "colorscale": [
             [
              0,
              "#0d0887"
             ],
             [
              0.1111111111111111,
              "#46039f"
             ],
             [
              0.2222222222222222,
              "#7201a8"
             ],
             [
              0.3333333333333333,
              "#9c179e"
             ],
             [
              0.4444444444444444,
              "#bd3786"
             ],
             [
              0.5555555555555556,
              "#d8576b"
             ],
             [
              0.6666666666666666,
              "#ed7953"
             ],
             [
              0.7777777777777778,
              "#fb9f3a"
             ],
             [
              0.8888888888888888,
              "#fdca26"
             ],
             [
              1,
              "#f0f921"
             ]
            ],
            "type": "contour"
           }
          ],
          "contourcarpet": [
           {
            "colorbar": {
             "outlinewidth": 0,
             "ticks": ""
            },
            "type": "contourcarpet"
           }
          ],
          "heatmap": [
           {
            "colorbar": {
             "outlinewidth": 0,
             "ticks": ""
            },
            "colorscale": [
             [
              0,
              "#0d0887"
             ],
             [
              0.1111111111111111,
              "#46039f"
             ],
             [
              0.2222222222222222,
              "#7201a8"
             ],
             [
              0.3333333333333333,
              "#9c179e"
             ],
             [
              0.4444444444444444,
              "#bd3786"
             ],
             [
              0.5555555555555556,
              "#d8576b"
             ],
             [
              0.6666666666666666,
              "#ed7953"
             ],
             [
              0.7777777777777778,
              "#fb9f3a"
             ],
             [
              0.8888888888888888,
              "#fdca26"
             ],
             [
              1,
              "#f0f921"
             ]
            ],
            "type": "heatmap"
           }
          ],
          "heatmapgl": [
           {
            "colorbar": {
             "outlinewidth": 0,
             "ticks": ""
            },
            "colorscale": [
             [
              0,
              "#0d0887"
             ],
             [
              0.1111111111111111,
              "#46039f"
             ],
             [
              0.2222222222222222,
              "#7201a8"
             ],
             [
              0.3333333333333333,
              "#9c179e"
             ],
             [
              0.4444444444444444,
              "#bd3786"
             ],
             [
              0.5555555555555556,
              "#d8576b"
             ],
             [
              0.6666666666666666,
              "#ed7953"
             ],
             [
              0.7777777777777778,
              "#fb9f3a"
             ],
             [
              0.8888888888888888,
              "#fdca26"
             ],
             [
              1,
              "#f0f921"
             ]
            ],
            "type": "heatmapgl"
           }
          ],
          "histogram": [
           {
            "marker": {
             "pattern": {
              "fillmode": "overlay",
              "size": 10,
              "solidity": 0.2
             }
            },
            "type": "histogram"
           }
          ],
          "histogram2d": [
           {
            "colorbar": {
             "outlinewidth": 0,
             "ticks": ""
            },
            "colorscale": [
             [
              0,
              "#0d0887"
             ],
             [
              0.1111111111111111,
              "#46039f"
             ],
             [
              0.2222222222222222,
              "#7201a8"
             ],
             [
              0.3333333333333333,
              "#9c179e"
             ],
             [
              0.4444444444444444,
              "#bd3786"
             ],
             [
              0.5555555555555556,
              "#d8576b"
             ],
             [
              0.6666666666666666,
              "#ed7953"
             ],
             [
              0.7777777777777778,
              "#fb9f3a"
             ],
             [
              0.8888888888888888,
              "#fdca26"
             ],
             [
              1,
              "#f0f921"
             ]
            ],
            "type": "histogram2d"
           }
          ],
          "histogram2dcontour": [
           {
            "colorbar": {
             "outlinewidth": 0,
             "ticks": ""
            },
            "colorscale": [
             [
              0,
              "#0d0887"
             ],
             [
              0.1111111111111111,
              "#46039f"
             ],
             [
              0.2222222222222222,
              "#7201a8"
             ],
             [
              0.3333333333333333,
              "#9c179e"
             ],
             [
              0.4444444444444444,
              "#bd3786"
             ],
             [
              0.5555555555555556,
              "#d8576b"
             ],
             [
              0.6666666666666666,
              "#ed7953"
             ],
             [
              0.7777777777777778,
              "#fb9f3a"
             ],
             [
              0.8888888888888888,
              "#fdca26"
             ],
             [
              1,
              "#f0f921"
             ]
            ],
            "type": "histogram2dcontour"
           }
          ],
          "mesh3d": [
           {
            "colorbar": {
             "outlinewidth": 0,
             "ticks": ""
            },
            "type": "mesh3d"
           }
          ],
          "parcoords": [
           {
            "line": {
             "colorbar": {
              "outlinewidth": 0,
              "ticks": ""
             }
            },
            "type": "parcoords"
           }
          ],
          "pie": [
           {
            "automargin": true,
            "type": "pie"
           }
          ],
          "scatter": [
           {
            "fillpattern": {
             "fillmode": "overlay",
             "size": 10,
             "solidity": 0.2
            },
            "type": "scatter"
           }
          ],
          "scatter3d": [
           {
            "line": {
             "colorbar": {
              "outlinewidth": 0,
              "ticks": ""
             }
            },
            "marker": {
             "colorbar": {
              "outlinewidth": 0,
              "ticks": ""
             }
            },
            "type": "scatter3d"
           }
          ],
          "scattercarpet": [
           {
            "marker": {
             "colorbar": {
              "outlinewidth": 0,
              "ticks": ""
             }
            },
            "type": "scattercarpet"
           }
          ],
          "scattergeo": [
           {
            "marker": {
             "colorbar": {
              "outlinewidth": 0,
              "ticks": ""
             }
            },
            "type": "scattergeo"
           }
          ],
          "scattergl": [
           {
            "marker": {
             "colorbar": {
              "outlinewidth": 0,
              "ticks": ""
             }
            },
            "type": "scattergl"
           }
          ],
          "scattermapbox": [
           {
            "marker": {
             "colorbar": {
              "outlinewidth": 0,
              "ticks": ""
             }
            },
            "type": "scattermapbox"
           }
          ],
          "scatterpolar": [
           {
            "marker": {
             "colorbar": {
              "outlinewidth": 0,
              "ticks": ""
             }
            },
            "type": "scatterpolar"
           }
          ],
          "scatterpolargl": [
           {
            "marker": {
             "colorbar": {
              "outlinewidth": 0,
              "ticks": ""
             }
            },
            "type": "scatterpolargl"
           }
          ],
          "scatterternary": [
           {
            "marker": {
             "colorbar": {
              "outlinewidth": 0,
              "ticks": ""
             }
            },
            "type": "scatterternary"
           }
          ],
          "surface": [
           {
            "colorbar": {
             "outlinewidth": 0,
             "ticks": ""
            },
            "colorscale": [
             [
              0,
              "#0d0887"
             ],
             [
              0.1111111111111111,
              "#46039f"
             ],
             [
              0.2222222222222222,
              "#7201a8"
             ],
             [
              0.3333333333333333,
              "#9c179e"
             ],
             [
              0.4444444444444444,
              "#bd3786"
             ],
             [
              0.5555555555555556,
              "#d8576b"
             ],
             [
              0.6666666666666666,
              "#ed7953"
             ],
             [
              0.7777777777777778,
              "#fb9f3a"
             ],
             [
              0.8888888888888888,
              "#fdca26"
             ],
             [
              1,
              "#f0f921"
             ]
            ],
            "type": "surface"
           }
          ],
          "table": [
           {
            "cells": {
             "fill": {
              "color": "#EBF0F8"
             },
             "line": {
              "color": "white"
             }
            },
            "header": {
             "fill": {
              "color": "#C8D4E3"
             },
             "line": {
              "color": "white"
             }
            },
            "type": "table"
           }
          ]
         },
         "layout": {
          "annotationdefaults": {
           "arrowcolor": "#2a3f5f",
           "arrowhead": 0,
           "arrowwidth": 1
          },
          "autotypenumbers": "strict",
          "coloraxis": {
           "colorbar": {
            "outlinewidth": 0,
            "ticks": ""
           }
          },
          "colorscale": {
           "diverging": [
            [
             0,
             "#8e0152"
            ],
            [
             0.1,
             "#c51b7d"
            ],
            [
             0.2,
             "#de77ae"
            ],
            [
             0.3,
             "#f1b6da"
            ],
            [
             0.4,
             "#fde0ef"
            ],
            [
             0.5,
             "#f7f7f7"
            ],
            [
             0.6,
             "#e6f5d0"
            ],
            [
             0.7,
             "#b8e186"
            ],
            [
             0.8,
             "#7fbc41"
            ],
            [
             0.9,
             "#4d9221"
            ],
            [
             1,
             "#276419"
            ]
           ],
           "sequential": [
            [
             0,
             "#0d0887"
            ],
            [
             0.1111111111111111,
             "#46039f"
            ],
            [
             0.2222222222222222,
             "#7201a8"
            ],
            [
             0.3333333333333333,
             "#9c179e"
            ],
            [
             0.4444444444444444,
             "#bd3786"
            ],
            [
             0.5555555555555556,
             "#d8576b"
            ],
            [
             0.6666666666666666,
             "#ed7953"
            ],
            [
             0.7777777777777778,
             "#fb9f3a"
            ],
            [
             0.8888888888888888,
             "#fdca26"
            ],
            [
             1,
             "#f0f921"
            ]
           ],
           "sequentialminus": [
            [
             0,
             "#0d0887"
            ],
            [
             0.1111111111111111,
             "#46039f"
            ],
            [
             0.2222222222222222,
             "#7201a8"
            ],
            [
             0.3333333333333333,
             "#9c179e"
            ],
            [
             0.4444444444444444,
             "#bd3786"
            ],
            [
             0.5555555555555556,
             "#d8576b"
            ],
            [
             0.6666666666666666,
             "#ed7953"
            ],
            [
             0.7777777777777778,
             "#fb9f3a"
            ],
            [
             0.8888888888888888,
             "#fdca26"
            ],
            [
             1,
             "#f0f921"
            ]
           ]
          },
          "colorway": [
           "#636efa",
           "#EF553B",
           "#00cc96",
           "#ab63fa",
           "#FFA15A",
           "#19d3f3",
           "#FF6692",
           "#B6E880",
           "#FF97FF",
           "#FECB52"
          ],
          "font": {
           "color": "#2a3f5f"
          },
          "geo": {
           "bgcolor": "white",
           "lakecolor": "white",
           "landcolor": "#E5ECF6",
           "showlakes": true,
           "showland": true,
           "subunitcolor": "white"
          },
          "hoverlabel": {
           "align": "left"
          },
          "hovermode": "closest",
          "mapbox": {
           "style": "light"
          },
          "paper_bgcolor": "white",
          "plot_bgcolor": "#E5ECF6",
          "polar": {
           "angularaxis": {
            "gridcolor": "white",
            "linecolor": "white",
            "ticks": ""
           },
           "bgcolor": "#E5ECF6",
           "radialaxis": {
            "gridcolor": "white",
            "linecolor": "white",
            "ticks": ""
           }
          },
          "scene": {
           "xaxis": {
            "backgroundcolor": "#E5ECF6",
            "gridcolor": "white",
            "gridwidth": 2,
            "linecolor": "white",
            "showbackground": true,
            "ticks": "",
            "zerolinecolor": "white"
           },
           "yaxis": {
            "backgroundcolor": "#E5ECF6",
            "gridcolor": "white",
            "gridwidth": 2,
            "linecolor": "white",
            "showbackground": true,
            "ticks": "",
            "zerolinecolor": "white"
           },
           "zaxis": {
            "backgroundcolor": "#E5ECF6",
            "gridcolor": "white",
            "gridwidth": 2,
            "linecolor": "white",
            "showbackground": true,
            "ticks": "",
            "zerolinecolor": "white"
           }
          },
          "shapedefaults": {
           "line": {
            "color": "#2a3f5f"
           }
          },
          "ternary": {
           "aaxis": {
            "gridcolor": "white",
            "linecolor": "white",
            "ticks": ""
           },
           "baxis": {
            "gridcolor": "white",
            "linecolor": "white",
            "ticks": ""
           },
           "bgcolor": "#E5ECF6",
           "caxis": {
            "gridcolor": "white",
            "linecolor": "white",
            "ticks": ""
           }
          },
          "title": {
           "x": 0.05
          },
          "xaxis": {
           "automargin": true,
           "gridcolor": "white",
           "linecolor": "white",
           "ticks": "",
           "title": {
            "standoff": 15
           },
           "zerolinecolor": "white",
           "zerolinewidth": 2
          },
          "yaxis": {
           "automargin": true,
           "gridcolor": "white",
           "linecolor": "white",
           "ticks": "",
           "title": {
            "standoff": 15
           },
           "zerolinecolor": "white",
           "zerolinewidth": 2
          }
         }
        },
        "title": {
         "text": "Cluster Membership Changes: 10, 100, 1000, and 10000 Genes"
        }
       }
      }
     },
     "metadata": {},
     "output_type": "display_data"
    }
   ],
   "source": [
    "import pandas as pd\n",
    "import numpy as np\n",
    "import plotly.graph_objects as go\n",
    "\n",
    "# Define the gene counts you want to compare\n",
    "gene_counts = [10, 100, 1000, 10000]\n",
    "\n",
    "# Initialize empty lists for sources, targets, values, and labels\n",
    "sources = []\n",
    "targets = []\n",
    "values = []\n",
    "labels = []\n",
    "\n",
    "# Create a global label index to avoid duplicate label names\n",
    "label_dict = {}\n",
    "\n",
    "# Keep track of how many labels we have so far\n",
    "current_label_idx = 0\n",
    "\n",
    "# Loop through consecutive pairs of gene counts and generate transition counts\n",
    "for i in range(len(gene_counts) - 1):\n",
    "    n_genes1 = gene_counts[i]\n",
    "    n_genes2 = gene_counts[i + 1]\n",
    "\n",
    "    # Get the clustering labels for each gene count\n",
    "    labels1 = clustering_results[n_genes1]\n",
    "    labels2 = clustering_results[n_genes2]\n",
    "\n",
    "    # Create a DataFrame for the Sankey plot\n",
    "    sankey_df = pd.DataFrame({\n",
    "        'Source': labels1,\n",
    "        'Target': labels2\n",
    "    })\n",
    "\n",
    "    # Count the transitions\n",
    "    transition_counts = sankey_df.groupby(['Source', 'Target']).size().reset_index(name='Count')\n",
    "\n",
    "    # Define unique labels for source and target clusters\n",
    "    source_labels = [f'{n_genes1} Genes Cluster {i}' for i in np.unique(labels1)]\n",
    "    target_labels = [f'{n_genes2} Genes Cluster {i}' for i in np.unique(labels2)]\n",
    "    \n",
    "    # Add new labels to the global dictionary and assign them an index\n",
    "    for label in source_labels + target_labels:\n",
    "        if label not in label_dict:\n",
    "            label_dict[label] = current_label_idx\n",
    "            current_label_idx += 1\n",
    "\n",
    "    # Map the clusters to the indices for plotting\n",
    "    transition_counts['Source_Idx'] = transition_counts['Source'].map(lambda x: label_dict[f'{n_genes1} Genes Cluster {x}'])\n",
    "    transition_counts['Target_Idx'] = transition_counts['Target'].map(lambda x: label_dict[f'{n_genes2} Genes Cluster {x}'])\n",
    "\n",
    "    # Append sources, targets, and values to the global lists\n",
    "    sources += list(transition_counts['Source_Idx'])\n",
    "    targets += list(transition_counts['Target_Idx'])\n",
    "    values += list(transition_counts['Count'])\n",
    "\n",
    "# Extract labels for the plot\n",
    "labels = list(label_dict.keys())\n",
    "\n",
    "# Create the Sankey plot\n",
    "fig = go.Figure(data=[go.Sankey(\n",
    "    node=dict(\n",
    "        pad=15,\n",
    "        thickness=20,\n",
    "        label=labels\n",
    "    ),\n",
    "    link=dict(\n",
    "        source=sources,\n",
    "        target=targets,\n",
    "        value=values\n",
    "    ))])\n",
    "\n",
    "# Update layout with a meaningful title\n",
    "fig.update_layout(title_text=\"Cluster Membership Changes: 10, 100, 1000, and 10000 Genes\", font_size=10)\n",
    "fig.show()"
   ]
  },
  {
   "cell_type": "markdown",
   "id": "3aedfa4c",
   "metadata": {},
   "source": [
    "## Create Alluvial Diagram (Sankey Plot)"
   ]
  },
  {
   "cell_type": "code",
   "execution_count": 36,
   "id": "6ded9d94",
   "metadata": {},
   "outputs": [
    {
     "ename": "KeyError",
     "evalue": "5000",
     "output_type": "error",
     "traceback": [
      "\u001b[0;31m---------------------------------------------------------------------------\u001b[0m",
      "\u001b[0;31mKeyError\u001b[0m                                  Traceback (most recent call last)",
      "Cell \u001b[0;32mIn[36], line 27\u001b[0m\n\u001b[1;32m     25\u001b[0m \u001b[38;5;66;03m# Get the clustering labels for each gene count\u001b[39;00m\n\u001b[1;32m     26\u001b[0m labels1 \u001b[38;5;241m=\u001b[39m clustering_results[n_genes1]\n\u001b[0;32m---> 27\u001b[0m labels2 \u001b[38;5;241m=\u001b[39m \u001b[43mclustering_results\u001b[49m\u001b[43m[\u001b[49m\u001b[43mn_genes2\u001b[49m\u001b[43m]\u001b[49m\n\u001b[1;32m     29\u001b[0m \u001b[38;5;66;03m# Create a DataFrame for the Sankey plot\u001b[39;00m\n\u001b[1;32m     30\u001b[0m sankey_df \u001b[38;5;241m=\u001b[39m pd\u001b[38;5;241m.\u001b[39mDataFrame({\n\u001b[1;32m     31\u001b[0m     \u001b[38;5;124m'\u001b[39m\u001b[38;5;124mSource\u001b[39m\u001b[38;5;124m'\u001b[39m: labels1,\n\u001b[1;32m     32\u001b[0m     \u001b[38;5;124m'\u001b[39m\u001b[38;5;124mTarget\u001b[39m\u001b[38;5;124m'\u001b[39m: labels2\n\u001b[1;32m     33\u001b[0m })\n",
      "\u001b[0;31mKeyError\u001b[0m: 5000"
     ]
    }
   ],
   "source": [
    "import pandas as pd\n",
    "import numpy as np\n",
    "import plotly.graph_objects as go\n",
    "\n",
    "# Define the gene counts you want to compare\n",
    "gene_counts = [10, 100, 1000, 5000, 10000]\n",
    "\n",
    "# Initialize empty lists for sources, targets, values, and labels\n",
    "sources = []\n",
    "targets = []\n",
    "values = []\n",
    "labels = []\n",
    "\n",
    "# Create a global label index to avoid duplicate label names\n",
    "label_dict = {}\n",
    "\n",
    "# Keep track of how many labels we have so far\n",
    "current_label_idx = 0\n",
    "\n",
    "# Loop through consecutive pairs of gene counts and generate transition counts\n",
    "for i in range(len(gene_counts) - 1):\n",
    "    n_genes1 = gene_counts[i]\n",
    "    n_genes2 = gene_counts[i + 1]\n",
    "\n",
    "    # Get the clustering labels for each gene count\n",
    "    labels1 = clustering_results[n_genes1]\n",
    "    labels2 = clustering_results[n_genes2]\n",
    "\n",
    "    # Create a DataFrame for the Sankey plot\n",
    "    sankey_df = pd.DataFrame({\n",
    "        'Source': labels1,\n",
    "        'Target': labels2\n",
    "    })\n",
    "\n",
    "    # Count the transitions\n",
    "    transition_counts = sankey_df.groupby(['Source', 'Target']).size().reset_index(name='Count')\n",
    "\n",
    "    # Define unique labels for source and target clusters\n",
    "    source_labels = [f'{n_genes1} Genes Cluster {i}' for i in np.unique(labels1)]\n",
    "    target_labels = [f'{n_genes2} Genes Cluster {i}' for i in np.unique(labels2)]\n",
    "    \n",
    "    # Add new labels to the global dictionary and assign them an index\n",
    "    for label in source_labels + target_labels:\n",
    "        if label not in label_dict:\n",
    "            label_dict[label] = current_label_idx\n",
    "            current_label_idx += 1\n",
    "\n",
    "    # Map the clusters to the indices for plotting\n",
    "    transition_counts['Source_Idx'] = transition_counts['Source'].map(lambda x: label_dict[f'{n_genes1} Genes Cluster {x}'])\n",
    "    transition_counts['Target_Idx'] = transition_counts['Target'].map(lambda x: label_dict[f'{n_genes2} Genes Cluster {x}'])\n",
    "\n",
    "    # Append sources, targets, and values to the global lists\n",
    "    sources += list(transition_counts['Source_Idx'])\n",
    "    targets += list(transition_counts['Target_Idx'])\n",
    "    values += list(transition_counts['Count'])\n",
    "\n",
    "# Extract labels for the plot\n",
    "labels = list(label_dict.keys())\n",
    "\n",
    "# Create the Sankey plot\n",
    "fig = go.Figure(data=[go.Sankey(\n",
    "    node=dict(\n",
    "        pad=15,\n",
    "        thickness=20,\n",
    "        label=labels\n",
    "    ),\n",
    "    link=dict(\n",
    "        source=sources,\n",
    "        target=targets,\n",
    "        value=values\n",
    "    ))])\n",
    "\n",
    "# Update layout with a meaningful title\n",
    "fig.update_layout(title_text=\"Cluster Membership Changes: 10, 100, 1000, 5000, and 10000 Genes\", font_size=10)\n",
    "fig.show()"
   ]
  },
  {
   "cell_type": "markdown",
   "id": "aada14ff",
   "metadata": {},
   "source": [
    "## Visualization"
   ]
  },
  {
   "cell_type": "code",
   "execution_count": 34,
   "id": "41fd7266",
   "metadata": {},
   "outputs": [
    {
     "data": {
      "image/png": "[encoded data removed]",
      "text/plain": [
       "<Figure size 800x600 with 2 Axes>"
      ]
     },
     "metadata": {},
     "output_type": "display_data"
    }
   ],
   "source": [
    "import numpy as np\n",
    "import pandas as pd\n",
    "from pyclustering.cluster.kmedoids import kmedoids\n",
    "from sklearn.decomposition import PCA\n",
    "import matplotlib.pyplot as plt\n",
    "\n",
    "df_5000_numpy = df_top_5000_genes.to_numpy()\n",
    "k = 3\n",
    "np.random.seed(42)\n",
    "initial_medoids = np.random.choice(len(df_5000_numpy), k, replace=False)\n",
    "\n",
    "# Step 4: Perform PAM clustering\n",
    "pam_instance = kmedoids(df_5000_numpy, initial_medoids)\n",
    "pam_instance.process()\n",
    "\n",
    "# Step 5: Get clusters and convert them into a labeling system\n",
    "clusters = pam_instance.get_clusters()\n",
    "\n",
    "# Create an array to store the cluster labels for each sample\n",
    "kmedoids_labels = np.zeros(len(df_5000_numpy)).astype(int)\n",
    "for i, cluster in enumerate(clusters):\n",
    "    for sample_idx in cluster:\n",
    "        kmedoids_labels[sample_idx] = int(i)\n",
    "\n",
    "# Step 6: Perform PCA to reduce the data to 2 components for visualization\n",
    "pca = PCA(n_components=2)\n",
    "pca_components = pca.fit_transform(df_5000_numpy)\n",
    "\n",
    "# Step 7: Plot the PCA-transformed data with the cluster labels\n",
    "plt.figure(figsize=(8, 6))\n",
    "scatter = plt.scatter(pca_components[:, 0], pca_components[:, 1], c=kmedoids_labels, cmap='viridis', s=50)\n",
    "plt.title('PAM Clustering Results (k = 3)')\n",
    "plt.xlabel('Principal Component 1')\n",
    "plt.ylabel('Principal Component 2')\n",
    "plt.colorbar(scatter, ticks=range(k))\n",
    "plt.show()"
   ]
  }
 ],
 "metadata": {
  "kernelspec": {
   "display_name": "Python (venv)",
   "language": "python",
   "name": "venv"
  },
  "language_info": {
   "codemirror_mode": {
    "name": "ipython",
    "version": 3
   },
   "file_extension": ".py",
   "mimetype": "text/x-python",
   "name": "python",
   "nbconvert_exporter": "python",
   "pygments_lexer": "ipython3",
   "version": "3.10.1"
  }
 },
 "nbformat": 4,
 "nbformat_minor": 5
}
