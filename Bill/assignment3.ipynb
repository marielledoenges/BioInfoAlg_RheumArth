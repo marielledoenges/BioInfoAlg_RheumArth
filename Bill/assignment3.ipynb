{
 "cells": [
  {
   "cell_type": "code",
   "execution_count": 40,
   "metadata": {},
   "outputs": [],
   "source": [
    "import pandas as pd\n",
    "import numpy as np\n",
    "import matplotlib.pyplot as plt\n",
    "import seaborn as sns\n",
    "from sklearn.cluster import AgglomerativeClustering\n",
    "from numpy import linalg as LA\n",
    "from scipy.stats import chi2_contingency\n",
    "import plotly.graph_objects as go\n",
    "from sklearn.decomposition import PCA"
   ]
  },
  {
   "cell_type": "markdown",
   "metadata": {},
   "source": [
    "# Step 2"
   ]
  },
  {
   "cell_type": "code",
   "execution_count": 2,
   "metadata": {},
   "outputs": [],
   "source": [
    "# Loading Normalized log-scaled standard-deviation sorted dataframe\n",
    "df = pd.read_csv('../DataSource/SRP158491_normalized_logscaled_std_sorted.csv', index_col=0)"
   ]
  },
  {
   "cell_type": "code",
   "execution_count": 3,
   "metadata": {},
   "outputs": [
    {
     "data": {
      "text/html": [
       "<div>\n",
       "<style scoped>\n",
       "    .dataframe tbody tr th:only-of-type {\n",
       "        vertical-align: middle;\n",
       "    }\n",
       "\n",
       "    .dataframe tbody tr th {\n",
       "        vertical-align: top;\n",
       "    }\n",
       "\n",
       "    .dataframe thead th {\n",
       "        text-align: right;\n",
       "    }\n",
       "</style>\n",
       "<table border=\"1\" class=\"dataframe\">\n",
       "  <thead>\n",
       "    <tr style=\"text-align: right;\">\n",
       "      <th></th>\n",
       "      <th>CD4</th>\n",
       "      <th>CD8A</th>\n",
       "      <th>KLRC4-KLRK1</th>\n",
       "      <th>CD8B</th>\n",
       "      <th>STXBP2</th>\n",
       "      <th>ADGRG1</th>\n",
       "      <th>GINS3</th>\n",
       "      <th>GZMH</th>\n",
       "      <th>XIST</th>\n",
       "      <th>ZNG1F</th>\n",
       "      <th>...</th>\n",
       "      <th>GNG12-AS1</th>\n",
       "      <th>IGHV3-43</th>\n",
       "      <th>MYADM-AS2</th>\n",
       "      <th>ALDH1A3</th>\n",
       "      <th>NDUFV1-DT</th>\n",
       "      <th>ASCL5</th>\n",
       "      <th>KCNJ12</th>\n",
       "      <th>SPRR4</th>\n",
       "      <th>HSD17B3-AS1</th>\n",
       "      <th>LOC114841035</th>\n",
       "    </tr>\n",
       "    <tr>\n",
       "      <th>refinebio_accession_code</th>\n",
       "      <th></th>\n",
       "      <th></th>\n",
       "      <th></th>\n",
       "      <th></th>\n",
       "      <th></th>\n",
       "      <th></th>\n",
       "      <th></th>\n",
       "      <th></th>\n",
       "      <th></th>\n",
       "      <th></th>\n",
       "      <th></th>\n",
       "      <th></th>\n",
       "      <th></th>\n",
       "      <th></th>\n",
       "      <th></th>\n",
       "      <th></th>\n",
       "      <th></th>\n",
       "      <th></th>\n",
       "      <th></th>\n",
       "      <th></th>\n",
       "      <th></th>\n",
       "    </tr>\n",
       "  </thead>\n",
       "  <tbody>\n",
       "    <tr>\n",
       "      <th>SRR7725764</th>\n",
       "      <td>8.164929</td>\n",
       "      <td>0.000000</td>\n",
       "      <td>0.000000</td>\n",
       "      <td>2.165702</td>\n",
       "      <td>0.000000</td>\n",
       "      <td>2.591752</td>\n",
       "      <td>8.125052</td>\n",
       "      <td>3.048034</td>\n",
       "      <td>1.728541</td>\n",
       "      <td>0.000000</td>\n",
       "      <td>...</td>\n",
       "      <td>0.0</td>\n",
       "      <td>0.0</td>\n",
       "      <td>0.0</td>\n",
       "      <td>0.0</td>\n",
       "      <td>0.0</td>\n",
       "      <td>0.0</td>\n",
       "      <td>0.0</td>\n",
       "      <td>0.0</td>\n",
       "      <td>0.0</td>\n",
       "      <td>0.0</td>\n",
       "    </tr>\n",
       "    <tr>\n",
       "      <th>SRR7725765</th>\n",
       "      <td>8.328641</td>\n",
       "      <td>2.373090</td>\n",
       "      <td>3.572271</td>\n",
       "      <td>2.013168</td>\n",
       "      <td>0.000000</td>\n",
       "      <td>8.683048</td>\n",
       "      <td>6.860148</td>\n",
       "      <td>8.635401</td>\n",
       "      <td>0.000000</td>\n",
       "      <td>0.000000</td>\n",
       "      <td>...</td>\n",
       "      <td>0.0</td>\n",
       "      <td>0.0</td>\n",
       "      <td>0.0</td>\n",
       "      <td>0.0</td>\n",
       "      <td>0.0</td>\n",
       "      <td>0.0</td>\n",
       "      <td>0.0</td>\n",
       "      <td>0.0</td>\n",
       "      <td>0.0</td>\n",
       "      <td>0.0</td>\n",
       "    </tr>\n",
       "    <tr>\n",
       "      <th>SRR7725767</th>\n",
       "      <td>0.000000</td>\n",
       "      <td>7.783076</td>\n",
       "      <td>6.575891</td>\n",
       "      <td>7.922238</td>\n",
       "      <td>7.388587</td>\n",
       "      <td>0.000000</td>\n",
       "      <td>9.744305</td>\n",
       "      <td>4.351330</td>\n",
       "      <td>0.000000</td>\n",
       "      <td>1.317763</td>\n",
       "      <td>...</td>\n",
       "      <td>0.0</td>\n",
       "      <td>0.0</td>\n",
       "      <td>0.0</td>\n",
       "      <td>0.0</td>\n",
       "      <td>0.0</td>\n",
       "      <td>0.0</td>\n",
       "      <td>0.0</td>\n",
       "      <td>0.0</td>\n",
       "      <td>0.0</td>\n",
       "      <td>0.0</td>\n",
       "    </tr>\n",
       "    <tr>\n",
       "      <th>SRR7725768</th>\n",
       "      <td>0.000000</td>\n",
       "      <td>8.555245</td>\n",
       "      <td>7.407132</td>\n",
       "      <td>6.659247</td>\n",
       "      <td>0.000000</td>\n",
       "      <td>7.408645</td>\n",
       "      <td>0.404595</td>\n",
       "      <td>8.011064</td>\n",
       "      <td>0.000000</td>\n",
       "      <td>0.000000</td>\n",
       "      <td>...</td>\n",
       "      <td>0.0</td>\n",
       "      <td>0.0</td>\n",
       "      <td>0.0</td>\n",
       "      <td>0.0</td>\n",
       "      <td>0.0</td>\n",
       "      <td>0.0</td>\n",
       "      <td>0.0</td>\n",
       "      <td>0.0</td>\n",
       "      <td>0.0</td>\n",
       "      <td>0.0</td>\n",
       "    </tr>\n",
       "    <tr>\n",
       "      <th>SRR7725770</th>\n",
       "      <td>1.150113</td>\n",
       "      <td>8.135226</td>\n",
       "      <td>6.840089</td>\n",
       "      <td>8.626322</td>\n",
       "      <td>0.000000</td>\n",
       "      <td>3.858808</td>\n",
       "      <td>7.499813</td>\n",
       "      <td>2.710086</td>\n",
       "      <td>0.732019</td>\n",
       "      <td>1.150113</td>\n",
       "      <td>...</td>\n",
       "      <td>0.0</td>\n",
       "      <td>0.0</td>\n",
       "      <td>0.0</td>\n",
       "      <td>0.0</td>\n",
       "      <td>0.0</td>\n",
       "      <td>0.0</td>\n",
       "      <td>0.0</td>\n",
       "      <td>0.0</td>\n",
       "      <td>0.0</td>\n",
       "      <td>0.0</td>\n",
       "    </tr>\n",
       "    <tr>\n",
       "      <th>...</th>\n",
       "      <td>...</td>\n",
       "      <td>...</td>\n",
       "      <td>...</td>\n",
       "      <td>...</td>\n",
       "      <td>...</td>\n",
       "      <td>...</td>\n",
       "      <td>...</td>\n",
       "      <td>...</td>\n",
       "      <td>...</td>\n",
       "      <td>...</td>\n",
       "      <td>...</td>\n",
       "      <td>...</td>\n",
       "      <td>...</td>\n",
       "      <td>...</td>\n",
       "      <td>...</td>\n",
       "      <td>...</td>\n",
       "      <td>...</td>\n",
       "      <td>...</td>\n",
       "      <td>...</td>\n",
       "      <td>...</td>\n",
       "      <td>...</td>\n",
       "    </tr>\n",
       "    <tr>\n",
       "      <th>SRR7726017</th>\n",
       "      <td>7.544641</td>\n",
       "      <td>0.000000</td>\n",
       "      <td>0.000000</td>\n",
       "      <td>2.802657</td>\n",
       "      <td>6.284985</td>\n",
       "      <td>0.000000</td>\n",
       "      <td>5.020313</td>\n",
       "      <td>0.000000</td>\n",
       "      <td>0.000000</td>\n",
       "      <td>6.025033</td>\n",
       "      <td>...</td>\n",
       "      <td>0.0</td>\n",
       "      <td>0.0</td>\n",
       "      <td>0.0</td>\n",
       "      <td>0.0</td>\n",
       "      <td>0.0</td>\n",
       "      <td>0.0</td>\n",
       "      <td>0.0</td>\n",
       "      <td>0.0</td>\n",
       "      <td>0.0</td>\n",
       "      <td>0.0</td>\n",
       "    </tr>\n",
       "    <tr>\n",
       "      <th>SRR7726018</th>\n",
       "      <td>0.000000</td>\n",
       "      <td>7.209779</td>\n",
       "      <td>8.373188</td>\n",
       "      <td>8.040202</td>\n",
       "      <td>6.365506</td>\n",
       "      <td>3.723847</td>\n",
       "      <td>0.711232</td>\n",
       "      <td>4.589354</td>\n",
       "      <td>0.000000</td>\n",
       "      <td>0.000000</td>\n",
       "      <td>...</td>\n",
       "      <td>0.0</td>\n",
       "      <td>0.0</td>\n",
       "      <td>0.0</td>\n",
       "      <td>0.0</td>\n",
       "      <td>0.0</td>\n",
       "      <td>0.0</td>\n",
       "      <td>0.0</td>\n",
       "      <td>0.0</td>\n",
       "      <td>0.0</td>\n",
       "      <td>0.0</td>\n",
       "    </tr>\n",
       "    <tr>\n",
       "      <th>SRR7726019</th>\n",
       "      <td>0.000000</td>\n",
       "      <td>7.250339</td>\n",
       "      <td>8.480368</td>\n",
       "      <td>8.137742</td>\n",
       "      <td>0.000000</td>\n",
       "      <td>7.954921</td>\n",
       "      <td>1.351413</td>\n",
       "      <td>8.330927</td>\n",
       "      <td>1.752926</td>\n",
       "      <td>0.000000</td>\n",
       "      <td>...</td>\n",
       "      <td>0.0</td>\n",
       "      <td>0.0</td>\n",
       "      <td>0.0</td>\n",
       "      <td>0.0</td>\n",
       "      <td>0.0</td>\n",
       "      <td>0.0</td>\n",
       "      <td>0.0</td>\n",
       "      <td>0.0</td>\n",
       "      <td>0.0</td>\n",
       "      <td>0.0</td>\n",
       "    </tr>\n",
       "    <tr>\n",
       "      <th>SRR7726020</th>\n",
       "      <td>0.000000</td>\n",
       "      <td>7.538558</td>\n",
       "      <td>8.621674</td>\n",
       "      <td>7.936845</td>\n",
       "      <td>7.166590</td>\n",
       "      <td>8.835145</td>\n",
       "      <td>1.184257</td>\n",
       "      <td>8.796788</td>\n",
       "      <td>0.000000</td>\n",
       "      <td>5.297570</td>\n",
       "      <td>...</td>\n",
       "      <td>0.0</td>\n",
       "      <td>0.0</td>\n",
       "      <td>0.0</td>\n",
       "      <td>0.0</td>\n",
       "      <td>0.0</td>\n",
       "      <td>0.0</td>\n",
       "      <td>0.0</td>\n",
       "      <td>0.0</td>\n",
       "      <td>0.0</td>\n",
       "      <td>0.0</td>\n",
       "    </tr>\n",
       "    <tr>\n",
       "      <th>SRR7726021</th>\n",
       "      <td>1.211576</td>\n",
       "      <td>7.331144</td>\n",
       "      <td>8.664808</td>\n",
       "      <td>8.607863</td>\n",
       "      <td>6.416606</td>\n",
       "      <td>1.512522</td>\n",
       "      <td>0.000000</td>\n",
       "      <td>2.548966</td>\n",
       "      <td>0.000000</td>\n",
       "      <td>0.000000</td>\n",
       "      <td>...</td>\n",
       "      <td>0.0</td>\n",
       "      <td>0.0</td>\n",
       "      <td>0.0</td>\n",
       "      <td>0.0</td>\n",
       "      <td>0.0</td>\n",
       "      <td>0.0</td>\n",
       "      <td>0.0</td>\n",
       "      <td>0.0</td>\n",
       "      <td>0.0</td>\n",
       "      <td>0.0</td>\n",
       "    </tr>\n",
       "  </tbody>\n",
       "</table>\n",
       "<p>119 rows × 31644 columns</p>\n",
       "</div>"
      ],
      "text/plain": [
       "                               CD4      CD8A  KLRC4-KLRK1      CD8B    STXBP2  \\\n",
       "refinebio_accession_code                                                        \n",
       "SRR7725764                8.164929  0.000000     0.000000  2.165702  0.000000   \n",
       "SRR7725765                8.328641  2.373090     3.572271  2.013168  0.000000   \n",
       "SRR7725767                0.000000  7.783076     6.575891  7.922238  7.388587   \n",
       "SRR7725768                0.000000  8.555245     7.407132  6.659247  0.000000   \n",
       "SRR7725770                1.150113  8.135226     6.840089  8.626322  0.000000   \n",
       "...                            ...       ...          ...       ...       ...   \n",
       "SRR7726017                7.544641  0.000000     0.000000  2.802657  6.284985   \n",
       "SRR7726018                0.000000  7.209779     8.373188  8.040202  6.365506   \n",
       "SRR7726019                0.000000  7.250339     8.480368  8.137742  0.000000   \n",
       "SRR7726020                0.000000  7.538558     8.621674  7.936845  7.166590   \n",
       "SRR7726021                1.211576  7.331144     8.664808  8.607863  6.416606   \n",
       "\n",
       "                            ADGRG1     GINS3      GZMH      XIST     ZNG1F  \\\n",
       "refinebio_accession_code                                                     \n",
       "SRR7725764                2.591752  8.125052  3.048034  1.728541  0.000000   \n",
       "SRR7725765                8.683048  6.860148  8.635401  0.000000  0.000000   \n",
       "SRR7725767                0.000000  9.744305  4.351330  0.000000  1.317763   \n",
       "SRR7725768                7.408645  0.404595  8.011064  0.000000  0.000000   \n",
       "SRR7725770                3.858808  7.499813  2.710086  0.732019  1.150113   \n",
       "...                            ...       ...       ...       ...       ...   \n",
       "SRR7726017                0.000000  5.020313  0.000000  0.000000  6.025033   \n",
       "SRR7726018                3.723847  0.711232  4.589354  0.000000  0.000000   \n",
       "SRR7726019                7.954921  1.351413  8.330927  1.752926  0.000000   \n",
       "SRR7726020                8.835145  1.184257  8.796788  0.000000  5.297570   \n",
       "SRR7726021                1.512522  0.000000  2.548966  0.000000  0.000000   \n",
       "\n",
       "                          ...  GNG12-AS1  IGHV3-43  MYADM-AS2  ALDH1A3  \\\n",
       "refinebio_accession_code  ...                                            \n",
       "SRR7725764                ...        0.0       0.0        0.0      0.0   \n",
       "SRR7725765                ...        0.0       0.0        0.0      0.0   \n",
       "SRR7725767                ...        0.0       0.0        0.0      0.0   \n",
       "SRR7725768                ...        0.0       0.0        0.0      0.0   \n",
       "SRR7725770                ...        0.0       0.0        0.0      0.0   \n",
       "...                       ...        ...       ...        ...      ...   \n",
       "SRR7726017                ...        0.0       0.0        0.0      0.0   \n",
       "SRR7726018                ...        0.0       0.0        0.0      0.0   \n",
       "SRR7726019                ...        0.0       0.0        0.0      0.0   \n",
       "SRR7726020                ...        0.0       0.0        0.0      0.0   \n",
       "SRR7726021                ...        0.0       0.0        0.0      0.0   \n",
       "\n",
       "                          NDUFV1-DT  ASCL5  KCNJ12  SPRR4  HSD17B3-AS1  \\\n",
       "refinebio_accession_code                                                 \n",
       "SRR7725764                      0.0    0.0     0.0    0.0          0.0   \n",
       "SRR7725765                      0.0    0.0     0.0    0.0          0.0   \n",
       "SRR7725767                      0.0    0.0     0.0    0.0          0.0   \n",
       "SRR7725768                      0.0    0.0     0.0    0.0          0.0   \n",
       "SRR7725770                      0.0    0.0     0.0    0.0          0.0   \n",
       "...                             ...    ...     ...    ...          ...   \n",
       "SRR7726017                      0.0    0.0     0.0    0.0          0.0   \n",
       "SRR7726018                      0.0    0.0     0.0    0.0          0.0   \n",
       "SRR7726019                      0.0    0.0     0.0    0.0          0.0   \n",
       "SRR7726020                      0.0    0.0     0.0    0.0          0.0   \n",
       "SRR7726021                      0.0    0.0     0.0    0.0          0.0   \n",
       "\n",
       "                          LOC114841035  \n",
       "refinebio_accession_code                \n",
       "SRR7725764                         0.0  \n",
       "SRR7725765                         0.0  \n",
       "SRR7725767                         0.0  \n",
       "SRR7725768                         0.0  \n",
       "SRR7725770                         0.0  \n",
       "...                                ...  \n",
       "SRR7726017                         0.0  \n",
       "SRR7726018                         0.0  \n",
       "SRR7726019                         0.0  \n",
       "SRR7726020                         0.0  \n",
       "SRR7726021                         0.0  \n",
       "\n",
       "[119 rows x 31644 columns]"
      ]
     },
     "execution_count": 3,
     "metadata": {},
     "output_type": "execute_result"
    }
   ],
   "source": [
    "df"
   ]
  },
  {
   "cell_type": "code",
   "execution_count": 4,
   "metadata": {},
   "outputs": [],
   "source": [
    "# Getting top 5000 genes in terms of log-scaled standard deviation\n",
    "df_5000 = df.iloc[:, :5000]"
   ]
  },
  {
   "cell_type": "code",
   "execution_count": 5,
   "metadata": {},
   "outputs": [
    {
     "data": {
      "text/html": [
       "<div>\n",
       "<style scoped>\n",
       "    .dataframe tbody tr th:only-of-type {\n",
       "        vertical-align: middle;\n",
       "    }\n",
       "\n",
       "    .dataframe tbody tr th {\n",
       "        vertical-align: top;\n",
       "    }\n",
       "\n",
       "    .dataframe thead th {\n",
       "        text-align: right;\n",
       "    }\n",
       "</style>\n",
       "<table border=\"1\" class=\"dataframe\">\n",
       "  <thead>\n",
       "    <tr style=\"text-align: right;\">\n",
       "      <th></th>\n",
       "      <th>CD4</th>\n",
       "      <th>CD8A</th>\n",
       "      <th>KLRC4-KLRK1</th>\n",
       "      <th>CD8B</th>\n",
       "      <th>STXBP2</th>\n",
       "      <th>ADGRG1</th>\n",
       "      <th>GINS3</th>\n",
       "      <th>GZMH</th>\n",
       "      <th>XIST</th>\n",
       "      <th>ZNG1F</th>\n",
       "      <th>...</th>\n",
       "      <th>PRPSAP2</th>\n",
       "      <th>CCBE1</th>\n",
       "      <th>CADM4</th>\n",
       "      <th>ZNF80</th>\n",
       "      <th>OR6F1</th>\n",
       "      <th>OGFOD2</th>\n",
       "      <th>OR10J5</th>\n",
       "      <th>SYNPO2</th>\n",
       "      <th>OR5D18</th>\n",
       "      <th>SFN</th>\n",
       "    </tr>\n",
       "    <tr>\n",
       "      <th>refinebio_accession_code</th>\n",
       "      <th></th>\n",
       "      <th></th>\n",
       "      <th></th>\n",
       "      <th></th>\n",
       "      <th></th>\n",
       "      <th></th>\n",
       "      <th></th>\n",
       "      <th></th>\n",
       "      <th></th>\n",
       "      <th></th>\n",
       "      <th></th>\n",
       "      <th></th>\n",
       "      <th></th>\n",
       "      <th></th>\n",
       "      <th></th>\n",
       "      <th></th>\n",
       "      <th></th>\n",
       "      <th></th>\n",
       "      <th></th>\n",
       "      <th></th>\n",
       "      <th></th>\n",
       "    </tr>\n",
       "  </thead>\n",
       "  <tbody>\n",
       "    <tr>\n",
       "      <th>SRR7725764</th>\n",
       "      <td>8.164929</td>\n",
       "      <td>0.000000</td>\n",
       "      <td>0.000000</td>\n",
       "      <td>2.165702</td>\n",
       "      <td>0.000000</td>\n",
       "      <td>2.591752</td>\n",
       "      <td>8.125052</td>\n",
       "      <td>3.048034</td>\n",
       "      <td>1.728541</td>\n",
       "      <td>0.000000</td>\n",
       "      <td>...</td>\n",
       "      <td>4.139409</td>\n",
       "      <td>0.000000</td>\n",
       "      <td>0.000000</td>\n",
       "      <td>3.554524</td>\n",
       "      <td>0.000000</td>\n",
       "      <td>2.701179</td>\n",
       "      <td>1.970822</td>\n",
       "      <td>0.000000</td>\n",
       "      <td>1.728541</td>\n",
       "      <td>2.799805</td>\n",
       "    </tr>\n",
       "    <tr>\n",
       "      <th>SRR7725765</th>\n",
       "      <td>8.328641</td>\n",
       "      <td>2.373090</td>\n",
       "      <td>3.572271</td>\n",
       "      <td>2.013168</td>\n",
       "      <td>0.000000</td>\n",
       "      <td>8.683048</td>\n",
       "      <td>6.860148</td>\n",
       "      <td>8.635401</td>\n",
       "      <td>0.000000</td>\n",
       "      <td>0.000000</td>\n",
       "      <td>...</td>\n",
       "      <td>4.102051</td>\n",
       "      <td>0.732929</td>\n",
       "      <td>1.672350</td>\n",
       "      <td>3.789780</td>\n",
       "      <td>0.000000</td>\n",
       "      <td>1.445388</td>\n",
       "      <td>1.151310</td>\n",
       "      <td>0.000000</td>\n",
       "      <td>0.000000</td>\n",
       "      <td>3.018521</td>\n",
       "    </tr>\n",
       "    <tr>\n",
       "      <th>SRR7725767</th>\n",
       "      <td>0.000000</td>\n",
       "      <td>7.783076</td>\n",
       "      <td>6.575891</td>\n",
       "      <td>7.922238</td>\n",
       "      <td>7.388587</td>\n",
       "      <td>0.000000</td>\n",
       "      <td>9.744305</td>\n",
       "      <td>4.351330</td>\n",
       "      <td>0.000000</td>\n",
       "      <td>1.317763</td>\n",
       "      <td>...</td>\n",
       "      <td>4.728602</td>\n",
       "      <td>0.000000</td>\n",
       "      <td>0.000000</td>\n",
       "      <td>3.738285</td>\n",
       "      <td>1.867194</td>\n",
       "      <td>3.344647</td>\n",
       "      <td>0.000000</td>\n",
       "      <td>0.000000</td>\n",
       "      <td>2.686165</td>\n",
       "      <td>2.479913</td>\n",
       "    </tr>\n",
       "    <tr>\n",
       "      <th>SRR7725768</th>\n",
       "      <td>0.000000</td>\n",
       "      <td>8.555245</td>\n",
       "      <td>7.407132</td>\n",
       "      <td>6.659247</td>\n",
       "      <td>0.000000</td>\n",
       "      <td>7.408645</td>\n",
       "      <td>0.404595</td>\n",
       "      <td>8.011064</td>\n",
       "      <td>0.000000</td>\n",
       "      <td>0.000000</td>\n",
       "      <td>...</td>\n",
       "      <td>4.711437</td>\n",
       "      <td>0.000000</td>\n",
       "      <td>0.914725</td>\n",
       "      <td>3.723145</td>\n",
       "      <td>0.000000</td>\n",
       "      <td>2.439963</td>\n",
       "      <td>0.000000</td>\n",
       "      <td>0.000000</td>\n",
       "      <td>0.000000</td>\n",
       "      <td>1.384337</td>\n",
       "    </tr>\n",
       "    <tr>\n",
       "      <th>SRR7725770</th>\n",
       "      <td>1.150113</td>\n",
       "      <td>8.135226</td>\n",
       "      <td>6.840089</td>\n",
       "      <td>8.626322</td>\n",
       "      <td>0.000000</td>\n",
       "      <td>3.858808</td>\n",
       "      <td>7.499813</td>\n",
       "      <td>2.710086</td>\n",
       "      <td>0.732019</td>\n",
       "      <td>1.150113</td>\n",
       "      <td>...</td>\n",
       "      <td>4.811843</td>\n",
       "      <td>0.000000</td>\n",
       "      <td>0.732019</td>\n",
       "      <td>3.539727</td>\n",
       "      <td>0.000000</td>\n",
       "      <td>2.011650</td>\n",
       "      <td>0.000000</td>\n",
       "      <td>0.732019</td>\n",
       "      <td>1.444050</td>\n",
       "      <td>2.265319</td>\n",
       "    </tr>\n",
       "    <tr>\n",
       "      <th>...</th>\n",
       "      <td>...</td>\n",
       "      <td>...</td>\n",
       "      <td>...</td>\n",
       "      <td>...</td>\n",
       "      <td>...</td>\n",
       "      <td>...</td>\n",
       "      <td>...</td>\n",
       "      <td>...</td>\n",
       "      <td>...</td>\n",
       "      <td>...</td>\n",
       "      <td>...</td>\n",
       "      <td>...</td>\n",
       "      <td>...</td>\n",
       "      <td>...</td>\n",
       "      <td>...</td>\n",
       "      <td>...</td>\n",
       "      <td>...</td>\n",
       "      <td>...</td>\n",
       "      <td>...</td>\n",
       "      <td>...</td>\n",
       "      <td>...</td>\n",
       "    </tr>\n",
       "    <tr>\n",
       "      <th>SRR7726017</th>\n",
       "      <td>7.544641</td>\n",
       "      <td>0.000000</td>\n",
       "      <td>0.000000</td>\n",
       "      <td>2.802657</td>\n",
       "      <td>6.284985</td>\n",
       "      <td>0.000000</td>\n",
       "      <td>5.020313</td>\n",
       "      <td>0.000000</td>\n",
       "      <td>0.000000</td>\n",
       "      <td>6.025033</td>\n",
       "      <td>...</td>\n",
       "      <td>5.710154</td>\n",
       "      <td>1.463011</td>\n",
       "      <td>2.033121</td>\n",
       "      <td>3.316058</td>\n",
       "      <td>0.000000</td>\n",
       "      <td>2.393963</td>\n",
       "      <td>0.000000</td>\n",
       "      <td>1.167089</td>\n",
       "      <td>0.000000</td>\n",
       "      <td>1.167089</td>\n",
       "    </tr>\n",
       "    <tr>\n",
       "      <th>SRR7726018</th>\n",
       "      <td>0.000000</td>\n",
       "      <td>7.209779</td>\n",
       "      <td>8.373188</td>\n",
       "      <td>8.040202</td>\n",
       "      <td>6.365506</td>\n",
       "      <td>3.723847</td>\n",
       "      <td>0.711232</td>\n",
       "      <td>4.589354</td>\n",
       "      <td>0.000000</td>\n",
       "      <td>0.000000</td>\n",
       "      <td>...</td>\n",
       "      <td>6.054355</td>\n",
       "      <td>0.000000</td>\n",
       "      <td>1.122653</td>\n",
       "      <td>4.717653</td>\n",
       "      <td>0.000000</td>\n",
       "      <td>1.976715</td>\n",
       "      <td>0.000000</td>\n",
       "      <td>0.000000</td>\n",
       "      <td>1.122653</td>\n",
       "      <td>1.413300</td>\n",
       "    </tr>\n",
       "    <tr>\n",
       "      <th>SRR7726019</th>\n",
       "      <td>0.000000</td>\n",
       "      <td>7.250339</td>\n",
       "      <td>8.480368</td>\n",
       "      <td>8.137742</td>\n",
       "      <td>0.000000</td>\n",
       "      <td>7.954921</td>\n",
       "      <td>1.351413</td>\n",
       "      <td>8.330927</td>\n",
       "      <td>1.752926</td>\n",
       "      <td>0.000000</td>\n",
       "      <td>...</td>\n",
       "      <td>5.251772</td>\n",
       "      <td>0.000000</td>\n",
       "      <td>0.000000</td>\n",
       "      <td>5.009766</td>\n",
       "      <td>0.000000</td>\n",
       "      <td>1.351413</td>\n",
       "      <td>0.000000</td>\n",
       "      <td>0.000000</td>\n",
       "      <td>1.351413</td>\n",
       "      <td>1.905944</td>\n",
       "    </tr>\n",
       "    <tr>\n",
       "      <th>SRR7726020</th>\n",
       "      <td>0.000000</td>\n",
       "      <td>7.538558</td>\n",
       "      <td>8.621674</td>\n",
       "      <td>7.936845</td>\n",
       "      <td>7.166590</td>\n",
       "      <td>8.835145</td>\n",
       "      <td>1.184257</td>\n",
       "      <td>8.796788</td>\n",
       "      <td>0.000000</td>\n",
       "      <td>5.297570</td>\n",
       "      <td>...</td>\n",
       "      <td>5.115493</td>\n",
       "      <td>0.563087</td>\n",
       "      <td>1.184257</td>\n",
       "      <td>4.635424</td>\n",
       "      <td>0.000000</td>\n",
       "      <td>2.382239</td>\n",
       "      <td>0.000000</td>\n",
       "      <td>0.000000</td>\n",
       "      <td>0.000000</td>\n",
       "      <td>1.711365</td>\n",
       "    </tr>\n",
       "    <tr>\n",
       "      <th>SRR7726021</th>\n",
       "      <td>1.211576</td>\n",
       "      <td>7.331144</td>\n",
       "      <td>8.664808</td>\n",
       "      <td>8.607863</td>\n",
       "      <td>6.416606</td>\n",
       "      <td>1.512522</td>\n",
       "      <td>0.000000</td>\n",
       "      <td>2.548966</td>\n",
       "      <td>0.000000</td>\n",
       "      <td>0.000000</td>\n",
       "      <td>...</td>\n",
       "      <td>5.884808</td>\n",
       "      <td>0.779044</td>\n",
       "      <td>1.512522</td>\n",
       "      <td>3.417224</td>\n",
       "      <td>0.000000</td>\n",
       "      <td>2.452253</td>\n",
       "      <td>0.000000</td>\n",
       "      <td>0.000000</td>\n",
       "      <td>1.512522</td>\n",
       "      <td>0.779044</td>\n",
       "    </tr>\n",
       "  </tbody>\n",
       "</table>\n",
       "<p>119 rows × 5000 columns</p>\n",
       "</div>"
      ],
      "text/plain": [
       "                               CD4      CD8A  KLRC4-KLRK1      CD8B    STXBP2  \\\n",
       "refinebio_accession_code                                                        \n",
       "SRR7725764                8.164929  0.000000     0.000000  2.165702  0.000000   \n",
       "SRR7725765                8.328641  2.373090     3.572271  2.013168  0.000000   \n",
       "SRR7725767                0.000000  7.783076     6.575891  7.922238  7.388587   \n",
       "SRR7725768                0.000000  8.555245     7.407132  6.659247  0.000000   \n",
       "SRR7725770                1.150113  8.135226     6.840089  8.626322  0.000000   \n",
       "...                            ...       ...          ...       ...       ...   \n",
       "SRR7726017                7.544641  0.000000     0.000000  2.802657  6.284985   \n",
       "SRR7726018                0.000000  7.209779     8.373188  8.040202  6.365506   \n",
       "SRR7726019                0.000000  7.250339     8.480368  8.137742  0.000000   \n",
       "SRR7726020                0.000000  7.538558     8.621674  7.936845  7.166590   \n",
       "SRR7726021                1.211576  7.331144     8.664808  8.607863  6.416606   \n",
       "\n",
       "                            ADGRG1     GINS3      GZMH      XIST     ZNG1F  \\\n",
       "refinebio_accession_code                                                     \n",
       "SRR7725764                2.591752  8.125052  3.048034  1.728541  0.000000   \n",
       "SRR7725765                8.683048  6.860148  8.635401  0.000000  0.000000   \n",
       "SRR7725767                0.000000  9.744305  4.351330  0.000000  1.317763   \n",
       "SRR7725768                7.408645  0.404595  8.011064  0.000000  0.000000   \n",
       "SRR7725770                3.858808  7.499813  2.710086  0.732019  1.150113   \n",
       "...                            ...       ...       ...       ...       ...   \n",
       "SRR7726017                0.000000  5.020313  0.000000  0.000000  6.025033   \n",
       "SRR7726018                3.723847  0.711232  4.589354  0.000000  0.000000   \n",
       "SRR7726019                7.954921  1.351413  8.330927  1.752926  0.000000   \n",
       "SRR7726020                8.835145  1.184257  8.796788  0.000000  5.297570   \n",
       "SRR7726021                1.512522  0.000000  2.548966  0.000000  0.000000   \n",
       "\n",
       "                          ...   PRPSAP2     CCBE1     CADM4     ZNF80  \\\n",
       "refinebio_accession_code  ...                                           \n",
       "SRR7725764                ...  4.139409  0.000000  0.000000  3.554524   \n",
       "SRR7725765                ...  4.102051  0.732929  1.672350  3.789780   \n",
       "SRR7725767                ...  4.728602  0.000000  0.000000  3.738285   \n",
       "SRR7725768                ...  4.711437  0.000000  0.914725  3.723145   \n",
       "SRR7725770                ...  4.811843  0.000000  0.732019  3.539727   \n",
       "...                       ...       ...       ...       ...       ...   \n",
       "SRR7726017                ...  5.710154  1.463011  2.033121  3.316058   \n",
       "SRR7726018                ...  6.054355  0.000000  1.122653  4.717653   \n",
       "SRR7726019                ...  5.251772  0.000000  0.000000  5.009766   \n",
       "SRR7726020                ...  5.115493  0.563087  1.184257  4.635424   \n",
       "SRR7726021                ...  5.884808  0.779044  1.512522  3.417224   \n",
       "\n",
       "                             OR6F1    OGFOD2    OR10J5    SYNPO2    OR5D18  \\\n",
       "refinebio_accession_code                                                     \n",
       "SRR7725764                0.000000  2.701179  1.970822  0.000000  1.728541   \n",
       "SRR7725765                0.000000  1.445388  1.151310  0.000000  0.000000   \n",
       "SRR7725767                1.867194  3.344647  0.000000  0.000000  2.686165   \n",
       "SRR7725768                0.000000  2.439963  0.000000  0.000000  0.000000   \n",
       "SRR7725770                0.000000  2.011650  0.000000  0.732019  1.444050   \n",
       "...                            ...       ...       ...       ...       ...   \n",
       "SRR7726017                0.000000  2.393963  0.000000  1.167089  0.000000   \n",
       "SRR7726018                0.000000  1.976715  0.000000  0.000000  1.122653   \n",
       "SRR7726019                0.000000  1.351413  0.000000  0.000000  1.351413   \n",
       "SRR7726020                0.000000  2.382239  0.000000  0.000000  0.000000   \n",
       "SRR7726021                0.000000  2.452253  0.000000  0.000000  1.512522   \n",
       "\n",
       "                               SFN  \n",
       "refinebio_accession_code            \n",
       "SRR7725764                2.799805  \n",
       "SRR7725765                3.018521  \n",
       "SRR7725767                2.479913  \n",
       "SRR7725768                1.384337  \n",
       "SRR7725770                2.265319  \n",
       "...                            ...  \n",
       "SRR7726017                1.167089  \n",
       "SRR7726018                1.413300  \n",
       "SRR7726019                1.905944  \n",
       "SRR7726020                1.711365  \n",
       "SRR7726021                0.779044  \n",
       "\n",
       "[119 rows x 5000 columns]"
      ]
     },
     "execution_count": 5,
     "metadata": {},
     "output_type": "execute_result"
    }
   ],
   "source": [
    "df_5000"
   ]
  },
  {
   "cell_type": "code",
   "execution_count": 6,
   "metadata": {},
   "outputs": [],
   "source": [
    "test = df_5000.to_numpy()"
   ]
  },
  {
   "cell_type": "code",
   "execution_count": 7,
   "metadata": {},
   "outputs": [],
   "source": [
    "clustering = AgglomerativeClustering().fit(df_5000)"
   ]
  },
  {
   "cell_type": "code",
   "execution_count": 8,
   "metadata": {},
   "outputs": [
    {
     "data": {
      "text/plain": [
       "array([0, 0, 0, 0, 0, 0, 0, 0, 0, 0, 0, 0, 0, 0, 0, 0, 0, 0, 1, 1, 0, 0,\n",
       "       0, 0, 0, 0, 1, 0, 0, 0, 0, 0, 0, 0, 0, 0, 0, 0, 0, 0, 0, 0, 0, 0,\n",
       "       0, 0, 0, 0, 0, 0, 0, 0, 0, 0, 0, 0, 0, 0, 0, 0, 0, 0, 0, 0, 0, 0,\n",
       "       0, 0, 0, 0, 0, 0, 0, 0, 0, 0, 0, 0, 0, 0, 1, 0, 0, 0, 0, 0, 0, 0,\n",
       "       1, 0, 0, 0, 0, 0, 0, 0, 0, 0, 0, 0, 0, 0, 0, 0, 0, 0, 0, 0, 0, 0,\n",
       "       0, 0, 0, 0, 0, 0, 0, 0, 0], dtype=int64)"
      ]
     },
     "execution_count": 8,
     "metadata": {},
     "output_type": "execute_result"
    }
   ],
   "source": [
    "clustering.labels_"
   ]
  },
  {
   "cell_type": "code",
   "execution_count": 9,
   "metadata": {},
   "outputs": [],
   "source": [
    "### Writing method to calculate inertia of clustering since AgglomerativeClustering doesn't come with it\n",
    "### If you're gonna use KMeans it should already have that built in\n",
    "def calculate_inertia(df, clustering):\n",
    "    positions = df.to_numpy()\n",
    "    index_map = {}\n",
    "    for i in range(len(np.unique(clustering))):\n",
    "        index_map[i] = []\n",
    "    for i in range(len(clustering)):\n",
    "        index_map[clustering[i]].append(i)\n",
    "    position_means = []\n",
    "    for i in range(len(np.unique(clustering))):\n",
    "        position_means.append(np.mean(positions[index_map[i]], axis=0))\n",
    "    inertia = 0\n",
    "    for i in range(len(clustering)):\n",
    "        inertia += LA.norm(position_means[clustering[i]] - positions[i])**2\n",
    "    return inertia/(len(clustering) - len(np.unique(clustering)))"
   ]
  },
  {
   "cell_type": "code",
   "execution_count": 10,
   "metadata": {},
   "outputs": [],
   "source": [
    "lol = calculate_inertia(df_5000, clustering.labels_)"
   ]
  },
  {
   "cell_type": "code",
   "execution_count": 11,
   "metadata": {},
   "outputs": [],
   "source": [
    "def clustering_pipeline():\n",
    "    inertias = []\n",
    "    for i in range(2, 110):\n",
    "        clustering = AgglomerativeClustering(n_clusters=i).fit(df_5000)\n",
    "        inertias.append(calculate_inertia(df_5000, clustering.labels_))\n",
    "    xlabels = np.arange(2, 110)\n",
    "    plt.plot(xlabels, inertias)"
   ]
  },
  {
   "cell_type": "code",
   "execution_count": 12,
   "metadata": {},
   "outputs": [
    {
     "data": {
      "image/png": "[encoded data removed]",
      "text/plain": [
       "<Figure size 640x480 with 1 Axes>"
      ]
     },
     "metadata": {},
     "output_type": "display_data"
    }
   ],
   "source": [
    "clustering_pipeline()"
   ]
  },
  {
   "cell_type": "code",
   "execution_count": 39,
   "metadata": {},
   "outputs": [],
   "source": [
    "clustering_5000 = AgglomerativeClustering(n_clusters=15).fit(df_5000)"
   ]
  },
  {
   "cell_type": "code",
   "execution_count": 58,
   "metadata": {},
   "outputs": [],
   "source": [
    "# 15 clusters probably optimal because \n",
    "# it's around 10% of the number of data points, and is near the elbow of the inertia plot"
   ]
  },
  {
   "cell_type": "code",
   "execution_count": 15,
   "metadata": {},
   "outputs": [
    {
     "data": {
      "text/plain": [
       "119"
      ]
     },
     "execution_count": 15,
     "metadata": {},
     "output_type": "execute_result"
    }
   ],
   "source": [
    "len(clustering.labels_)"
   ]
  },
  {
   "cell_type": "code",
   "execution_count": 41,
   "metadata": {},
   "outputs": [
    {
     "data": {
      "image/png": "[encoded data removed]",
      "text/plain": [
       "<Figure size 1000x800 with 2 Axes>"
      ]
     },
     "metadata": {},
     "output_type": "display_data"
    }
   ],
   "source": [
    "def plot_pca_clusters(data, labels, n_components=2):\n",
    "    \"\"\"\n",
    "    Perform PCA and plot a 2D scatter plot of the data colored by cluster labels.\n",
    "    \n",
    "    Parameters:\n",
    "    - data: 2D array-like, the input data (features) for PCA\n",
    "    - labels: array-like, the cluster labels for each data point\n",
    "    - n_components: int, the number of components for PCA (default is 2)\n",
    "    \n",
    "    Returns:\n",
    "    - None, displays the PCA plot.\n",
    "    \"\"\"\n",
    "    # Standardize the data (PCA is sensitive to scale)\n",
    "    \n",
    "    # Perform PCA\n",
    "    pca = PCA(n_components=n_components)\n",
    "    pca_result = pca.fit_transform(data)\n",
    "    \n",
    "    # Create a DataFrame for plotting\n",
    "    pca_df = pd.DataFrame(pca_result, columns=[f'PC{i+1}' for i in range(n_components)])\n",
    "    pca_df['Cluster'] = labels\n",
    "    \n",
    "    # Create the scatter plot\n",
    "    plt.figure(figsize=(10, 8))\n",
    "    scatter = plt.scatter(pca_df['PC1'], pca_df['PC2'], c=pca_df['Cluster'], cmap='viridis', alpha=0.7)\n",
    "    \n",
    "    # Add a color bar\n",
    "    plt.colorbar(scatter)\n",
    "    \n",
    "    # Add labels and title\n",
    "    plt.title('PCA Plot of Clusters', fontsize=15)\n",
    "    plt.xlabel('Principal Component 1', fontsize=12)\n",
    "    plt.ylabel('Principal Component 2', fontsize=12)\n",
    "    \n",
    "    # Show plot\n",
    "    plt.show()\n",
    "\n",
    "# Plot PCA with the given labeling of clusters\n",
    "plot_pca_clusters(df_5000, clustering_5000.labels_)"
   ]
  },
  {
   "cell_type": "markdown",
   "metadata": {},
   "source": [
    "# Step 2e"
   ]
  },
  {
   "cell_type": "code",
   "execution_count": 7,
   "metadata": {},
   "outputs": [],
   "source": [
    "df_10 = df.iloc[:, :10]\n",
    "df_100 = df.iloc[:, :100]\n",
    "df_1000 = df.iloc[:, :1000]\n",
    "df_10000 = df.iloc[:, :10000]"
   ]
  },
  {
   "cell_type": "code",
   "execution_count": 8,
   "metadata": {},
   "outputs": [],
   "source": [
    "clustering_10 = AgglomerativeClustering(n_clusters=15).fit(df_10)\n",
    "clustering_100 = AgglomerativeClustering(n_clusters=15).fit(df_100)\n",
    "clustering_1000 = AgglomerativeClustering(n_clusters=15).fit(df_1000)\n",
    "clustering_10000 = AgglomerativeClustering(n_clusters=15).fit(df_10000)"
   ]
  },
  {
   "cell_type": "code",
   "execution_count": 9,
   "metadata": {},
   "outputs": [
    {
     "name": "stdout",
     "output_type": "stream",
     "text": [
      "[ 7 14  2  0  2  4  9  2 12 12  2  7  6  5 13  8  5  6  5  1  0  3  1  4\n",
      "  5  7  1  0 13 10  4 10  0  3  1  5  6  5  8  3  0  8  7  4 11 10  0  0\n",
      "  8  5  6 11  1 13  0  1 11  4  7 10  3  3  5  4 13 13  1 11  4 11 10  0\n",
      "  3 10  7  4  7  8  0  3  1  7  4  5 13  8  7  5  1  3  7  6 11 10 13 10\n",
      "  5  4  5 13  1  9 14  9  2 12  2 11  6  8 13  3 10  9  9  2  0 12  2]\n",
      "[ 0 13  0  7 11 13  8  0  7  7 11  6  5  2 14  3  6  5  9 12 14  4  3  5\n",
      "  6  2 12  4 10 11  5  1 14  4  3  6  5  2  1 14  4  3  6  5  2  1  4  4\n",
      "  1  6  5  2  1  4  4  3  6  5  2  1  4  4  6  5 10 10  3  6  5  2  1  4\n",
      "  4  3  6  5  2  1 14 10  9  6  5  2  4  3  6  2 12 10  6  5  2  1 14  3\n",
      "  6  5  2  4  3  8 13  8  0  7 11  6  6  1 14 10  3  8  8  0  7  7 11]\n",
      "[ 5  1  5 10  8  1 12  6  3  3  7  0  1 11 10  8  0  1  2  9 10  4  8  1\n",
      "  0 11  9  3  4  8  1  6 10  4  8  0  1 11  6 10  3  7  0  1 12  6  3  3\n",
      "  6  0  1 12  6  3  3  7  0  1 12  6  3  3  5  1 10  4  8  0  1 12  6  3\n",
      "  4  7  0  1 11  5 10  4  2  0  5 11  4  8  0 11  9 14  0  1 12  6  3  8\n",
      "  0  1 11  4  8  0  1 12  6 13  7  0  0  6 10 14  7  0 12  6  3  3  7]\n",
      "[12  7 12  6  1  5  3  2 14 14  3 11  7  1  6  1 11  7  9  0  6  4  1  7\n",
      " 11  1  0 14  4  1  7  2  6  4  1 11  7  1  2  6 14  3  2  5  3  5  5 14\n",
      "  5  2  5  3  6 14 14  3  2  5  3  5  5 14 12  7  4  4  1  2  5  3  2 14\n",
      " 14  3 11  7  1 12  4  4  8 11 12  1  4  1 11  1  0 13 11  7  3  2 14  1\n",
      " 11  7  1  4  1  2  5  3  5 10  3  2  5  2  6  4  3  2  3  5  5  5  3]\n"
     ]
    }
   ],
   "source": [
    "print(clustering_10.labels_)\n",
    "print(clustering_100.labels_)\n",
    "print(clustering_1000.labels_)\n",
    "print(clustering_10000.labels_)"
   ]
  },
  {
   "cell_type": "markdown",
   "metadata": {},
   "source": [
    "## Chi Squared"
   ]
  },
  {
   "cell_type": "code",
   "execution_count": 30,
   "metadata": {},
   "outputs": [
    {
     "name": "stdout",
     "output_type": "stream",
     "text": [
      "\n",
      "Chi-squared Statistic: 778.6980934343433\n",
      "P-value: 2.0490782872273698e-70\n",
      "Degrees of Freedom: 196\n",
      "Expected Frequencies:\n",
      "[[0.46218487 0.92436975 1.1092437  1.01680672 1.29411765 1.29411765\n",
      "  1.4789916  0.55462185 0.46218487 0.18487395 0.55462185 0.46218487\n",
      "  0.27731092 0.27731092 0.64705882]\n",
      " [0.42016807 0.84033613 1.00840336 0.92436975 1.17647059 1.17647059\n",
      "  1.34453782 0.50420168 0.42016807 0.16806723 0.50420168 0.42016807\n",
      "  0.25210084 0.25210084 0.58823529]\n",
      " [0.33613445 0.67226891 0.80672269 0.7394958  0.94117647 0.94117647\n",
      "  1.07563025 0.40336134 0.33613445 0.13445378 0.40336134 0.33613445\n",
      "  0.20168067 0.20168067 0.47058824]\n",
      " [0.37815126 0.75630252 0.90756303 0.83193277 1.05882353 1.05882353\n",
      "  1.21008403 0.45378151 0.37815126 0.1512605  0.45378151 0.37815126\n",
      "  0.22689076 0.22689076 0.52941176]\n",
      " [0.42016807 0.84033613 1.00840336 0.92436975 1.17647059 1.17647059\n",
      "  1.34453782 0.50420168 0.42016807 0.16806723 0.50420168 0.42016807\n",
      "  0.25210084 0.25210084 0.58823529]\n",
      " [0.50420168 1.00840336 1.21008403 1.1092437  1.41176471 1.41176471\n",
      "  1.61344538 0.60504202 0.50420168 0.20168067 0.60504202 0.50420168\n",
      "  0.30252101 0.30252101 0.70588235]\n",
      " [0.25210084 0.50420168 0.60504202 0.55462185 0.70588235 0.70588235\n",
      "  0.80672269 0.30252101 0.25210084 0.10084034 0.30252101 0.25210084\n",
      "  0.1512605  0.1512605  0.35294118]\n",
      " [0.42016807 0.84033613 1.00840336 0.92436975 1.17647059 1.17647059\n",
      "  1.34453782 0.50420168 0.42016807 0.16806723 0.50420168 0.42016807\n",
      "  0.25210084 0.25210084 0.58823529]\n",
      " [0.29411765 0.58823529 0.70588235 0.64705882 0.82352941 0.82352941\n",
      "  0.94117647 0.35294118 0.29411765 0.11764706 0.35294118 0.29411765\n",
      "  0.17647059 0.17647059 0.41176471]\n",
      " [0.21008403 0.42016807 0.50420168 0.46218487 0.58823529 0.58823529\n",
      "  0.67226891 0.25210084 0.21008403 0.08403361 0.25210084 0.21008403\n",
      "  0.12605042 0.12605042 0.29411765]\n",
      " [0.37815126 0.75630252 0.90756303 0.83193277 1.05882353 1.05882353\n",
      "  1.21008403 0.45378151 0.37815126 0.1512605  0.45378151 0.37815126\n",
      "  0.22689076 0.22689076 0.52941176]\n",
      " [0.29411765 0.58823529 0.70588235 0.64705882 0.82352941 0.82352941\n",
      "  0.94117647 0.35294118 0.29411765 0.11764706 0.35294118 0.29411765\n",
      "  0.17647059 0.17647059 0.41176471]\n",
      " [0.16806723 0.33613445 0.40336134 0.3697479  0.47058824 0.47058824\n",
      "  0.53781513 0.20168067 0.16806723 0.06722689 0.20168067 0.16806723\n",
      "  0.10084034 0.10084034 0.23529412]\n",
      " [0.37815126 0.75630252 0.90756303 0.83193277 1.05882353 1.05882353\n",
      "  1.21008403 0.45378151 0.37815126 0.1512605  0.45378151 0.37815126\n",
      "  0.22689076 0.22689076 0.52941176]\n",
      " [0.08403361 0.16806723 0.20168067 0.18487395 0.23529412 0.23529412\n",
      "  0.26890756 0.10084034 0.08403361 0.03361345 0.10084034 0.08403361\n",
      "  0.05042017 0.05042017 0.11764706]]\n",
      "Observed Frequencies\n",
      "Clustering 100 genes  0   1   2   3   4   5   6   7   8   9   10  11  12  13  \\\n",
      "Clustering 10 genes                                                            \n",
      "0                      0   0   0   0   6   0   0   2   0   0   0   0   0   0   \n",
      "1                      0   1   0   5   0   0   0   0   0   1   0   0   3   0   \n",
      "2                      4   0   0   0   0   0   0   0   0   0   0   4   0   0   \n",
      "3                      0   0   0   0   5   0   0   0   0   0   3   0   0   0   \n",
      "4                      0   0   0   0   0   9   0   0   0   0   0   0   0   1   \n",
      "5                      0   0   5   0   0   0   6   0   0   1   0   0   0   0   \n",
      "6                      0   0   0   0   0   5   1   0   0   0   0   0   0   0   \n",
      "7                      1   0   3   0   0   0   6   0   0   0   0   0   0   0   \n",
      "8                      0   4   0   3   0   0   0   0   0   0   0   0   0   0   \n",
      "9                      0   0   0   0   0   0   0   0   5   0   0   0   0   0   \n",
      "10                     0   5   0   3   0   0   0   0   0   0   0   1   0   0   \n",
      "11                     0   0   4   0   0   0   3   0   0   0   0   0   0   0   \n",
      "12                     0   0   0   0   0   0   0   4   0   0   0   0   0   0   \n",
      "13                     0   0   0   0   3   0   0   0   0   0   3   0   0   0   \n",
      "14                     0   0   0   0   0   0   0   0   0   0   0   0   0   2   \n",
      "\n",
      "Clustering 100 genes  14  \n",
      "Clustering 10 genes       \n",
      "0                      3  \n",
      "1                      0  \n",
      "2                      0  \n",
      "3                      1  \n",
      "4                      0  \n",
      "5                      0  \n",
      "6                      0  \n",
      "7                      0  \n",
      "8                      0  \n",
      "9                      0  \n",
      "10                     0  \n",
      "11                     0  \n",
      "12                     0  \n",
      "13                     3  \n",
      "14                     0  \n"
     ]
    }
   ],
   "source": [
    "# 10 and 100 Chi_squared\n",
    "contingency_table = pd.crosstab(pd.Series(clustering_10.labels_, name='Clustering 10 genes'), pd.Series(clustering_100.labels_, name='Clustering 100 genes'))\n",
    "chi2, p, dof, expected = chi2_contingency(contingency_table)\n",
    "print(f\"\\nChi-squared Statistic: {chi2}\")\n",
    "print(f\"P-value: {p}\")\n",
    "print(f\"Degrees of Freedom: {dof}\")\n",
    "print(\"Expected Frequencies:\")\n",
    "print(expected)\n",
    "print('Observed Frequencies')\n",
    "print(contingency_table)"
   ]
  },
  {
   "cell_type": "code",
   "execution_count": 31,
   "metadata": {},
   "outputs": [
    {
     "name": "stdout",
     "output_type": "stream",
     "text": [
      "\n",
      "Chi-squared Statistic: 538.1496053791886\n",
      "P-value: 1.1209850913969974e-33\n",
      "Degrees of Freedom: 196\n",
      "Expected Frequencies:\n",
      "[[1.57142857 1.4789916  0.18487395 1.29411765 0.7394958  0.46218487\n",
      "  1.1092437  0.64705882 0.83193277 0.27731092 0.7394958  0.64705882\n",
      "  0.7394958  0.09243697 0.18487395]\n",
      " [1.42857143 1.34453782 0.16806723 1.17647059 0.67226891 0.42016807\n",
      "  1.00840336 0.58823529 0.75630252 0.25210084 0.67226891 0.58823529\n",
      "  0.67226891 0.08403361 0.16806723]\n",
      " [1.14285714 1.07563025 0.13445378 0.94117647 0.53781513 0.33613445\n",
      "  0.80672269 0.47058824 0.60504202 0.20168067 0.53781513 0.47058824\n",
      "  0.53781513 0.06722689 0.13445378]\n",
      " [1.28571429 1.21008403 0.1512605  1.05882353 0.60504202 0.37815126\n",
      "  0.90756303 0.52941176 0.68067227 0.22689076 0.60504202 0.52941176\n",
      "  0.60504202 0.07563025 0.1512605 ]\n",
      " [1.42857143 1.34453782 0.16806723 1.17647059 0.67226891 0.42016807\n",
      "  1.00840336 0.58823529 0.75630252 0.25210084 0.67226891 0.58823529\n",
      "  0.67226891 0.08403361 0.16806723]\n",
      " [1.71428571 1.61344538 0.20168067 1.41176471 0.80672269 0.50420168\n",
      "  1.21008403 0.70588235 0.90756303 0.30252101 0.80672269 0.70588235\n",
      "  0.80672269 0.10084034 0.20168067]\n",
      " [0.85714286 0.80672269 0.10084034 0.70588235 0.40336134 0.25210084\n",
      "  0.60504202 0.35294118 0.45378151 0.1512605  0.40336134 0.35294118\n",
      "  0.40336134 0.05042017 0.10084034]\n",
      " [1.42857143 1.34453782 0.16806723 1.17647059 0.67226891 0.42016807\n",
      "  1.00840336 0.58823529 0.75630252 0.25210084 0.67226891 0.58823529\n",
      "  0.67226891 0.08403361 0.16806723]\n",
      " [1.         0.94117647 0.11764706 0.82352941 0.47058824 0.29411765\n",
      "  0.70588235 0.41176471 0.52941176 0.17647059 0.47058824 0.41176471\n",
      "  0.47058824 0.05882353 0.11764706]\n",
      " [0.71428571 0.67226891 0.08403361 0.58823529 0.33613445 0.21008403\n",
      "  0.50420168 0.29411765 0.37815126 0.12605042 0.33613445 0.29411765\n",
      "  0.33613445 0.04201681 0.08403361]\n",
      " [1.28571429 1.21008403 0.1512605  1.05882353 0.60504202 0.37815126\n",
      "  0.90756303 0.52941176 0.68067227 0.22689076 0.60504202 0.52941176\n",
      "  0.60504202 0.07563025 0.1512605 ]\n",
      " [1.         0.94117647 0.11764706 0.82352941 0.47058824 0.29411765\n",
      "  0.70588235 0.41176471 0.52941176 0.17647059 0.47058824 0.41176471\n",
      "  0.47058824 0.05882353 0.11764706]\n",
      " [0.57142857 0.53781513 0.06722689 0.47058824 0.26890756 0.16806723\n",
      "  0.40336134 0.23529412 0.30252101 0.10084034 0.26890756 0.23529412\n",
      "  0.26890756 0.03361345 0.06722689]\n",
      " [1.28571429 1.21008403 0.1512605  1.05882353 0.60504202 0.37815126\n",
      "  0.90756303 0.52941176 0.68067227 0.22689076 0.60504202 0.52941176\n",
      "  0.60504202 0.07563025 0.1512605 ]\n",
      " [0.28571429 0.26890756 0.03361345 0.23529412 0.13445378 0.08403361\n",
      "  0.20168067 0.11764706 0.1512605  0.05042017 0.13445378 0.11764706\n",
      "  0.13445378 0.01680672 0.03361345]]\n",
      "Observed Frequencies\n",
      "Clustering 1000 genes  0   1   2   3   4   5   6   7   8   9   10  11  12  13  \\\n",
      "Clustering 10 genes                                                             \n",
      "0                       0   0   0   7   0   0   0   0   0   0   4   0   0   0   \n",
      "1                       0   0   1   0   0   0   1   1   4   3   0   0   0   0   \n",
      "2                       0   0   0   0   0   1   3   3   1   0   0   0   0   0   \n",
      "3                       0   0   0   2   4   0   0   0   0   0   1   0   0   0   \n",
      "4                       0   9   0   0   0   1   0   0   0   0   0   0   0   0   \n",
      "5                       5   0   1   0   0   1   0   0   0   0   0   5   0   0   \n",
      "6                       1   5   0   0   0   0   0   0   0   0   0   0   0   0   \n",
      "7                       6   0   0   0   0   1   0   0   0   0   0   2   1   0   \n",
      "8                       0   0   0   0   0   1   3   1   2   0   0   0   0   0   \n",
      "9                       2   0   0   0   0   0   0   0   0   0   0   0   3   0   \n",
      "10                      0   0   0   0   0   0   5   2   2   0   0   0   0   0   \n",
      "11                      3   0   0   0   0   0   0   0   0   0   0   0   4   0   \n",
      "12                      0   0   0   3   0   0   0   0   0   0   0   0   0   1   \n",
      "13                      0   0   0   2   4   0   0   0   0   0   3   0   0   0   \n",
      "14                      0   2   0   0   0   0   0   0   0   0   0   0   0   0   \n",
      "\n",
      "Clustering 1000 genes  14  \n",
      "Clustering 10 genes        \n",
      "0                       0  \n",
      "1                       0  \n",
      "2                       0  \n",
      "3                       2  \n",
      "4                       0  \n",
      "5                       0  \n",
      "6                       0  \n",
      "7                       0  \n",
      "8                       0  \n",
      "9                       0  \n",
      "10                      0  \n",
      "11                      0  \n",
      "12                      0  \n",
      "13                      0  \n",
      "14                      0  \n"
     ]
    }
   ],
   "source": [
    "# 10 and 1000 Chi_squared\n",
    "contingency_table = pd.crosstab(pd.Series(clustering_10.labels_, name='Clustering 10 genes'), pd.Series(clustering_1000.labels_, name='Clustering 1000 genes'))\n",
    "chi2, p, dof, expected = chi2_contingency(contingency_table)\n",
    "print(f\"\\nChi-squared Statistic: {chi2}\")\n",
    "print(f\"P-value: {p}\")\n",
    "print(f\"Degrees of Freedom: {dof}\")\n",
    "print(\"Expected Frequencies:\")\n",
    "print(expected)\n",
    "print('Observed Frequencies')\n",
    "print(contingency_table)"
   ]
  },
  {
   "cell_type": "code",
   "execution_count": 32,
   "metadata": {},
   "outputs": [
    {
     "name": "stdout",
     "output_type": "stream",
     "text": [
      "\n",
      "Chi-squared Statistic: 438.4014494648869\n",
      "P-value: 1.354875199953524e-20\n",
      "Degrees of Freedom: 196\n",
      "Expected Frequencies:\n",
      "[[1.4789916  1.4789916  1.38655462 0.46218487 1.38655462 1.1092437\n",
      "  0.46218487 0.27731092 0.64705882 0.83193277 0.09243697 0.09243697\n",
      "  0.09243697 0.55462185 0.64705882]\n",
      " [1.34453782 1.34453782 1.2605042  0.42016807 1.2605042  1.00840336\n",
      "  0.42016807 0.25210084 0.58823529 0.75630252 0.08403361 0.08403361\n",
      "  0.08403361 0.50420168 0.58823529]\n",
      " [1.07563025 1.07563025 1.00840336 0.33613445 1.00840336 0.80672269\n",
      "  0.33613445 0.20168067 0.47058824 0.60504202 0.06722689 0.06722689\n",
      "  0.06722689 0.40336134 0.47058824]\n",
      " [1.21008403 1.21008403 1.13445378 0.37815126 1.13445378 0.90756303\n",
      "  0.37815126 0.22689076 0.52941176 0.68067227 0.07563025 0.07563025\n",
      "  0.07563025 0.45378151 0.52941176]\n",
      " [1.34453782 1.34453782 1.2605042  0.42016807 1.2605042  1.00840336\n",
      "  0.42016807 0.25210084 0.58823529 0.75630252 0.08403361 0.08403361\n",
      "  0.08403361 0.50420168 0.58823529]\n",
      " [1.61344538 1.61344538 1.51260504 0.50420168 1.51260504 1.21008403\n",
      "  0.50420168 0.30252101 0.70588235 0.90756303 0.10084034 0.10084034\n",
      "  0.10084034 0.60504202 0.70588235]\n",
      " [0.80672269 0.80672269 0.75630252 0.25210084 0.75630252 0.60504202\n",
      "  0.25210084 0.1512605  0.35294118 0.45378151 0.05042017 0.05042017\n",
      "  0.05042017 0.30252101 0.35294118]\n",
      " [1.34453782 1.34453782 1.2605042  0.42016807 1.2605042  1.00840336\n",
      "  0.42016807 0.25210084 0.58823529 0.75630252 0.08403361 0.08403361\n",
      "  0.08403361 0.50420168 0.58823529]\n",
      " [0.94117647 0.94117647 0.88235294 0.29411765 0.88235294 0.70588235\n",
      "  0.29411765 0.17647059 0.41176471 0.52941176 0.05882353 0.05882353\n",
      "  0.05882353 0.35294118 0.41176471]\n",
      " [0.67226891 0.67226891 0.6302521  0.21008403 0.6302521  0.50420168\n",
      "  0.21008403 0.12605042 0.29411765 0.37815126 0.04201681 0.04201681\n",
      "  0.04201681 0.25210084 0.29411765]\n",
      " [1.21008403 1.21008403 1.13445378 0.37815126 1.13445378 0.90756303\n",
      "  0.37815126 0.22689076 0.52941176 0.68067227 0.07563025 0.07563025\n",
      "  0.07563025 0.45378151 0.52941176]\n",
      " [0.94117647 0.94117647 0.88235294 0.29411765 0.88235294 0.70588235\n",
      "  0.29411765 0.17647059 0.41176471 0.52941176 0.05882353 0.05882353\n",
      "  0.05882353 0.35294118 0.41176471]\n",
      " [0.53781513 0.53781513 0.50420168 0.16806723 0.50420168 0.40336134\n",
      "  0.16806723 0.10084034 0.23529412 0.30252101 0.03361345 0.03361345\n",
      "  0.03361345 0.20168067 0.23529412]\n",
      " [1.21008403 1.21008403 1.13445378 0.37815126 1.13445378 0.90756303\n",
      "  0.37815126 0.22689076 0.52941176 0.68067227 0.07563025 0.07563025\n",
      "  0.07563025 0.45378151 0.52941176]\n",
      " [0.26890756 0.26890756 0.25210084 0.08403361 0.25210084 0.20168067\n",
      "  0.08403361 0.05042017 0.11764706 0.1512605  0.01680672 0.01680672\n",
      "  0.01680672 0.10084034 0.11764706]]\n",
      "Observed Frequencies\n",
      "Clustering 5000 genes  0   1   2   3   4   5   6   7   8   9   10  11  12  13  \\\n",
      "Clustering 10 genes                                                             \n",
      "0                       3   0   0   0   7   0   0   0   0   0   0   0   0   1   \n",
      "1                       0   4   1   0   0   1   0   3   0   0   0   0   1   0   \n",
      "2                       0   1   3   1   0   3   0   0   0   0   0   0   0   0   \n",
      "3                       1   0   0   0   3   0   2   0   0   0   0   0   0   3   \n",
      "4                       5   0   0   1   0   0   0   0   4   0   0   0   0   0   \n",
      "5                       0   5   0   1   0   0   0   0   0   4   0   1   0   0   \n",
      "6                       4   0   0   0   0   0   0   0   2   0   0   0   0   0   \n",
      "7                       0   2   1   1   0   0   0   0   0   5   0   0   0   0   \n",
      "8                       0   2   1   1   0   3   0   0   0   0   0   0   0   0   \n",
      "9                       0   0   3   0   0   0   0   0   0   0   0   0   0   0   \n",
      "10                      0   2   2   0   0   5   0   0   0   0   0   0   0   0   \n",
      "11                      0   0   4   0   0   0   0   0   0   0   0   0   0   0   \n",
      "12                      0   0   0   0   3   0   0   0   0   0   1   0   0   0   \n",
      "13                      2   0   0   0   2   0   3   0   0   0   0   0   0   2   \n",
      "14                      1   0   0   0   0   0   0   0   1   0   0   0   0   0   \n",
      "\n",
      "Clustering 5000 genes  14  \n",
      "Clustering 10 genes        \n",
      "0                       0  \n",
      "1                       0  \n",
      "2                       0  \n",
      "3                       0  \n",
      "4                       0  \n",
      "5                       1  \n",
      "6                       0  \n",
      "7                       1  \n",
      "8                       0  \n",
      "9                       2  \n",
      "10                      0  \n",
      "11                      3  \n",
      "12                      0  \n",
      "13                      0  \n",
      "14                      0  \n"
     ]
    }
   ],
   "source": [
    "# 10 and 5000 Chi_squared\n",
    "contingency_table = pd.crosstab(pd.Series(clustering_10.labels_, name='Clustering 10 genes'), pd.Series(clustering_5000.labels_, name='Clustering 5000 genes'))\n",
    "chi2, p, dof, expected = chi2_contingency(contingency_table)\n",
    "print(f\"\\nChi-squared Statistic: {chi2}\")\n",
    "print(f\"P-value: {p}\")\n",
    "print(f\"Degrees of Freedom: {dof}\")\n",
    "print(\"Expected Frequencies:\")\n",
    "print(expected)\n",
    "print('Observed Frequencies')\n",
    "print(contingency_table)"
   ]
  },
  {
   "cell_type": "code",
   "execution_count": 33,
   "metadata": {},
   "outputs": [
    {
     "name": "stdout",
     "output_type": "stream",
     "text": [
      "\n",
      "Chi-squared Statistic: 394.8861768692167\n",
      "P-value: 1.6436085205371965e-15\n",
      "Degrees of Freedom: 196\n",
      "Expected Frequencies:\n",
      "[[0.27731092 1.4789916  1.20168067 1.38655462 0.92436975 1.4789916\n",
      "  0.64705882 0.92436975 0.09243697 0.09243697 0.09243697 0.83193277\n",
      "  0.46218487 0.09243697 1.01680672]\n",
      " [0.25210084 1.34453782 1.09243697 1.2605042  0.84033613 1.34453782\n",
      "  0.58823529 0.84033613 0.08403361 0.08403361 0.08403361 0.75630252\n",
      "  0.42016807 0.08403361 0.92436975]\n",
      " [0.20168067 1.07563025 0.87394958 1.00840336 0.67226891 1.07563025\n",
      "  0.47058824 0.67226891 0.06722689 0.06722689 0.06722689 0.60504202\n",
      "  0.33613445 0.06722689 0.7394958 ]\n",
      " [0.22689076 1.21008403 0.98319328 1.13445378 0.75630252 1.21008403\n",
      "  0.52941176 0.75630252 0.07563025 0.07563025 0.07563025 0.68067227\n",
      "  0.37815126 0.07563025 0.83193277]\n",
      " [0.25210084 1.34453782 1.09243697 1.2605042  0.84033613 1.34453782\n",
      "  0.58823529 0.84033613 0.08403361 0.08403361 0.08403361 0.75630252\n",
      "  0.42016807 0.08403361 0.92436975]\n",
      " [0.30252101 1.61344538 1.31092437 1.51260504 1.00840336 1.61344538\n",
      "  0.70588235 1.00840336 0.10084034 0.10084034 0.10084034 0.90756303\n",
      "  0.50420168 0.10084034 1.1092437 ]\n",
      " [0.1512605  0.80672269 0.65546218 0.75630252 0.50420168 0.80672269\n",
      "  0.35294118 0.50420168 0.05042017 0.05042017 0.05042017 0.45378151\n",
      "  0.25210084 0.05042017 0.55462185]\n",
      " [0.25210084 1.34453782 1.09243697 1.2605042  0.84033613 1.34453782\n",
      "  0.58823529 0.84033613 0.08403361 0.08403361 0.08403361 0.75630252\n",
      "  0.42016807 0.08403361 0.92436975]\n",
      " [0.17647059 0.94117647 0.76470588 0.88235294 0.58823529 0.94117647\n",
      "  0.41176471 0.58823529 0.05882353 0.05882353 0.05882353 0.52941176\n",
      "  0.29411765 0.05882353 0.64705882]\n",
      " [0.12605042 0.67226891 0.54621849 0.6302521  0.42016807 0.67226891\n",
      "  0.29411765 0.42016807 0.04201681 0.04201681 0.04201681 0.37815126\n",
      "  0.21008403 0.04201681 0.46218487]\n",
      " [0.22689076 1.21008403 0.98319328 1.13445378 0.75630252 1.21008403\n",
      "  0.52941176 0.75630252 0.07563025 0.07563025 0.07563025 0.68067227\n",
      "  0.37815126 0.07563025 0.83193277]\n",
      " [0.17647059 0.94117647 0.76470588 0.88235294 0.58823529 0.94117647\n",
      "  0.41176471 0.58823529 0.05882353 0.05882353 0.05882353 0.52941176\n",
      "  0.29411765 0.05882353 0.64705882]\n",
      " [0.10084034 0.53781513 0.43697479 0.50420168 0.33613445 0.53781513\n",
      "  0.23529412 0.33613445 0.03361345 0.03361345 0.03361345 0.30252101\n",
      "  0.16806723 0.03361345 0.3697479 ]\n",
      " [0.22689076 1.21008403 0.98319328 1.13445378 0.75630252 1.21008403\n",
      "  0.52941176 0.75630252 0.07563025 0.07563025 0.07563025 0.68067227\n",
      "  0.37815126 0.07563025 0.83193277]\n",
      " [0.05042017 0.26890756 0.21848739 0.25210084 0.16806723 0.26890756\n",
      "  0.11764706 0.16806723 0.01680672 0.01680672 0.01680672 0.1512605\n",
      "  0.08403361 0.01680672 0.18487395]]\n",
      "Observed Frequencies\n",
      "Clustering 10000 genes  0   1   2   3   4   5   6   7   8   9   10  11  12  \\\n",
      "Clustering 10 genes                                                          \n",
      "0                        0   0   0   0   1   2   3   0   0   0   0   0   0   \n",
      "1                        3   4   0   1   0   0   1   0   1   0   0   0   0   \n",
      "2                        0   1   1   3   0   2   0   0   0   0   0   0   1   \n",
      "3                        0   0   0   0   4   1   1   0   0   0   0   0   0   \n",
      "4                        0   0   0   0   0   4   0   5   0   0   0   0   1   \n",
      "5                        0   5   1   0   0   0   0   0   0   1   0   4   1   \n",
      "6                        0   0   0   0   0   2   0   4   0   0   0   0   0   \n",
      "7                        0   2   1   1   0   0   0   0   0   0   0   5   1   \n",
      "8                        0   2   2   1   0   1   0   0   0   0   0   0   1   \n",
      "9                        0   0   2   3   0   0   0   0   0   0   0   0   0   \n",
      "10                       0   2   3   2   0   2   0   0   0   0   0   0   0   \n",
      "11                       0   0   3   4   0   0   0   0   0   0   0   0   0   \n",
      "12                       0   0   0   0   0   1   0   0   0   0   1   0   0   \n",
      "13                       0   0   0   0   5   0   2   0   0   0   0   0   0   \n",
      "14                       0   0   0   0   0   1   0   1   0   0   0   0   0   \n",
      "\n",
      "Clustering 10000 genes  13  14  \n",
      "Clustering 10 genes             \n",
      "0                        0   5  \n",
      "1                        0   0  \n",
      "2                        0   0  \n",
      "3                        1   2  \n",
      "4                        0   0  \n",
      "5                        0   0  \n",
      "6                        0   0  \n",
      "7                        0   0  \n",
      "8                        0   0  \n",
      "9                        0   0  \n",
      "10                       0   0  \n",
      "11                       0   0  \n",
      "12                       0   2  \n",
      "13                       0   2  \n",
      "14                       0   0  \n"
     ]
    }
   ],
   "source": [
    "# 10 and 10000 Chi_squared\n",
    "contingency_table = pd.crosstab(pd.Series(clustering_10.labels_, name='Clustering 10 genes'), pd.Series(clustering_10000.labels_, name='Clustering 10000 genes'))\n",
    "chi2, p, dof, expected = chi2_contingency(contingency_table)\n",
    "print(f\"\\nChi-squared Statistic: {chi2}\")\n",
    "print(f\"P-value: {p}\")\n",
    "print(f\"Degrees of Freedom: {dof}\")\n",
    "print(\"Expected Frequencies:\")\n",
    "print(expected)\n",
    "print('Observed Frequencies')\n",
    "print(contingency_table)"
   ]
  },
  {
   "cell_type": "code",
   "execution_count": 34,
   "metadata": {},
   "outputs": [
    {
     "name": "stdout",
     "output_type": "stream",
     "text": [
      "\n",
      "Chi-squared Statistic: 972.7918975468975\n",
      "P-value: 3.2518360554168893e-103\n",
      "Degrees of Freedom: 196\n",
      "Expected Frequencies:\n",
      "[[0.71428571 0.67226891 0.08403361 0.58823529 0.33613445 0.21008403\n",
      "  0.50420168 0.29411765 0.37815126 0.12605042 0.33613445 0.29411765\n",
      "  0.33613445 0.04201681 0.08403361]\n",
      " [1.42857143 1.34453782 0.16806723 1.17647059 0.67226891 0.42016807\n",
      "  1.00840336 0.58823529 0.75630252 0.25210084 0.67226891 0.58823529\n",
      "  0.67226891 0.08403361 0.16806723]\n",
      " [1.71428571 1.61344538 0.20168067 1.41176471 0.80672269 0.50420168\n",
      "  1.21008403 0.70588235 0.90756303 0.30252101 0.80672269 0.70588235\n",
      "  0.80672269 0.10084034 0.20168067]\n",
      " [1.57142857 1.4789916  0.18487395 1.29411765 0.7394958  0.46218487\n",
      "  1.1092437  0.64705882 0.83193277 0.27731092 0.7394958  0.64705882\n",
      "  0.7394958  0.09243697 0.18487395]\n",
      " [2.         1.88235294 0.23529412 1.64705882 0.94117647 0.58823529\n",
      "  1.41176471 0.82352941 1.05882353 0.35294118 0.94117647 0.82352941\n",
      "  0.94117647 0.11764706 0.23529412]\n",
      " [2.         1.88235294 0.23529412 1.64705882 0.94117647 0.58823529\n",
      "  1.41176471 0.82352941 1.05882353 0.35294118 0.94117647 0.82352941\n",
      "  0.94117647 0.11764706 0.23529412]\n",
      " [2.28571429 2.1512605  0.26890756 1.88235294 1.07563025 0.67226891\n",
      "  1.61344538 0.94117647 1.21008403 0.40336134 1.07563025 0.94117647\n",
      "  1.07563025 0.13445378 0.26890756]\n",
      " [0.85714286 0.80672269 0.10084034 0.70588235 0.40336134 0.25210084\n",
      "  0.60504202 0.35294118 0.45378151 0.1512605  0.40336134 0.35294118\n",
      "  0.40336134 0.05042017 0.10084034]\n",
      " [0.71428571 0.67226891 0.08403361 0.58823529 0.33613445 0.21008403\n",
      "  0.50420168 0.29411765 0.37815126 0.12605042 0.33613445 0.29411765\n",
      "  0.33613445 0.04201681 0.08403361]\n",
      " [0.28571429 0.26890756 0.03361345 0.23529412 0.13445378 0.08403361\n",
      "  0.20168067 0.11764706 0.1512605  0.05042017 0.13445378 0.11764706\n",
      "  0.13445378 0.01680672 0.03361345]\n",
      " [0.85714286 0.80672269 0.10084034 0.70588235 0.40336134 0.25210084\n",
      "  0.60504202 0.35294118 0.45378151 0.1512605  0.40336134 0.35294118\n",
      "  0.40336134 0.05042017 0.10084034]\n",
      " [0.71428571 0.67226891 0.08403361 0.58823529 0.33613445 0.21008403\n",
      "  0.50420168 0.29411765 0.37815126 0.12605042 0.33613445 0.29411765\n",
      "  0.33613445 0.04201681 0.08403361]\n",
      " [0.42857143 0.40336134 0.05042017 0.35294118 0.20168067 0.12605042\n",
      "  0.30252101 0.17647059 0.22689076 0.07563025 0.20168067 0.17647059\n",
      "  0.20168067 0.02521008 0.05042017]\n",
      " [0.42857143 0.40336134 0.05042017 0.35294118 0.20168067 0.12605042\n",
      "  0.30252101 0.17647059 0.22689076 0.07563025 0.20168067 0.17647059\n",
      "  0.20168067 0.02521008 0.05042017]\n",
      " [1.         0.94117647 0.11764706 0.82352941 0.47058824 0.29411765\n",
      "  0.70588235 0.41176471 0.52941176 0.17647059 0.47058824 0.41176471\n",
      "  0.47058824 0.05882353 0.11764706]]\n",
      "Observed Frequencies\n",
      "Clustering 1000 genes  0   1   2   3   4   5   6   7   8   9   10  11  12  13  \\\n",
      "Clustering 100 genes                                                            \n",
      "0                       0   0   0   0   0   2   3   0   0   0   0   0   0   0   \n",
      "1                       0   0   0   0   0   1   9   0   0   0   0   0   0   0   \n",
      "2                       0   0   0   0   0   0   0   0   0   0   0   7   5   0   \n",
      "3                       0   0   0   0   0   0   0   4   7   0   0   0   0   0   \n",
      "4                       0   0   0   9   5   0   0   0   0   0   0   0   0   0   \n",
      "5                       0  13   0   0   0   1   0   0   0   0   0   0   0   0   \n",
      "6                      15   0   0   0   0   1   0   0   0   0   0   0   0   0   \n",
      "7                       0   0   0   4   0   0   0   0   0   0   1   0   0   1   \n",
      "8                       2   0   0   0   0   0   0   0   0   0   0   0   3   0   \n",
      "9                       0   0   2   0   0   0   0   0   0   0   0   0   0   0   \n",
      "10                      0   0   0   0   3   0   0   0   0   0   1   0   0   0   \n",
      "11                      0   0   0   0   0   0   0   3   2   0   0   0   0   0   \n",
      "12                      0   0   0   0   0   0   0   0   0   3   0   0   0   0   \n",
      "13                      0   3   0   0   0   0   0   0   0   0   0   0   0   0   \n",
      "14                      0   0   0   1   0   0   0   0   0   0   6   0   0   0   \n",
      "\n",
      "Clustering 1000 genes  14  \n",
      "Clustering 100 genes       \n",
      "0                       0  \n",
      "1                       0  \n",
      "2                       0  \n",
      "3                       0  \n",
      "4                       0  \n",
      "5                       0  \n",
      "6                       0  \n",
      "7                       0  \n",
      "8                       0  \n",
      "9                       0  \n",
      "10                      2  \n",
      "11                      0  \n",
      "12                      0  \n",
      "13                      0  \n",
      "14                      0  \n"
     ]
    }
   ],
   "source": [
    "# 100 and 1000 Chi_squared\n",
    "contingency_table = pd.crosstab(pd.Series(clustering_100.labels_, name='Clustering 100 genes'), pd.Series(clustering_1000.labels_, name='Clustering 1000 genes'))\n",
    "chi2, p, dof, expected = chi2_contingency(contingency_table)\n",
    "print(f\"\\nChi-squared Statistic: {chi2}\")\n",
    "print(f\"P-value: {p}\")\n",
    "print(f\"Degrees of Freedom: {dof}\")\n",
    "print(\"Expected Frequencies:\")\n",
    "print(expected)\n",
    "print('Observed Frequencies')\n",
    "print(contingency_table)"
   ]
  },
  {
   "cell_type": "code",
   "execution_count": 35,
   "metadata": {},
   "outputs": [
    {
     "name": "stdout",
     "output_type": "stream",
     "text": [
      "\n",
      "Chi-squared Statistic: 818.1914944083694\n",
      "P-value: 6.500728522879178e-77\n",
      "Degrees of Freedom: 196\n",
      "Expected Frequencies:\n",
      "[[0.67226891 0.67226891 0.6302521  0.21008403 0.6302521  0.50420168\n",
      "  0.21008403 0.12605042 0.29411765 0.37815126 0.04201681 0.04201681\n",
      "  0.04201681 0.25210084 0.29411765]\n",
      " [1.34453782 1.34453782 1.2605042  0.42016807 1.2605042  1.00840336\n",
      "  0.42016807 0.25210084 0.58823529 0.75630252 0.08403361 0.08403361\n",
      "  0.08403361 0.50420168 0.58823529]\n",
      " [1.61344538 1.61344538 1.51260504 0.50420168 1.51260504 1.21008403\n",
      "  0.50420168 0.30252101 0.70588235 0.90756303 0.10084034 0.10084034\n",
      "  0.10084034 0.60504202 0.70588235]\n",
      " [1.4789916  1.4789916  1.38655462 0.46218487 1.38655462 1.1092437\n",
      "  0.46218487 0.27731092 0.64705882 0.83193277 0.09243697 0.09243697\n",
      "  0.09243697 0.55462185 0.64705882]\n",
      " [1.88235294 1.88235294 1.76470588 0.58823529 1.76470588 1.41176471\n",
      "  0.58823529 0.35294118 0.82352941 1.05882353 0.11764706 0.11764706\n",
      "  0.11764706 0.70588235 0.82352941]\n",
      " [1.88235294 1.88235294 1.76470588 0.58823529 1.76470588 1.41176471\n",
      "  0.58823529 0.35294118 0.82352941 1.05882353 0.11764706 0.11764706\n",
      "  0.11764706 0.70588235 0.82352941]\n",
      " [2.1512605  2.1512605  2.01680672 0.67226891 2.01680672 1.61344538\n",
      "  0.67226891 0.40336134 0.94117647 1.21008403 0.13445378 0.13445378\n",
      "  0.13445378 0.80672269 0.94117647]\n",
      " [0.80672269 0.80672269 0.75630252 0.25210084 0.75630252 0.60504202\n",
      "  0.25210084 0.1512605  0.35294118 0.45378151 0.05042017 0.05042017\n",
      "  0.05042017 0.30252101 0.35294118]\n",
      " [0.67226891 0.67226891 0.6302521  0.21008403 0.6302521  0.50420168\n",
      "  0.21008403 0.12605042 0.29411765 0.37815126 0.04201681 0.04201681\n",
      "  0.04201681 0.25210084 0.29411765]\n",
      " [0.26890756 0.26890756 0.25210084 0.08403361 0.25210084 0.20168067\n",
      "  0.08403361 0.05042017 0.11764706 0.1512605  0.01680672 0.01680672\n",
      "  0.01680672 0.10084034 0.11764706]\n",
      " [0.80672269 0.80672269 0.75630252 0.25210084 0.75630252 0.60504202\n",
      "  0.25210084 0.1512605  0.35294118 0.45378151 0.05042017 0.05042017\n",
      "  0.05042017 0.30252101 0.35294118]\n",
      " [0.67226891 0.67226891 0.6302521  0.21008403 0.6302521  0.50420168\n",
      "  0.21008403 0.12605042 0.29411765 0.37815126 0.04201681 0.04201681\n",
      "  0.04201681 0.25210084 0.29411765]\n",
      " [0.40336134 0.40336134 0.37815126 0.12605042 0.37815126 0.30252101\n",
      "  0.12605042 0.07563025 0.17647059 0.22689076 0.02521008 0.02521008\n",
      "  0.02521008 0.1512605  0.17647059]\n",
      " [0.40336134 0.40336134 0.37815126 0.12605042 0.37815126 0.30252101\n",
      "  0.12605042 0.07563025 0.17647059 0.22689076 0.02521008 0.02521008\n",
      "  0.02521008 0.1512605  0.17647059]\n",
      " [0.94117647 0.94117647 0.88235294 0.29411765 0.88235294 0.70588235\n",
      "  0.29411765 0.17647059 0.41176471 0.52941176 0.05882353 0.05882353\n",
      "  0.05882353 0.35294118 0.41176471]]\n",
      "Observed Frequencies\n",
      "Clustering 5000 genes  0   1   2   3   4   5   6   7   8   9   10  11  12  13  \\\n",
      "Clustering 100 genes                                                            \n",
      "0                       0   0   0   2   0   3   0   0   0   0   0   0   0   0   \n",
      "1                       0   0   0   1   0   9   0   0   0   0   0   0   0   0   \n",
      "2                       0   7   5   0   0   0   0   0   0   0   0   0   0   0   \n",
      "3                       0   7   4   0   0   0   0   0   0   0   0   0   0   0   \n",
      "4                       0   0   0   0  10   0   0   0   0   0   0   0   0   4   \n",
      "5                       9   0   0   1   0   0   0   0   4   0   0   0   0   0   \n",
      "6                       0   0   0   1   0   0   0   0   1   9   0   0   0   0   \n",
      "7                       1   0   0   0   4   0   0   0   0   0   1   0   0   0   \n",
      "8                       0   0   3   0   0   0   0   0   0   0   0   0   0   0   \n",
      "9                       0   0   0   0   0   0   0   0   0   0   0   1   1   0   \n",
      "10                      0   0   0   0   0   0   5   0   0   0   0   0   0   1   \n",
      "11                      0   2   3   0   0   0   0   0   0   0   0   0   0   0   \n",
      "12                      0   0   0   0   0   0   0   3   0   0   0   0   0   0   \n",
      "13                      1   0   0   0   0   0   0   0   2   0   0   0   0   0   \n",
      "14                      5   0   0   0   1   0   0   0   0   0   0   0   0   1   \n",
      "\n",
      "Clustering 5000 genes  14  \n",
      "Clustering 100 genes       \n",
      "0                       0  \n",
      "1                       0  \n",
      "2                       0  \n",
      "3                       0  \n",
      "4                       0  \n",
      "5                       0  \n",
      "6                       5  \n",
      "7                       0  \n",
      "8                       2  \n",
      "9                       0  \n",
      "10                      0  \n",
      "11                      0  \n",
      "12                      0  \n",
      "13                      0  \n",
      "14                      0  \n"
     ]
    }
   ],
   "source": [
    "# 100 and 5000 Chi_squared\n",
    "contingency_table = pd.crosstab(pd.Series(clustering_100.labels_, name='Clustering 100 genes'), pd.Series(clustering_5000.labels_, name='Clustering 5000 genes'))\n",
    "chi2, p, dof, expected = chi2_contingency(contingency_table)\n",
    "print(f\"\\nChi-squared Statistic: {chi2}\")\n",
    "print(f\"P-value: {p}\")\n",
    "print(f\"Degrees of Freedom: {dof}\")\n",
    "print(\"Expected Frequencies:\")\n",
    "print(expected)\n",
    "print('Observed Frequencies')\n",
    "print(contingency_table)"
   ]
  },
  {
   "cell_type": "code",
   "execution_count": 36,
   "metadata": {},
   "outputs": [
    {
     "name": "stdout",
     "output_type": "stream",
     "text": [
      "\n",
      "Chi-squared Statistic: 722.3989920322733\n",
      "P-value: 2.435566347491921e-61\n",
      "Degrees of Freedom: 196\n",
      "Expected Frequencies:\n",
      "[[0.12605042 0.67226891 0.54621849 0.6302521  0.42016807 0.67226891\n",
      "  0.29411765 0.42016807 0.04201681 0.04201681 0.04201681 0.37815126\n",
      "  0.21008403 0.04201681 0.46218487]\n",
      " [0.25210084 1.34453782 1.09243697 1.2605042  0.84033613 1.34453782\n",
      "  0.58823529 0.84033613 0.08403361 0.08403361 0.08403361 0.75630252\n",
      "  0.42016807 0.08403361 0.92436975]\n",
      " [0.30252101 1.61344538 1.31092437 1.51260504 1.00840336 1.61344538\n",
      "  0.70588235 1.00840336 0.10084034 0.10084034 0.10084034 0.90756303\n",
      "  0.50420168 0.10084034 1.1092437 ]\n",
      " [0.27731092 1.4789916  1.20168067 1.38655462 0.92436975 1.4789916\n",
      "  0.64705882 0.92436975 0.09243697 0.09243697 0.09243697 0.83193277\n",
      "  0.46218487 0.09243697 1.01680672]\n",
      " [0.35294118 1.88235294 1.52941176 1.76470588 1.17647059 1.88235294\n",
      "  0.82352941 1.17647059 0.11764706 0.11764706 0.11764706 1.05882353\n",
      "  0.58823529 0.11764706 1.29411765]\n",
      " [0.35294118 1.88235294 1.52941176 1.76470588 1.17647059 1.88235294\n",
      "  0.82352941 1.17647059 0.11764706 0.11764706 0.11764706 1.05882353\n",
      "  0.58823529 0.11764706 1.29411765]\n",
      " [0.40336134 2.1512605  1.74789916 2.01680672 1.34453782 2.1512605\n",
      "  0.94117647 1.34453782 0.13445378 0.13445378 0.13445378 1.21008403\n",
      "  0.67226891 0.13445378 1.4789916 ]\n",
      " [0.1512605  0.80672269 0.65546218 0.75630252 0.50420168 0.80672269\n",
      "  0.35294118 0.50420168 0.05042017 0.05042017 0.05042017 0.45378151\n",
      "  0.25210084 0.05042017 0.55462185]\n",
      " [0.12605042 0.67226891 0.54621849 0.6302521  0.42016807 0.67226891\n",
      "  0.29411765 0.42016807 0.04201681 0.04201681 0.04201681 0.37815126\n",
      "  0.21008403 0.04201681 0.46218487]\n",
      " [0.05042017 0.26890756 0.21848739 0.25210084 0.16806723 0.26890756\n",
      "  0.11764706 0.16806723 0.01680672 0.01680672 0.01680672 0.1512605\n",
      "  0.08403361 0.01680672 0.18487395]\n",
      " [0.1512605  0.80672269 0.65546218 0.75630252 0.50420168 0.80672269\n",
      "  0.35294118 0.50420168 0.05042017 0.05042017 0.05042017 0.45378151\n",
      "  0.25210084 0.05042017 0.55462185]\n",
      " [0.12605042 0.67226891 0.54621849 0.6302521  0.42016807 0.67226891\n",
      "  0.29411765 0.42016807 0.04201681 0.04201681 0.04201681 0.37815126\n",
      "  0.21008403 0.04201681 0.46218487]\n",
      " [0.07563025 0.40336134 0.32773109 0.37815126 0.25210084 0.40336134\n",
      "  0.17647059 0.25210084 0.02521008 0.02521008 0.02521008 0.22689076\n",
      "  0.12605042 0.02521008 0.27731092]\n",
      " [0.07563025 0.40336134 0.32773109 0.37815126 0.25210084 0.40336134\n",
      "  0.17647059 0.25210084 0.02521008 0.02521008 0.02521008 0.22689076\n",
      "  0.12605042 0.02521008 0.27731092]\n",
      " [0.17647059 0.94117647 0.76470588 0.88235294 0.58823529 0.94117647\n",
      "  0.41176471 0.58823529 0.05882353 0.05882353 0.05882353 0.52941176\n",
      "  0.29411765 0.05882353 0.64705882]]\n",
      "Observed Frequencies\n",
      "Clustering 10000 genes  0   1   2   3   4   5   6   7   8   9   10  11  12  \\\n",
      "Clustering 10 genes                                                          \n",
      "0                        0   0   1   0   0   2   0   0   0   0   0   0   2   \n",
      "1                        0   0   5   0   0   3   1   0   0   0   0   0   1   \n",
      "2                        0   7   0   5   0   0   0   0   0   0   0   0   0   \n",
      "3                        0   7   0   4   0   0   0   0   0   0   0   0   0   \n",
      "4                        0   0   0   0   4   2   0   0   0   0   0   0   0   \n",
      "5                        0   0   0   0   0   4   0   9   0   0   0   0   1   \n",
      "6                        0   0   5   0   0   1   0   0   0   0   0   9   1   \n",
      "7                        0   0   0   0   0   2   1   0   0   0   1   0   0   \n",
      "8                        0   0   2   3   0   0   0   0   0   0   0   0   0   \n",
      "9                        0   0   0   0   0   0   0   0   1   1   0   0   0   \n",
      "10                       0   0   0   0   5   0   0   0   0   0   0   0   0   \n",
      "11                       0   2   0   3   0   0   0   0   0   0   0   0   0   \n",
      "12                       3   0   0   0   0   0   0   0   0   0   0   0   0   \n",
      "13                       0   0   0   0   0   2   0   1   0   0   0   0   0   \n",
      "14                       0   0   0   0   1   0   5   0   0   0   0   0   0   \n",
      "\n",
      "Clustering 10000 genes  13  14  \n",
      "Clustering 10 genes             \n",
      "0                        0   0  \n",
      "1                        0   0  \n",
      "2                        0   0  \n",
      "3                        0   0  \n",
      "4                        0   8  \n",
      "5                        0   0  \n",
      "6                        0   0  \n",
      "7                        0   2  \n",
      "8                        0   0  \n",
      "9                        0   0  \n",
      "10                       1   0  \n",
      "11                       0   0  \n",
      "12                       0   0  \n",
      "13                       0   0  \n",
      "14                       0   1  \n"
     ]
    }
   ],
   "source": [
    "# 100 and 10000 Chi_squared\n",
    "contingency_table = pd.crosstab(pd.Series(clustering_100.labels_, name='Clustering 10 genes'), pd.Series(clustering_10000.labels_, name='Clustering 10000 genes'))\n",
    "chi2, p, dof, expected = chi2_contingency(contingency_table)\n",
    "print(f\"\\nChi-squared Statistic: {chi2}\")\n",
    "print(f\"P-value: {p}\")\n",
    "print(f\"Degrees of Freedom: {dof}\")\n",
    "print(\"Expected Frequencies:\")\n",
    "print(expected)\n",
    "print('Observed Frequencies')\n",
    "print(contingency_table)"
   ]
  },
  {
   "cell_type": "code",
   "execution_count": 37,
   "metadata": {},
   "outputs": [
    {
     "name": "stdout",
     "output_type": "stream",
     "text": [
      "\n",
      "Chi-squared Statistic: 1184.1947916666668\n",
      "P-value: 7.445485226589463e-141\n",
      "Degrees of Freedom: 196\n",
      "Expected Frequencies:\n",
      "[[2.28571429 2.28571429 2.14285714 0.71428571 2.14285714 1.71428571\n",
      "  0.71428571 0.42857143 1.         1.28571429 0.14285714 0.14285714\n",
      "  0.14285714 0.85714286 1.        ]\n",
      " [2.1512605  2.1512605  2.01680672 0.67226891 2.01680672 1.61344538\n",
      "  0.67226891 0.40336134 0.94117647 1.21008403 0.13445378 0.13445378\n",
      "  0.13445378 0.80672269 0.94117647]\n",
      " [0.26890756 0.26890756 0.25210084 0.08403361 0.25210084 0.20168067\n",
      "  0.08403361 0.05042017 0.11764706 0.1512605  0.01680672 0.01680672\n",
      "  0.01680672 0.10084034 0.11764706]\n",
      " [1.88235294 1.88235294 1.76470588 0.58823529 1.76470588 1.41176471\n",
      "  0.58823529 0.35294118 0.82352941 1.05882353 0.11764706 0.11764706\n",
      "  0.11764706 0.70588235 0.82352941]\n",
      " [1.07563025 1.07563025 1.00840336 0.33613445 1.00840336 0.80672269\n",
      "  0.33613445 0.20168067 0.47058824 0.60504202 0.06722689 0.06722689\n",
      "  0.06722689 0.40336134 0.47058824]\n",
      " [0.67226891 0.67226891 0.6302521  0.21008403 0.6302521  0.50420168\n",
      "  0.21008403 0.12605042 0.29411765 0.37815126 0.04201681 0.04201681\n",
      "  0.04201681 0.25210084 0.29411765]\n",
      " [1.61344538 1.61344538 1.51260504 0.50420168 1.51260504 1.21008403\n",
      "  0.50420168 0.30252101 0.70588235 0.90756303 0.10084034 0.10084034\n",
      "  0.10084034 0.60504202 0.70588235]\n",
      " [0.94117647 0.94117647 0.88235294 0.29411765 0.88235294 0.70588235\n",
      "  0.29411765 0.17647059 0.41176471 0.52941176 0.05882353 0.05882353\n",
      "  0.05882353 0.35294118 0.41176471]\n",
      " [1.21008403 1.21008403 1.13445378 0.37815126 1.13445378 0.90756303\n",
      "  0.37815126 0.22689076 0.52941176 0.68067227 0.07563025 0.07563025\n",
      "  0.07563025 0.45378151 0.52941176]\n",
      " [0.40336134 0.40336134 0.37815126 0.12605042 0.37815126 0.30252101\n",
      "  0.12605042 0.07563025 0.17647059 0.22689076 0.02521008 0.02521008\n",
      "  0.02521008 0.1512605  0.17647059]\n",
      " [1.07563025 1.07563025 1.00840336 0.33613445 1.00840336 0.80672269\n",
      "  0.33613445 0.20168067 0.47058824 0.60504202 0.06722689 0.06722689\n",
      "  0.06722689 0.40336134 0.47058824]\n",
      " [0.94117647 0.94117647 0.88235294 0.29411765 0.88235294 0.70588235\n",
      "  0.29411765 0.17647059 0.41176471 0.52941176 0.05882353 0.05882353\n",
      "  0.05882353 0.35294118 0.41176471]\n",
      " [1.07563025 1.07563025 1.00840336 0.33613445 1.00840336 0.80672269\n",
      "  0.33613445 0.20168067 0.47058824 0.60504202 0.06722689 0.06722689\n",
      "  0.06722689 0.40336134 0.47058824]\n",
      " [0.13445378 0.13445378 0.12605042 0.04201681 0.12605042 0.10084034\n",
      "  0.04201681 0.02521008 0.05882353 0.07563025 0.00840336 0.00840336\n",
      "  0.00840336 0.05042017 0.05882353]\n",
      " [0.26890756 0.26890756 0.25210084 0.08403361 0.25210084 0.20168067\n",
      "  0.08403361 0.05042017 0.11764706 0.1512605  0.01680672 0.01680672\n",
      "  0.01680672 0.10084034 0.11764706]]\n",
      "Observed Frequencies\n",
      "Clustering 5000 genes  0   1   2   3   4   5   6   7   8   9   10  11  12  13  \\\n",
      "Clustering 1000 genes                                                           \n",
      "0                       0   0   0   0   0   0   0   0   1   9   0   0   0   0   \n",
      "1                      10   0   0   0   0   0   0   0   6   0   0   0   0   0   \n",
      "2                       0   0   0   0   0   0   0   0   0   0   0   1   1   0   \n",
      "3                       0   0   0   0  14   0   0   0   0   0   0   0   0   0   \n",
      "4                       0   0   0   0   1   0   2   0   0   0   0   0   0   5   \n",
      "5                       0   0   0   5   0   0   0   0   0   0   0   0   0   0   \n",
      "6                       0   0   0   0   0  12   0   0   0   0   0   0   0   0   \n",
      "7                       0   0   7   0   0   0   0   0   0   0   0   0   0   0   \n",
      "8                       0   9   0   0   0   0   0   0   0   0   0   0   0   0   \n",
      "9                       0   0   0   0   0   0   0   3   0   0   0   0   0   0   \n",
      "10                      6   0   0   0   0   0   1   0   0   0   0   0   0   1   \n",
      "11                      0   7   0   0   0   0   0   0   0   0   0   0   0   0   \n",
      "12                      0   0   8   0   0   0   0   0   0   0   0   0   0   0   \n",
      "13                      0   0   0   0   0   0   0   0   0   0   1   0   0   0   \n",
      "14                      0   0   0   0   0   0   2   0   0   0   0   0   0   0   \n",
      "\n",
      "Clustering 5000 genes  14  \n",
      "Clustering 1000 genes      \n",
      "0                       7  \n",
      "1                       0  \n",
      "2                       0  \n",
      "3                       0  \n",
      "4                       0  \n",
      "5                       0  \n",
      "6                       0  \n",
      "7                       0  \n",
      "8                       0  \n",
      "9                       0  \n",
      "10                      0  \n",
      "11                      0  \n",
      "12                      0  \n",
      "13                      0  \n",
      "14                      0  \n"
     ]
    }
   ],
   "source": [
    "# 1000 and 5000 Chi_squared\n",
    "contingency_table = pd.crosstab(pd.Series(clustering_1000.labels_, name='Clustering 1000 genes'), pd.Series(clustering_5000.labels_, name='Clustering 5000 genes'))\n",
    "chi2, p, dof, expected = chi2_contingency(contingency_table)\n",
    "print(f\"\\nChi-squared Statistic: {chi2}\")\n",
    "print(f\"P-value: {p}\")\n",
    "print(f\"Degrees of Freedom: {dof}\")\n",
    "print(\"Expected Frequencies:\")\n",
    "print(expected)\n",
    "print('Observed Frequencies')\n",
    "print(contingency_table)"
   ]
  },
  {
   "cell_type": "code",
   "execution_count": 38,
   "metadata": {},
   "outputs": [
    {
     "name": "stdout",
     "output_type": "stream",
     "text": [
      "\n",
      "Chi-squared Statistic: 1128.2169871794872\n",
      "P-value: 9.807999895345092e-131\n",
      "Degrees of Freedom: 196\n",
      "Expected Frequencies:\n",
      "[[0.42857143 2.28571429 1.85714286 2.14285714 1.42857143 2.28571429\n",
      "  1.         1.42857143 0.14285714 0.14285714 0.14285714 1.28571429\n",
      "  0.71428571 0.14285714 1.57142857]\n",
      " [0.40336134 2.1512605  1.74789916 2.01680672 1.34453782 2.1512605\n",
      "  0.94117647 1.34453782 0.13445378 0.13445378 0.13445378 1.21008403\n",
      "  0.67226891 0.13445378 1.4789916 ]\n",
      " [0.05042017 0.26890756 0.21848739 0.25210084 0.16806723 0.26890756\n",
      "  0.11764706 0.16806723 0.01680672 0.01680672 0.01680672 0.1512605\n",
      "  0.08403361 0.01680672 0.18487395]\n",
      " [0.35294118 1.88235294 1.52941176 1.76470588 1.17647059 1.88235294\n",
      "  0.82352941 1.17647059 0.11764706 0.11764706 0.11764706 1.05882353\n",
      "  0.58823529 0.11764706 1.29411765]\n",
      " [0.20168067 1.07563025 0.87394958 1.00840336 0.67226891 1.07563025\n",
      "  0.47058824 0.67226891 0.06722689 0.06722689 0.06722689 0.60504202\n",
      "  0.33613445 0.06722689 0.7394958 ]\n",
      " [0.12605042 0.67226891 0.54621849 0.6302521  0.42016807 0.67226891\n",
      "  0.29411765 0.42016807 0.04201681 0.04201681 0.04201681 0.37815126\n",
      "  0.21008403 0.04201681 0.46218487]\n",
      " [0.30252101 1.61344538 1.31092437 1.51260504 1.00840336 1.61344538\n",
      "  0.70588235 1.00840336 0.10084034 0.10084034 0.10084034 0.90756303\n",
      "  0.50420168 0.10084034 1.1092437 ]\n",
      " [0.17647059 0.94117647 0.76470588 0.88235294 0.58823529 0.94117647\n",
      "  0.41176471 0.58823529 0.05882353 0.05882353 0.05882353 0.52941176\n",
      "  0.29411765 0.05882353 0.64705882]\n",
      " [0.22689076 1.21008403 0.98319328 1.13445378 0.75630252 1.21008403\n",
      "  0.52941176 0.75630252 0.07563025 0.07563025 0.07563025 0.68067227\n",
      "  0.37815126 0.07563025 0.83193277]\n",
      " [0.07563025 0.40336134 0.32773109 0.37815126 0.25210084 0.40336134\n",
      "  0.17647059 0.25210084 0.02521008 0.02521008 0.02521008 0.22689076\n",
      "  0.12605042 0.02521008 0.27731092]\n",
      " [0.20168067 1.07563025 0.87394958 1.00840336 0.67226891 1.07563025\n",
      "  0.47058824 0.67226891 0.06722689 0.06722689 0.06722689 0.60504202\n",
      "  0.33613445 0.06722689 0.7394958 ]\n",
      " [0.17647059 0.94117647 0.76470588 0.88235294 0.58823529 0.94117647\n",
      "  0.41176471 0.58823529 0.05882353 0.05882353 0.05882353 0.52941176\n",
      "  0.29411765 0.05882353 0.64705882]\n",
      " [0.20168067 1.07563025 0.87394958 1.00840336 0.67226891 1.07563025\n",
      "  0.47058824 0.67226891 0.06722689 0.06722689 0.06722689 0.60504202\n",
      "  0.33613445 0.06722689 0.7394958 ]\n",
      " [0.02521008 0.13445378 0.1092437  0.12605042 0.08403361 0.13445378\n",
      "  0.05882353 0.08403361 0.00840336 0.00840336 0.00840336 0.07563025\n",
      "  0.04201681 0.00840336 0.09243697]\n",
      " [0.05042017 0.26890756 0.21848739 0.25210084 0.16806723 0.26890756\n",
      "  0.11764706 0.16806723 0.01680672 0.01680672 0.01680672 0.1512605\n",
      "  0.08403361 0.01680672 0.18487395]]\n",
      "Observed Frequencies\n",
      "Clustering 10000 genes  0   1   2   3   4   5   6   7   8   9   10  11  12  \\\n",
      "Clustering 1000 genes                                                        \n",
      "0                        0   0   7   0   0   1   0   0   0   0   0   9   0   \n",
      "1                        0   0   0   0   0   6   0  10   0   0   0   0   0   \n",
      "2                        0   0   0   0   0   0   0   0   1   1   0   0   0   \n",
      "3                        0   0   0   0   0   4   0   0   0   0   0   0   0   \n",
      "4                        0   0   0   0   7   0   0   0   0   0   0   0   0   \n",
      "5                        0   0   0   0   0   0   0   0   0   0   0   0   5   \n",
      "6                        0   0   6   0   0   5   1   0   0   0   0   0   0   \n",
      "7                        0   0   0   7   0   0   0   0   0   0   0   0   0   \n",
      "8                        0   9   0   0   0   0   0   0   0   0   0   0   0   \n",
      "9                        3   0   0   0   0   0   0   0   0   0   0   0   0   \n",
      "10                       0   0   0   0   2   0   6   0   0   0   0   0   0   \n",
      "11                       0   7   0   0   0   0   0   0   0   0   0   0   0   \n",
      "12                       0   0   0   8   0   0   0   0   0   0   0   0   0   \n",
      "13                       0   0   0   0   0   0   0   0   0   0   1   0   0   \n",
      "14                       0   0   0   0   1   0   0   0   0   0   0   0   0   \n",
      "\n",
      "Clustering 10000 genes  13  14  \n",
      "Clustering 1000 genes           \n",
      "0                        0   0  \n",
      "1                        0   0  \n",
      "2                        0   0  \n",
      "3                        0  10  \n",
      "4                        0   1  \n",
      "5                        0   0  \n",
      "6                        0   0  \n",
      "7                        0   0  \n",
      "8                        0   0  \n",
      "9                        0   0  \n",
      "10                       0   0  \n",
      "11                       0   0  \n",
      "12                       0   0  \n",
      "13                       0   0  \n",
      "14                       1   0  \n"
     ]
    }
   ],
   "source": [
    "# 1000 and 10000 Chi_squared\n",
    "contingency_table = pd.crosstab(pd.Series(clustering_1000.labels_, name='Clustering 1000 genes'), pd.Series(clustering_10000.labels_, name='Clustering 10000 genes'))\n",
    "chi2, p, dof, expected = chi2_contingency(contingency_table)\n",
    "print(f\"\\nChi-squared Statistic: {chi2}\")\n",
    "print(f\"P-value: {p}\")\n",
    "print(f\"Degrees of Freedom: {dof}\")\n",
    "print(\"Expected Frequencies:\")\n",
    "print(expected)\n",
    "print('Observed Frequencies')\n",
    "print(contingency_table)"
   ]
  },
  {
   "cell_type": "code",
   "execution_count": 39,
   "metadata": {},
   "outputs": [
    {
     "name": "stdout",
     "output_type": "stream",
     "text": [
      "\n",
      "Chi-squared Statistic: 1334.617419871795\n",
      "P-value: 1.7224790362479042e-168\n",
      "Degrees of Freedom: 196\n",
      "Expected Frequencies:\n",
      "[[0.40336134 2.1512605  1.74789916 2.01680672 1.34453782 2.1512605\n",
      "  0.94117647 1.34453782 0.13445378 0.13445378 0.13445378 1.21008403\n",
      "  0.67226891 0.13445378 1.4789916 ]\n",
      " [0.40336134 2.1512605  1.74789916 2.01680672 1.34453782 2.1512605\n",
      "  0.94117647 1.34453782 0.13445378 0.13445378 0.13445378 1.21008403\n",
      "  0.67226891 0.13445378 1.4789916 ]\n",
      " [0.37815126 2.01680672 1.63865546 1.8907563  1.2605042  2.01680672\n",
      "  0.88235294 1.2605042  0.12605042 0.12605042 0.12605042 1.13445378\n",
      "  0.6302521  0.12605042 1.38655462]\n",
      " [0.12605042 0.67226891 0.54621849 0.6302521  0.42016807 0.67226891\n",
      "  0.29411765 0.42016807 0.04201681 0.04201681 0.04201681 0.37815126\n",
      "  0.21008403 0.04201681 0.46218487]\n",
      " [0.37815126 2.01680672 1.63865546 1.8907563  1.2605042  2.01680672\n",
      "  0.88235294 1.2605042  0.12605042 0.12605042 0.12605042 1.13445378\n",
      "  0.6302521  0.12605042 1.38655462]\n",
      " [0.30252101 1.61344538 1.31092437 1.51260504 1.00840336 1.61344538\n",
      "  0.70588235 1.00840336 0.10084034 0.10084034 0.10084034 0.90756303\n",
      "  0.50420168 0.10084034 1.1092437 ]\n",
      " [0.12605042 0.67226891 0.54621849 0.6302521  0.42016807 0.67226891\n",
      "  0.29411765 0.42016807 0.04201681 0.04201681 0.04201681 0.37815126\n",
      "  0.21008403 0.04201681 0.46218487]\n",
      " [0.07563025 0.40336134 0.32773109 0.37815126 0.25210084 0.40336134\n",
      "  0.17647059 0.25210084 0.02521008 0.02521008 0.02521008 0.22689076\n",
      "  0.12605042 0.02521008 0.27731092]\n",
      " [0.17647059 0.94117647 0.76470588 0.88235294 0.58823529 0.94117647\n",
      "  0.41176471 0.58823529 0.05882353 0.05882353 0.05882353 0.52941176\n",
      "  0.29411765 0.05882353 0.64705882]\n",
      " [0.22689076 1.21008403 0.98319328 1.13445378 0.75630252 1.21008403\n",
      "  0.52941176 0.75630252 0.07563025 0.07563025 0.07563025 0.68067227\n",
      "  0.37815126 0.07563025 0.83193277]\n",
      " [0.02521008 0.13445378 0.1092437  0.12605042 0.08403361 0.13445378\n",
      "  0.05882353 0.08403361 0.00840336 0.00840336 0.00840336 0.07563025\n",
      "  0.04201681 0.00840336 0.09243697]\n",
      " [0.02521008 0.13445378 0.1092437  0.12605042 0.08403361 0.13445378\n",
      "  0.05882353 0.08403361 0.00840336 0.00840336 0.00840336 0.07563025\n",
      "  0.04201681 0.00840336 0.09243697]\n",
      " [0.02521008 0.13445378 0.1092437  0.12605042 0.08403361 0.13445378\n",
      "  0.05882353 0.08403361 0.00840336 0.00840336 0.00840336 0.07563025\n",
      "  0.04201681 0.00840336 0.09243697]\n",
      " [0.1512605  0.80672269 0.65546218 0.75630252 0.50420168 0.80672269\n",
      "  0.35294118 0.50420168 0.05042017 0.05042017 0.05042017 0.45378151\n",
      "  0.25210084 0.05042017 0.55462185]\n",
      " [0.17647059 0.94117647 0.76470588 0.88235294 0.58823529 0.94117647\n",
      "  0.41176471 0.58823529 0.05882353 0.05882353 0.05882353 0.52941176\n",
      "  0.29411765 0.05882353 0.64705882]]\n",
      "Observed Frequencies\n",
      "Clustering 10000 genes  0   1   2   3   4   5   6   7   8   9   10  11  12  \\\n",
      "Clustering 5000 genes                                                        \n",
      "0                        0   0   0   0   0   0   6  10   0   0   0   0   0   \n",
      "1                        0  16   0   0   0   0   0   0   0   0   0   0   0   \n",
      "2                        0   0   0  15   0   0   0   0   0   0   0   0   0   \n",
      "3                        0   0   0   0   0   0   0   0   0   0   0   0   5   \n",
      "4                        0   0   0   0   0   4   0   0   0   0   0   0   0   \n",
      "5                        0   0   6   0   0   5   1   0   0   0   0   0   0   \n",
      "6                        0   0   0   0   4   0   0   0   0   0   0   0   0   \n",
      "7                        3   0   0   0   0   0   0   0   0   0   0   0   0   \n",
      "8                        0   0   0   0   0   7   0   0   0   0   0   0   0   \n",
      "9                        0   0   0   0   0   0   0   0   0   0   0   9   0   \n",
      "10                       0   0   0   0   0   0   0   0   0   0   1   0   0   \n",
      "11                       0   0   0   0   0   0   0   0   0   1   0   0   0   \n",
      "12                       0   0   0   0   0   0   0   0   1   0   0   0   0   \n",
      "13                       0   0   0   0   6   0   0   0   0   0   0   0   0   \n",
      "14                       0   0   7   0   0   0   0   0   0   0   0   0   0   \n",
      "\n",
      "Clustering 10000 genes  13  14  \n",
      "Clustering 5000 genes           \n",
      "0                        0   0  \n",
      "1                        0   0  \n",
      "2                        0   0  \n",
      "3                        0   0  \n",
      "4                        0  11  \n",
      "5                        0   0  \n",
      "6                        1   0  \n",
      "7                        0   0  \n",
      "8                        0   0  \n",
      "9                        0   0  \n",
      "10                       0   0  \n",
      "11                       0   0  \n",
      "12                       0   0  \n",
      "13                       0   0  \n",
      "14                       0   0  \n"
     ]
    }
   ],
   "source": [
    "# 5000 and 10000 Chi_squared\n",
    "contingency_table = pd.crosstab(pd.Series(clustering_5000.labels_, name='Clustering 5000 genes'), pd.Series(clustering_10000.labels_, name='Clustering 10000 genes'))\n",
    "chi2, p, dof, expected = chi2_contingency(contingency_table)\n",
    "print(f\"\\nChi-squared Statistic: {chi2}\")\n",
    "print(f\"P-value: {p}\")\n",
    "print(f\"Degrees of Freedom: {dof}\")\n",
    "print(\"Expected Frequencies:\")\n",
    "print(expected)\n",
    "print('Observed Frequencies')\n",
    "print(contingency_table)"
   ]
  },
  {
   "cell_type": "code",
   "execution_count": 19,
   "metadata": {},
   "outputs": [],
   "source": [
    "#Modification of Labels for use in Sankey Diagram\n",
    "\n",
    "labeling1 = clustering_10.labels_\n",
    "labeling2 = clustering_100.labels_\n",
    "labeling3 = clustering_1000.labels_\n",
    "labeling4 = clustering_5000.labels_\n",
    "labeling5 = clustering_10000.labels_"
   ]
  },
  {
   "cell_type": "code",
   "execution_count": 20,
   "metadata": {},
   "outputs": [],
   "source": [
    "new_arr = []\n",
    "for i in range(len(labeling1)):\n",
    "    new_arr.append('A' + str(labeling1[i]))\n",
    "labeling1 = new_arr\n",
    "new_arr = []\n",
    "for i in range(len(labeling2)):\n",
    "    new_arr.append('B' + str(labeling2[i]))\n",
    "labeling2 = new_arr\n",
    "new_arr = []\n",
    "for i in range(len(labeling3)):\n",
    "    new_arr.append('C' + str(labeling3[i]))\n",
    "labeling3 = new_arr\n",
    "new_arr = []\n",
    "for i in range(len(labeling4)):\n",
    "    new_arr.append('D' + str(labeling4[i]))\n",
    "labeling4 = new_arr\n",
    "new_arr = []\n",
    "for i in range(len(labeling5)):\n",
    "    new_arr.append('E' + str(labeling5[i]))\n",
    "labeling5 = new_arr"
   ]
  },
  {
   "cell_type": "code",
   "execution_count": 23,
   "metadata": {},
   "outputs": [
    {
     "data": {
      "application/vnd.plotly.v1+json": {
       "config": {
        "plotlyServerURL": "https://plot.ly"
       },
       "data": [
        {
         "link": {
          "source": [
           0,
           0,
           0,
           1,
           1,
           1,
           1,
           2,
           2,
           2,
           3,
           3,
           4,
           5,
           5,
           5,
           6,
           7,
           7,
           8,
           8,
           8,
           9,
           9,
           10,
           10,
           10,
           11,
           11,
           12,
           12,
           12,
           13,
           13,
           14,
           15,
           15,
           16,
           16,
           17,
           17,
           17,
           18,
           18,
           19,
           20,
           21,
           21,
           22,
           22,
           23,
           23,
           24,
           24,
           25,
           25,
           26,
           26,
           27,
           27,
           27,
           28,
           28,
           29,
           30,
           30,
           30,
           31,
           31,
           32,
           32,
           32,
           33,
           34,
           35,
           36,
           37,
           37,
           38,
           39,
           39,
           39,
           40,
           41,
           42,
           43,
           44,
           45,
           45,
           46,
           47,
           48,
           49,
           50,
           51,
           52,
           53,
           54,
           54,
           55,
           55,
           55,
           56,
           56,
           57,
           58,
           59
          ],
          "target": [
           21,
           24,
           27,
           16,
           19,
           23,
           29,
           16,
           18,
           23,
           22,
           26,
           27,
           17,
           21,
           24,
           20,
           15,
           18,
           17,
           21,
           24,
           20,
           25,
           22,
           26,
           29,
           25,
           26,
           15,
           22,
           26,
           16,
           23,
           28,
           40,
           41,
           40,
           41,
           32,
           36,
           39,
           42,
           43,
           44,
           31,
           32,
           38,
           33,
           34,
           42,
           43,
           38,
           39,
           31,
           40,
           30,
           40,
           32,
           35,
           38,
           30,
           34,
           37,
           51,
           58,
           59,
           45,
           58,
           45,
           50,
           56,
           46,
           52,
           47,
           56,
           48,
           49,
           54,
           50,
           54,
           56,
           53,
           55,
           52,
           46,
           57,
           71,
           72,
           61,
           62,
           74,
           73,
           69,
           67,
           68,
           64,
           66,
           70,
           67,
           70,
           71,
           65,
           69,
           60,
           70,
           63
          ],
          "value": [
           3,
           6,
           2,
           1,
           3,
           5,
           1,
           5,
           1,
           3,
           4,
           3,
           4,
           3,
           3,
           3,
           2,
           4,
           4,
           3,
           1,
           5,
           1,
           9,
           5,
           6,
           1,
           5,
           1,
           1,
           3,
           6,
           4,
           3,
           5,
           2,
           3,
           1,
           9,
           1,
           2,
           3,
           3,
           2,
           3,
           3,
           6,
           1,
           7,
           5,
           4,
           7,
           9,
           5,
           13,
           1,
           15,
           1,
           1,
           1,
           4,
           2,
           3,
           2,
           7,
           1,
           9,
           10,
           6,
           6,
           1,
           1,
           7,
           8,
           1,
           2,
           1,
           1,
           14,
           5,
           1,
           2,
           5,
           12,
           7,
           9,
           3,
           6,
           10,
           16,
           1,
           1,
           1,
           6,
           7,
           15,
           5,
           11,
           4,
           6,
           5,
           1,
           1,
           4,
           3,
           7,
           9
          ]
         },
         "node": {
          "label": [
           "A0",
           "A1",
           "A10",
           "A11",
           "A12",
           "A13",
           "A14",
           "A2",
           "A3",
           "A4",
           "A5",
           "A6",
           "A7",
           "A8",
           "A9",
           "B0",
           "B1",
           "B10",
           "B11",
           "B12",
           "B13",
           "B14",
           "B2",
           "B3",
           "B4",
           "B5",
           "B6",
           "B7",
           "B8",
           "B9",
           "C0",
           "C1",
           "C10",
           "C11",
           "C12",
           "C13",
           "C14",
           "C2",
           "C3",
           "C4",
           "C5",
           "C6",
           "C7",
           "C8",
           "C9",
           "D0",
           "D1",
           "D10",
           "D11",
           "D12",
           "D13",
           "D14",
           "D2",
           "D3",
           "D4",
           "D5",
           "D6",
           "D7",
           "D8",
           "D9",
           "E0",
           "E1",
           "E10",
           "E11",
           "E12",
           "E13",
           "E14",
           "E2",
           "E3",
           "E4",
           "E5",
           "E6",
           "E7",
           "E8",
           "E9"
          ],
          "line": {
           "color": "black",
           "width": 0.5
          },
          "pad": 15,
          "thickness": 20
         },
         "type": "sankey"
        }
       ],
       "layout": {
        "font": {
         "size": 10
        },
        "template": {
         "data": {
          "bar": [
           {
            "error_x": {
             "color": "#2a3f5f"
            },
            "error_y": {
             "color": "#2a3f5f"
            },
            "marker": {
             "line": {
              "color": "#E5ECF6",
              "width": 0.5
             },
             "pattern": {
              "fillmode": "overlay",
              "size": 10,
              "solidity": 0.2
             }
            },
            "type": "bar"
           }
          ],
          "barpolar": [
           {
            "marker": {
             "line": {
              "color": "#E5ECF6",
              "width": 0.5
             },
             "pattern": {
              "fillmode": "overlay",
              "size": 10,
              "solidity": 0.2
             }
            },
            "type": "barpolar"
           }
          ],
          "carpet": [
           {
            "aaxis": {
             "endlinecolor": "#2a3f5f",
             "gridcolor": "white",
             "linecolor": "white",
             "minorgridcolor": "white",
             "startlinecolor": "#2a3f5f"
            },
            "baxis": {
             "endlinecolor": "#2a3f5f",
             "gridcolor": "white",
             "linecolor": "white",
             "minorgridcolor": "white",
             "startlinecolor": "#2a3f5f"
            },
            "type": "carpet"
           }
          ],
          "choropleth": [
           {
            "colorbar": {
             "outlinewidth": 0,
             "ticks": ""
            },
            "type": "choropleth"
           }
          ],
          "contour": [
           {
            "colorbar": {
             "outlinewidth": 0,
             "ticks": ""
            },
            "colorscale": [
             [
              0,
              "#0d0887"
             ],
             [
              0.1111111111111111,
              "#46039f"
             ],
             [
              0.2222222222222222,
              "#7201a8"
             ],
             [
              0.3333333333333333,
              "#9c179e"
             ],
             [
              0.4444444444444444,
              "#bd3786"
             ],
             [
              0.5555555555555556,
              "#d8576b"
             ],
             [
              0.6666666666666666,
              "#ed7953"
             ],
             [
              0.7777777777777778,
              "#fb9f3a"
             ],
             [
              0.8888888888888888,
              "#fdca26"
             ],
             [
              1,
              "#f0f921"
             ]
            ],
            "type": "contour"
           }
          ],
          "contourcarpet": [
           {
            "colorbar": {
             "outlinewidth": 0,
             "ticks": ""
            },
            "type": "contourcarpet"
           }
          ],
          "heatmap": [
           {
            "colorbar": {
             "outlinewidth": 0,
             "ticks": ""
            },
            "colorscale": [
             [
              0,
              "#0d0887"
             ],
             [
              0.1111111111111111,
              "#46039f"
             ],
             [
              0.2222222222222222,
              "#7201a8"
             ],
             [
              0.3333333333333333,
              "#9c179e"
             ],
             [
              0.4444444444444444,
              "#bd3786"
             ],
             [
              0.5555555555555556,
              "#d8576b"
             ],
             [
              0.6666666666666666,
              "#ed7953"
             ],
             [
              0.7777777777777778,
              "#fb9f3a"
             ],
             [
              0.8888888888888888,
              "#fdca26"
             ],
             [
              1,
              "#f0f921"
             ]
            ],
            "type": "heatmap"
           }
          ],
          "heatmapgl": [
           {
            "colorbar": {
             "outlinewidth": 0,
             "ticks": ""
            },
            "colorscale": [
             [
              0,
              "#0d0887"
             ],
             [
              0.1111111111111111,
              "#46039f"
             ],
             [
              0.2222222222222222,
              "#7201a8"
             ],
             [
              0.3333333333333333,
              "#9c179e"
             ],
             [
              0.4444444444444444,
              "#bd3786"
             ],
             [
              0.5555555555555556,
              "#d8576b"
             ],
             [
              0.6666666666666666,
              "#ed7953"
             ],
             [
              0.7777777777777778,
              "#fb9f3a"
             ],
             [
              0.8888888888888888,
              "#fdca26"
             ],
             [
              1,
              "#f0f921"
             ]
            ],
            "type": "heatmapgl"
           }
          ],
          "histogram": [
           {
            "marker": {
             "pattern": {
              "fillmode": "overlay",
              "size": 10,
              "solidity": 0.2
             }
            },
            "type": "histogram"
           }
          ],
          "histogram2d": [
           {
            "colorbar": {
             "outlinewidth": 0,
             "ticks": ""
            },
            "colorscale": [
             [
              0,
              "#0d0887"
             ],
             [
              0.1111111111111111,
              "#46039f"
             ],
             [
              0.2222222222222222,
              "#7201a8"
             ],
             [
              0.3333333333333333,
              "#9c179e"
             ],
             [
              0.4444444444444444,
              "#bd3786"
             ],
             [
              0.5555555555555556,
              "#d8576b"
             ],
             [
              0.6666666666666666,
              "#ed7953"
             ],
             [
              0.7777777777777778,
              "#fb9f3a"
             ],
             [
              0.8888888888888888,
              "#fdca26"
             ],
             [
              1,
              "#f0f921"
             ]
            ],
            "type": "histogram2d"
           }
          ],
          "histogram2dcontour": [
           {
            "colorbar": {
             "outlinewidth": 0,
             "ticks": ""
            },
            "colorscale": [
             [
              0,
              "#0d0887"
             ],
             [
              0.1111111111111111,
              "#46039f"
             ],
             [
              0.2222222222222222,
              "#7201a8"
             ],
             [
              0.3333333333333333,
              "#9c179e"
             ],
             [
              0.4444444444444444,
              "#bd3786"
             ],
             [
              0.5555555555555556,
              "#d8576b"
             ],
             [
              0.6666666666666666,
              "#ed7953"
             ],
             [
              0.7777777777777778,
              "#fb9f3a"
             ],
             [
              0.8888888888888888,
              "#fdca26"
             ],
             [
              1,
              "#f0f921"
             ]
            ],
            "type": "histogram2dcontour"
           }
          ],
          "mesh3d": [
           {
            "colorbar": {
             "outlinewidth": 0,
             "ticks": ""
            },
            "type": "mesh3d"
           }
          ],
          "parcoords": [
           {
            "line": {
             "colorbar": {
              "outlinewidth": 0,
              "ticks": ""
             }
            },
            "type": "parcoords"
           }
          ],
          "pie": [
           {
            "automargin": true,
            "type": "pie"
           }
          ],
          "scatter": [
           {
            "fillpattern": {
             "fillmode": "overlay",
             "size": 10,
             "solidity": 0.2
            },
            "type": "scatter"
           }
          ],
          "scatter3d": [
           {
            "line": {
             "colorbar": {
              "outlinewidth": 0,
              "ticks": ""
             }
            },
            "marker": {
             "colorbar": {
              "outlinewidth": 0,
              "ticks": ""
             }
            },
            "type": "scatter3d"
           }
          ],
          "scattercarpet": [
           {
            "marker": {
             "colorbar": {
              "outlinewidth": 0,
              "ticks": ""
             }
            },
            "type": "scattercarpet"
           }
          ],
          "scattergeo": [
           {
            "marker": {
             "colorbar": {
              "outlinewidth": 0,
              "ticks": ""
             }
            },
            "type": "scattergeo"
           }
          ],
          "scattergl": [
           {
            "marker": {
             "colorbar": {
              "outlinewidth": 0,
              "ticks": ""
             }
            },
            "type": "scattergl"
           }
          ],
          "scattermapbox": [
           {
            "marker": {
             "colorbar": {
              "outlinewidth": 0,
              "ticks": ""
             }
            },
            "type": "scattermapbox"
           }
          ],
          "scatterpolar": [
           {
            "marker": {
             "colorbar": {
              "outlinewidth": 0,
              "ticks": ""
             }
            },
            "type": "scatterpolar"
           }
          ],
          "scatterpolargl": [
           {
            "marker": {
             "colorbar": {
              "outlinewidth": 0,
              "ticks": ""
             }
            },
            "type": "scatterpolargl"
           }
          ],
          "scatterternary": [
           {
            "marker": {
             "colorbar": {
              "outlinewidth": 0,
              "ticks": ""
             }
            },
            "type": "scatterternary"
           }
          ],
          "surface": [
           {
            "colorbar": {
             "outlinewidth": 0,
             "ticks": ""
            },
            "colorscale": [
             [
              0,
              "#0d0887"
             ],
             [
              0.1111111111111111,
              "#46039f"
             ],
             [
              0.2222222222222222,
              "#7201a8"
             ],
             [
              0.3333333333333333,
              "#9c179e"
             ],
             [
              0.4444444444444444,
              "#bd3786"
             ],
             [
              0.5555555555555556,
              "#d8576b"
             ],
             [
              0.6666666666666666,
              "#ed7953"
             ],
             [
              0.7777777777777778,
              "#fb9f3a"
             ],
             [
              0.8888888888888888,
              "#fdca26"
             ],
             [
              1,
              "#f0f921"
             ]
            ],
            "type": "surface"
           }
          ],
          "table": [
           {
            "cells": {
             "fill": {
              "color": "#EBF0F8"
             },
             "line": {
              "color": "white"
             }
            },
            "header": {
             "fill": {
              "color": "#C8D4E3"
             },
             "line": {
              "color": "white"
             }
            },
            "type": "table"
           }
          ]
         },
         "layout": {
          "annotationdefaults": {
           "arrowcolor": "#2a3f5f",
           "arrowhead": 0,
           "arrowwidth": 1
          },
          "autotypenumbers": "strict",
          "coloraxis": {
           "colorbar": {
            "outlinewidth": 0,
            "ticks": ""
           }
          },
          "colorscale": {
           "diverging": [
            [
             0,
             "#8e0152"
            ],
            [
             0.1,
             "#c51b7d"
            ],
            [
             0.2,
             "#de77ae"
            ],
            [
             0.3,
             "#f1b6da"
            ],
            [
             0.4,
             "#fde0ef"
            ],
            [
             0.5,
             "#f7f7f7"
            ],
            [
             0.6,
             "#e6f5d0"
            ],
            [
             0.7,
             "#b8e186"
            ],
            [
             0.8,
             "#7fbc41"
            ],
            [
             0.9,
             "#4d9221"
            ],
            [
             1,
             "#276419"
            ]
           ],
           "sequential": [
            [
             0,
             "#0d0887"
            ],
            [
             0.1111111111111111,
             "#46039f"
            ],
            [
             0.2222222222222222,
             "#7201a8"
            ],
            [
             0.3333333333333333,
             "#9c179e"
            ],
            [
             0.4444444444444444,
             "#bd3786"
            ],
            [
             0.5555555555555556,
             "#d8576b"
            ],
            [
             0.6666666666666666,
             "#ed7953"
            ],
            [
             0.7777777777777778,
             "#fb9f3a"
            ],
            [
             0.8888888888888888,
             "#fdca26"
            ],
            [
             1,
             "#f0f921"
            ]
           ],
           "sequentialminus": [
            [
             0,
             "#0d0887"
            ],
            [
             0.1111111111111111,
             "#46039f"
            ],
            [
             0.2222222222222222,
             "#7201a8"
            ],
            [
             0.3333333333333333,
             "#9c179e"
            ],
            [
             0.4444444444444444,
             "#bd3786"
            ],
            [
             0.5555555555555556,
             "#d8576b"
            ],
            [
             0.6666666666666666,
             "#ed7953"
            ],
            [
             0.7777777777777778,
             "#fb9f3a"
            ],
            [
             0.8888888888888888,
             "#fdca26"
            ],
            [
             1,
             "#f0f921"
            ]
           ]
          },
          "colorway": [
           "#636efa",
           "#EF553B",
           "#00cc96",
           "#ab63fa",
           "#FFA15A",
           "#19d3f3",
           "#FF6692",
           "#B6E880",
           "#FF97FF",
           "#FECB52"
          ],
          "font": {
           "color": "#2a3f5f"
          },
          "geo": {
           "bgcolor": "white",
           "lakecolor": "white",
           "landcolor": "#E5ECF6",
           "showlakes": true,
           "showland": true,
           "subunitcolor": "white"
          },
          "hoverlabel": {
           "align": "left"
          },
          "hovermode": "closest",
          "mapbox": {
           "style": "light"
          },
          "paper_bgcolor": "white",
          "plot_bgcolor": "#E5ECF6",
          "polar": {
           "angularaxis": {
            "gridcolor": "white",
            "linecolor": "white",
            "ticks": ""
           },
           "bgcolor": "#E5ECF6",
           "radialaxis": {
            "gridcolor": "white",
            "linecolor": "white",
            "ticks": ""
           }
          },
          "scene": {
           "xaxis": {
            "backgroundcolor": "#E5ECF6",
            "gridcolor": "white",
            "gridwidth": 2,
            "linecolor": "white",
            "showbackground": true,
            "ticks": "",
            "zerolinecolor": "white"
           },
           "yaxis": {
            "backgroundcolor": "#E5ECF6",
            "gridcolor": "white",
            "gridwidth": 2,
            "linecolor": "white",
            "showbackground": true,
            "ticks": "",
            "zerolinecolor": "white"
           },
           "zaxis": {
            "backgroundcolor": "#E5ECF6",
            "gridcolor": "white",
            "gridwidth": 2,
            "linecolor": "white",
            "showbackground": true,
            "ticks": "",
            "zerolinecolor": "white"
           }
          },
          "shapedefaults": {
           "line": {
            "color": "#2a3f5f"
           }
          },
          "ternary": {
           "aaxis": {
            "gridcolor": "white",
            "linecolor": "white",
            "ticks": ""
           },
           "baxis": {
            "gridcolor": "white",
            "linecolor": "white",
            "ticks": ""
           },
           "bgcolor": "#E5ECF6",
           "caxis": {
            "gridcolor": "white",
            "linecolor": "white",
            "ticks": ""
           }
          },
          "title": {
           "x": 0.05
          },
          "xaxis": {
           "automargin": true,
           "gridcolor": "white",
           "linecolor": "white",
           "ticks": "",
           "title": {
            "standoff": 15
           },
           "zerolinecolor": "white",
           "zerolinewidth": 2
          },
          "yaxis": {
           "automargin": true,
           "gridcolor": "white",
           "linecolor": "white",
           "ticks": "",
           "title": {
            "standoff": 15
           },
           "zerolinecolor": "white",
           "zerolinewidth": 2
          }
         }
        },
        "title": {
         "text": "Sankey Diagram of Multiple Labelings"
        }
       }
      }
     },
     "metadata": {},
     "output_type": "display_data"
    }
   ],
   "source": [
    "def calculate_flow_multiple(labelings):\n",
    "    \"\"\"\n",
    "    Calculate the flow (transition counts) between multiple labelings.\n",
    "    \n",
    "    Parameters:\n",
    "    - labelings: list of array-like objects, where each array represents the categories for each labeling stage\n",
    "    \n",
    "    Returns:\n",
    "    - flows: A list of flow tables (contingency tables) between consecutive labelings.\n",
    "    \"\"\"\n",
    "    flows = []\n",
    "    for i in range(len(labelings) - 1):\n",
    "        flow_table = pd.crosstab(pd.Series(labelings[i], name=f'Labeling {i+1}'), \n",
    "                                 pd.Series(labelings[i+1], name=f'Labeling {i+2}'))\n",
    "        flows.append(flow_table)\n",
    "    return flows\n",
    "\n",
    "def create_sankey_from_multiple_flows(flow_tables):\n",
    "    \"\"\"\n",
    "    Create a Sankey diagram from multiple flow tables (transitions between consecutive labelings).\n",
    "    \n",
    "    Parameters:\n",
    "    - flow_tables: list of pd.DataFrames, each representing a contingency table with the flow between consecutive labelings\n",
    "    \n",
    "    Returns:\n",
    "    - fig: Plotly figure object displaying the Sankey diagram.\n",
    "    \"\"\"\n",
    "    all_labels = []\n",
    "    sources = []\n",
    "    targets = []\n",
    "    values = []\n",
    "    \n",
    "    label_offset = 0\n",
    "    \n",
    "    # Process each flow table (transition between consecutive labelings)\n",
    "    for i, flow_table in enumerate(flow_tables):\n",
    "        labels_1 = list(flow_table.index)   # Categories from the first labeling in the pair\n",
    "        labels_2 = list(flow_table.columns)  # Categories from the second labeling in the pair\n",
    "        \n",
    "        # Add new labels to the combined label list (without duplicates)\n",
    "        all_labels += [label for label in labels_1 if label not in all_labels]\n",
    "        all_labels += [label for label in labels_2 if label not in all_labels]\n",
    "\n",
    "        # Create the source, target, and value lists for the Sankey diagram\n",
    "        for j, label_1 in enumerate(labels_1):\n",
    "            for k, label_2 in enumerate(labels_2):\n",
    "                flow_value = flow_table.loc[label_1, label_2]\n",
    "                if flow_value > 0:\n",
    "                    sources.append(all_labels.index(label_1))  # Source index\n",
    "                    targets.append(all_labels.index(label_2))  # Target index\n",
    "                    values.append(flow_value)\n",
    "\n",
    "        label_offset += len(labels_1)  # Update the offset for the next labeling stage\n",
    "    \n",
    "    # Create the Sankey diagram\n",
    "    fig = go.Figure(go.Sankey(\n",
    "        node=dict(\n",
    "            pad=15,\n",
    "            thickness=20,\n",
    "            line=dict(color=\"black\", width=0.5),\n",
    "            label=all_labels  # All unique labels across all labelings\n",
    "        ),\n",
    "        link=dict(\n",
    "            source=sources,  # Source nodes (indices in the label list)\n",
    "            target=targets,  # Target nodes (indices in the label list)\n",
    "            value=values     # Values (flow quantities between nodes)\n",
    "        )\n",
    "    ))\n",
    "\n",
    "    # Update the layout and return the figure\n",
    "    fig.update_layout(title_text=\"Sankey Diagram of Multiple Labelings\", font_size=10)\n",
    "    return fig\n",
    "\n",
    "\n",
    "# Step 1: Calculate the flow tables for multiple labelings\n",
    "labelings = [labeling1, labeling2, labeling3, labeling4, labeling5]\n",
    "flow_tables = calculate_flow_multiple(labelings)\n",
    "\n",
    "# Step 2: Create the Sankey diagram\n",
    "fig = create_sankey_from_multiple_flows(flow_tables)\n",
    "\n",
    "# Step 3: Display the diagram\n",
    "fig.show()"
   ]
  },
  {
   "cell_type": "markdown",
   "metadata": {},
   "source": [
    "# Retrying Step 2 with Smaller number of Clusters (5)"
   ]
  },
  {
   "cell_type": "code",
   "execution_count": 42,
   "metadata": {},
   "outputs": [],
   "source": [
    "clustering_10 = AgglomerativeClustering(n_clusters=5).fit(df_10)\n",
    "clustering_100 = AgglomerativeClustering(n_clusters=5).fit(df_100)\n",
    "clustering_1000 = AgglomerativeClustering(n_clusters=5).fit(df_1000)\n",
    "clustering_5000 = AgglomerativeClustering(n_clusters=5).fit(df_5000)\n",
    "clustering_10000 = AgglomerativeClustering(n_clusters=5).fit(df_10000)"
   ]
  },
  {
   "cell_type": "code",
   "execution_count": 44,
   "metadata": {},
   "outputs": [
    {
     "data": {
      "image/png": "[encoded data removed]",
      "text/plain": [
       "<Figure size 1000x800 with 2 Axes>"
      ]
     },
     "metadata": {},
     "output_type": "display_data"
    }
   ],
   "source": [
    "plot_pca_clusters(df_5000, clustering_10.labels_)"
   ]
  },
  {
   "cell_type": "code",
   "execution_count": 45,
   "metadata": {},
   "outputs": [
    {
     "data": {
      "image/png": "[encoded data removed]",
      "text/plain": [
       "<Figure size 1000x800 with 2 Axes>"
      ]
     },
     "metadata": {},
     "output_type": "display_data"
    }
   ],
   "source": [
    "plot_pca_clusters(df_5000, clustering_100.labels_)"
   ]
  },
  {
   "cell_type": "code",
   "execution_count": 46,
   "metadata": {},
   "outputs": [
    {
     "data": {
      "image/png": "[encoded data removed]",
      "text/plain": [
       "<Figure size 1000x800 with 2 Axes>"
      ]
     },
     "metadata": {},
     "output_type": "display_data"
    }
   ],
   "source": [
    "plot_pca_clusters(df_5000, clustering_1000.labels_)"
   ]
  },
  {
   "cell_type": "code",
   "execution_count": 47,
   "metadata": {},
   "outputs": [
    {
     "data": {
      "image/png": "[encoded data removed]",
      "text/plain": [
       "<Figure size 1000x800 with 2 Axes>"
      ]
     },
     "metadata": {},
     "output_type": "display_data"
    }
   ],
   "source": [
    "plot_pca_clusters(df_5000, clustering_5000.labels_)"
   ]
  },
  {
   "cell_type": "code",
   "execution_count": 48,
   "metadata": {},
   "outputs": [
    {
     "data": {
      "image/png": "[encoded data removed]",
      "text/plain": [
       "<Figure size 1000x800 with 2 Axes>"
      ]
     },
     "metadata": {},
     "output_type": "display_data"
    }
   ],
   "source": [
    "plot_pca_clusters(df_5000, clustering_10000.labels_)"
   ]
  },
  {
   "cell_type": "code",
   "execution_count": 26,
   "metadata": {},
   "outputs": [
    {
     "name": "stdout",
     "output_type": "stream",
     "text": [
      "\n",
      "Chi-squared Statistic: 334.82109264689905\n",
      "P-value: 1.5031625664556256e-61\n",
      "Degrees of Freedom: 16\n",
      "Expected Frequencies:\n",
      "[[8.85714286 9.42857143 9.42857143 4.85714286 1.42857143]\n",
      " [8.85714286 9.42857143 9.42857143 4.85714286 1.42857143]\n",
      " [4.68907563 4.99159664 4.99159664 2.57142857 0.75630252]\n",
      " [3.38655462 3.60504202 3.60504202 1.85714286 0.54621849]\n",
      " [5.21008403 5.54621849 5.54621849 2.85714286 0.84033613]]\n",
      "Observed Frequencies\n",
      "Clustering 100 genes   0   1   2   3  4\n",
      "Clustering 10 genes                    \n",
      "0                      1   0  32   0  1\n",
      "1                     30   0   0   0  4\n",
      "2                      0   0   1  17  0\n",
      "3                      0  13   0   0  0\n",
      "4                      0  20   0   0  0\n"
     ]
    }
   ],
   "source": [
    "# 10 and 100 Chi_squared\n",
    "contingency_table = pd.crosstab(pd.Series(clustering_10.labels_, name='Clustering 10 genes'), pd.Series(clustering_100.labels_, name='Clustering 100 genes'))\n",
    "chi2, p, dof, expected = chi2_contingency(contingency_table)\n",
    "print(f\"\\nChi-squared Statistic: {chi2}\")\n",
    "print(f\"P-value: {p}\")\n",
    "print(f\"Degrees of Freedom: {dof}\")\n",
    "print(\"Expected Frequencies:\")\n",
    "print(expected)\n",
    "print('Observed Frequencies')\n",
    "print(contingency_table)"
   ]
  },
  {
   "cell_type": "code",
   "execution_count": 27,
   "metadata": {},
   "outputs": [
    {
     "name": "stdout",
     "output_type": "stream",
     "text": [
      "\n",
      "Chi-squared Statistic: 226.29141893316464\n",
      "P-value: 3.64711939919799e-39\n",
      "Degrees of Freedom: 16\n",
      "Expected Frequencies:\n",
      "[[9.71428571 8.85714286 1.42857143 9.42857143 4.57142857]\n",
      " [9.71428571 8.85714286 1.42857143 9.42857143 4.57142857]\n",
      " [5.14285714 4.68907563 0.75630252 4.99159664 2.42016807]\n",
      " [3.71428571 3.38655462 0.54621849 3.60504202 1.74789916]\n",
      " [5.71428571 5.21008403 0.84033613 5.54621849 2.68907563]]\n",
      "Observed Frequencies\n",
      "Clustering 1000 genes   0   1  2   3   4\n",
      "Clustering 10 genes                     \n",
      "0                      18  15  1   0   0\n",
      "1                      14  16  4   0   0\n",
      "2                       2   0  0   0  16\n",
      "3                       0   0  0  13   0\n",
      "4                       0   0  0  20   0\n"
     ]
    }
   ],
   "source": [
    "# 10 and 1000 Chi_squared\n",
    "contingency_table = pd.crosstab(pd.Series(clustering_10.labels_, name='Clustering 10 genes'), pd.Series(clustering_1000.labels_, name='Clustering 1000 genes'))\n",
    "chi2, p, dof, expected = chi2_contingency(contingency_table)\n",
    "print(f\"\\nChi-squared Statistic: {chi2}\")\n",
    "print(f\"P-value: {p}\")\n",
    "print(f\"Degrees of Freedom: {dof}\")\n",
    "print(\"Expected Frequencies:\")\n",
    "print(expected)\n",
    "print('Observed Frequencies')\n",
    "print(contingency_table)"
   ]
  },
  {
   "cell_type": "code",
   "execution_count": 28,
   "metadata": {},
   "outputs": [
    {
     "name": "stdout",
     "output_type": "stream",
     "text": [
      "\n",
      "Chi-squared Statistic: 103.22565672015979\n",
      "P-value: 8.581290629436844e-15\n",
      "Degrees of Freedom: 16\n",
      "Expected Frequencies:\n",
      "[[14.57142857  1.42857143  8.85714286  4.57142857  4.57142857]\n",
      " [14.57142857  1.42857143  8.85714286  4.57142857  4.57142857]\n",
      " [ 7.71428571  0.75630252  4.68907563  2.42016807  2.42016807]\n",
      " [ 5.57142857  0.54621849  3.38655462  1.74789916  1.74789916]\n",
      " [ 8.57142857  0.84033613  5.21008403  2.68907563  2.68907563]]\n",
      "Observed Frequencies\n",
      "Clustering 5000 genes   0  1   2  3  4\n",
      "Clustering 10 genes                   \n",
      "0                      16  1  15  2  0\n",
      "1                      12  4  16  2  0\n",
      "2                      17  0   0  1  0\n",
      "3                       1  0   0  5  7\n",
      "4                       5  0   0  6  9\n"
     ]
    }
   ],
   "source": [
    "# 10 and 5000 Chi_squared\n",
    "contingency_table = pd.crosstab(pd.Series(clustering_10.labels_, name='Clustering 10 genes'), pd.Series(clustering_5000.labels_, name='Clustering 5000 genes'))\n",
    "chi2, p, dof, expected = chi2_contingency(contingency_table)\n",
    "print(f\"\\nChi-squared Statistic: {chi2}\")\n",
    "print(f\"P-value: {p}\")\n",
    "print(f\"Degrees of Freedom: {dof}\")\n",
    "print(\"Expected Frequencies:\")\n",
    "print(expected)\n",
    "print('Observed Frequencies')\n",
    "print(contingency_table)"
   ]
  },
  {
   "cell_type": "code",
   "execution_count": 29,
   "metadata": {},
   "outputs": [
    {
     "name": "stdout",
     "output_type": "stream",
     "text": [
      "\n",
      "Chi-squared Statistic: 52.782021413473025\n",
      "P-value: 8.18547332763238e-06\n",
      "Degrees of Freedom: 16\n",
      "Expected Frequencies:\n",
      "[[12.         11.71428571  8.85714286  1.14285714  0.28571429]\n",
      " [12.         11.71428571  8.85714286  1.14285714  0.28571429]\n",
      " [ 6.35294118  6.20168067  4.68907563  0.60504202  0.1512605 ]\n",
      " [ 4.58823529  4.4789916   3.38655462  0.43697479  0.1092437 ]\n",
      " [ 7.05882353  6.8907563   5.21008403  0.67226891  0.16806723]]\n",
      "Observed Frequencies\n",
      "Clustering 10000 genes   0   1   2  3  4\n",
      "Clustering 10 genes                     \n",
      "0                       11   7  15  0  1\n",
      "1                        3  11  16  4  0\n",
      "2                       11   7   0  0  0\n",
      "3                        6   7   0  0  0\n",
      "4                       11   9   0  0  0\n"
     ]
    }
   ],
   "source": [
    "# 10 and 10000 Chi_squared\n",
    "contingency_table = pd.crosstab(pd.Series(clustering_10.labels_, name='Clustering 10 genes'), pd.Series(clustering_10000.labels_, name='Clustering 10000 genes'))\n",
    "chi2, p, dof, expected = chi2_contingency(contingency_table)\n",
    "print(f\"\\nChi-squared Statistic: {chi2}\")\n",
    "print(f\"P-value: {p}\")\n",
    "print(f\"Degrees of Freedom: {dof}\")\n",
    "print(\"Expected Frequencies:\")\n",
    "print(expected)\n",
    "print('Observed Frequencies')\n",
    "print(contingency_table)"
   ]
  },
  {
   "cell_type": "code",
   "execution_count": 30,
   "metadata": {},
   "outputs": [
    {
     "name": "stdout",
     "output_type": "stream",
     "text": [
      "\n",
      "Chi-squared Statistic: 348.8460772257063\n",
      "P-value: 1.801004192680366e-64\n",
      "Degrees of Freedom: 16\n",
      "Expected Frequencies:\n",
      "[[8.85714286 8.07563025 1.30252101 8.59663866 4.16806723]\n",
      " [9.42857143 8.59663866 1.38655462 9.1512605  4.43697479]\n",
      " [9.42857143 8.59663866 1.38655462 9.1512605  4.43697479]\n",
      " [4.85714286 4.42857143 0.71428571 4.71428571 2.28571429]\n",
      " [1.42857143 1.30252101 0.21008403 1.38655462 0.67226891]]\n",
      "Observed Frequencies\n",
      "Clustering 1000 genes   0   1  2   3   4\n",
      "Clustering 100 genes                    \n",
      "0                      15  16  0   0   0\n",
      "1                       0   0  0  33   0\n",
      "2                      18  15  0   0   0\n",
      "3                       1   0  0   0  16\n",
      "4                       0   0  5   0   0\n"
     ]
    }
   ],
   "source": [
    "# 100 and 1000 Chi_squared\n",
    "contingency_table = pd.crosstab(pd.Series(clustering_100.labels_, name='Clustering 100 genes'), pd.Series(clustering_1000.labels_, name='Clustering 1000 genes'))\n",
    "chi2, p, dof, expected = chi2_contingency(contingency_table)\n",
    "print(f\"\\nChi-squared Statistic: {chi2}\")\n",
    "print(f\"P-value: {p}\")\n",
    "print(f\"Degrees of Freedom: {dof}\")\n",
    "print(\"Expected Frequencies:\")\n",
    "print(expected)\n",
    "print('Observed Frequencies')\n",
    "print(contingency_table)"
   ]
  },
  {
   "cell_type": "code",
   "execution_count": 31,
   "metadata": {},
   "outputs": [
    {
     "name": "stdout",
     "output_type": "stream",
     "text": [
      "\n",
      "Chi-squared Statistic: 214.61905127358546\n",
      "P-value: 8.651727937336245e-37\n",
      "Degrees of Freedom: 16\n",
      "Expected Frequencies:\n",
      "[[13.28571429  1.30252101  8.07563025  4.16806723  4.16806723]\n",
      " [14.14285714  1.38655462  8.59663866  4.43697479  4.43697479]\n",
      " [14.14285714  1.38655462  8.59663866  4.43697479  4.43697479]\n",
      " [ 7.28571429  0.71428571  4.42857143  2.28571429  2.28571429]\n",
      " [ 2.14285714  0.21008403  1.30252101  0.67226891  0.67226891]]\n",
      "Observed Frequencies\n",
      "Clustering 5000 genes   0  1   2   3   4\n",
      "Clustering 100 genes                    \n",
      "0                      12  0  16   3   0\n",
      "1                       6  0   0  11  16\n",
      "2                      17  0  15   1   0\n",
      "3                      16  0   0   1   0\n",
      "4                       0  5   0   0   0\n"
     ]
    }
   ],
   "source": [
    "# 100 and 5000 Chi_squared\n",
    "contingency_table = pd.crosstab(pd.Series(clustering_100.labels_, name='Clustering 100 genes'), pd.Series(clustering_5000.labels_, name='Clustering 5000 genes'))\n",
    "chi2, p, dof, expected = chi2_contingency(contingency_table)\n",
    "print(f\"\\nChi-squared Statistic: {chi2}\")\n",
    "print(f\"P-value: {p}\")\n",
    "print(f\"Degrees of Freedom: {dof}\")\n",
    "print(\"Expected Frequencies:\")\n",
    "print(expected)\n",
    "print('Observed Frequencies')\n",
    "print(contingency_table)"
   ]
  },
  {
   "cell_type": "code",
   "execution_count": 32,
   "metadata": {},
   "outputs": [
    {
     "name": "stdout",
     "output_type": "stream",
     "text": [
      "\n",
      "Chi-squared Statistic: 158.52143449161292\n",
      "P-value: 1.6146339630069173e-25\n",
      "Degrees of Freedom: 16\n",
      "Expected Frequencies:\n",
      "[[10.94117647 10.68067227  8.07563025  1.04201681  0.2605042 ]\n",
      " [11.64705882 11.3697479   8.59663866  1.1092437   0.27731092]\n",
      " [11.64705882 11.3697479   8.59663866  1.1092437   0.27731092]\n",
      " [ 6.          5.85714286  4.42857143  0.57142857  0.14285714]\n",
      " [ 1.76470588  1.72268908  1.30252101  0.16806723  0.04201681]]\n",
      "Observed Frequencies\n",
      "Clustering 10000 genes   0   1   2  3  4\n",
      "Clustering 10 genes                     \n",
      "0                        4  11  16  0  0\n",
      "1                       17  16   0  0  0\n",
      "2                       10   8  15  0  0\n",
      "3                       11   6   0  0  0\n",
      "4                        0   0   0  4  1\n"
     ]
    }
   ],
   "source": [
    "# 100 and 10000 Chi_squared\n",
    "contingency_table = pd.crosstab(pd.Series(clustering_100.labels_, name='Clustering 10 genes'), pd.Series(clustering_10000.labels_, name='Clustering 10000 genes'))\n",
    "chi2, p, dof, expected = chi2_contingency(contingency_table)\n",
    "print(f\"\\nChi-squared Statistic: {chi2}\")\n",
    "print(f\"P-value: {p}\")\n",
    "print(f\"Degrees of Freedom: {dof}\")\n",
    "print(\"Expected Frequencies:\")\n",
    "print(expected)\n",
    "print('Observed Frequencies')\n",
    "print(contingency_table)"
   ]
  },
  {
   "cell_type": "code",
   "execution_count": 33,
   "metadata": {},
   "outputs": [
    {
     "name": "stdout",
     "output_type": "stream",
     "text": [
      "\n",
      "Chi-squared Statistic: 307.0310271836007\n",
      "P-value: 8.908897432458551e-56\n",
      "Degrees of Freedom: 16\n",
      "Expected Frequencies:\n",
      "[[14.57142857  1.42857143  8.85714286  4.57142857  4.57142857]\n",
      " [13.28571429  1.30252101  8.07563025  4.16806723  4.16806723]\n",
      " [ 2.14285714  0.21008403  1.30252101  0.67226891  0.67226891]\n",
      " [14.14285714  1.38655462  8.59663866  4.43697479  4.43697479]\n",
      " [ 6.85714286  0.67226891  4.16806723  2.1512605   2.1512605 ]]\n",
      "Observed Frequencies\n",
      "Clustering 5000 genes   0  1   2   3   4\n",
      "Clustering 1000 genes                   \n",
      "0                      29  0   0   5   0\n",
      "1                       0  0  31   0   0\n",
      "2                       0  5   0   0   0\n",
      "3                       6  0   0  11  16\n",
      "4                      16  0   0   0   0\n"
     ]
    }
   ],
   "source": [
    "# 1000 and 5000 Chi_squared\n",
    "contingency_table = pd.crosstab(pd.Series(clustering_1000.labels_, name='Clustering 1000 genes'), pd.Series(clustering_5000.labels_, name='Clustering 5000 genes'))\n",
    "chi2, p, dof, expected = chi2_contingency(contingency_table)\n",
    "print(f\"\\nChi-squared Statistic: {chi2}\")\n",
    "print(f\"P-value: {p}\")\n",
    "print(f\"Degrees of Freedom: {dof}\")\n",
    "print(\"Expected Frequencies:\")\n",
    "print(expected)\n",
    "print('Observed Frequencies')\n",
    "print(contingency_table)"
   ]
  },
  {
   "cell_type": "code",
   "execution_count": 34,
   "metadata": {},
   "outputs": [
    {
     "name": "stdout",
     "output_type": "stream",
     "text": [
      "\n",
      "Chi-squared Statistic: 240.13491623552596\n",
      "P-value: 5.429582750192225e-42\n",
      "Degrees of Freedom: 16\n",
      "Expected Frequencies:\n",
      "[[12.         11.71428571  8.85714286  1.14285714  0.28571429]\n",
      " [10.94117647 10.68067227  8.07563025  1.04201681  0.2605042 ]\n",
      " [ 1.76470588  1.72268908  1.30252101  0.16806723  0.04201681]\n",
      " [11.64705882 11.3697479   8.59663866  1.1092437   0.27731092]\n",
      " [ 5.64705882  5.51260504  4.16806723  0.53781513  0.13445378]]\n",
      "Observed Frequencies\n",
      "Clustering 10000 genes   0   1   2  3  4\n",
      "Clustering 1000 genes                   \n",
      "0                       15  19   0  0  0\n",
      "1                        0   0  31  0  0\n",
      "2                        0   0   0  4  1\n",
      "3                       17  16   0  0  0\n",
      "4                       10   6   0  0  0\n"
     ]
    }
   ],
   "source": [
    "# 1000 and 10000 Chi_squared\n",
    "contingency_table = pd.crosstab(pd.Series(clustering_1000.labels_, name='Clustering 1000 genes'), pd.Series(clustering_10000.labels_, name='Clustering 10000 genes'))\n",
    "chi2, p, dof, expected = chi2_contingency(contingency_table)\n",
    "print(f\"\\nChi-squared Statistic: {chi2}\")\n",
    "print(f\"P-value: {p}\")\n",
    "print(f\"Degrees of Freedom: {dof}\")\n",
    "print(\"Expected Frequencies:\")\n",
    "print(expected)\n",
    "print('Observed Frequencies')\n",
    "print(contingency_table)"
   ]
  },
  {
   "cell_type": "code",
   "execution_count": 35,
   "metadata": {},
   "outputs": [
    {
     "name": "stdout",
     "output_type": "stream",
     "text": [
      "\n",
      "Chi-squared Statistic: 283.89701897018966\n",
      "P-value: 5.455434159794967e-51\n",
      "Degrees of Freedom: 16\n",
      "Expected Frequencies:\n",
      "[[18.         17.57142857 13.28571429  1.71428571  0.42857143]\n",
      " [ 1.76470588  1.72268908  1.30252101  0.16806723  0.04201681]\n",
      " [10.94117647 10.68067227  8.07563025  1.04201681  0.2605042 ]\n",
      " [ 5.64705882  5.51260504  4.16806723  0.53781513  0.13445378]\n",
      " [ 5.64705882  5.51260504  4.16806723  0.53781513  0.13445378]]\n",
      "Observed Frequencies\n",
      "Clustering 10000 genes   0   1   2  3  4\n",
      "Clustering 5000 genes                   \n",
      "0                       26  25   0  0  0\n",
      "1                        0   0   0  4  1\n",
      "2                        0   0  31  0  0\n",
      "3                       16   0   0  0  0\n",
      "4                        0  16   0  0  0\n"
     ]
    }
   ],
   "source": [
    "# 5000 and 10000 Chi_squared\n",
    "contingency_table = pd.crosstab(pd.Series(clustering_5000.labels_, name='Clustering 5000 genes'), pd.Series(clustering_10000.labels_, name='Clustering 10000 genes'))\n",
    "chi2, p, dof, expected = chi2_contingency(contingency_table)\n",
    "print(f\"\\nChi-squared Statistic: {chi2}\")\n",
    "print(f\"P-value: {p}\")\n",
    "print(f\"Degrees of Freedom: {dof}\")\n",
    "print(\"Expected Frequencies:\")\n",
    "print(expected)\n",
    "print('Observed Frequencies')\n",
    "print(contingency_table)"
   ]
  },
  {
   "cell_type": "code",
   "execution_count": 36,
   "metadata": {},
   "outputs": [],
   "source": [
    "#Modification of Labels for use in Sankey Diagram\n",
    "\n",
    "labeling1 = clustering_10.labels_\n",
    "labeling2 = clustering_100.labels_\n",
    "labeling3 = clustering_1000.labels_\n",
    "labeling4 = clustering_5000.labels_\n",
    "labeling5 = clustering_10000.labels_"
   ]
  },
  {
   "cell_type": "code",
   "execution_count": 37,
   "metadata": {},
   "outputs": [],
   "source": [
    "new_arr = []\n",
    "for i in range(len(labeling1)):\n",
    "    new_arr.append('A' + str(labeling1[i]))\n",
    "labeling1 = new_arr\n",
    "new_arr = []\n",
    "for i in range(len(labeling2)):\n",
    "    new_arr.append('B' + str(labeling2[i]))\n",
    "labeling2 = new_arr\n",
    "new_arr = []\n",
    "for i in range(len(labeling3)):\n",
    "    new_arr.append('C' + str(labeling3[i]))\n",
    "labeling3 = new_arr\n",
    "new_arr = []\n",
    "for i in range(len(labeling4)):\n",
    "    new_arr.append('D' + str(labeling4[i]))\n",
    "labeling4 = new_arr\n",
    "new_arr = []\n",
    "for i in range(len(labeling5)):\n",
    "    new_arr.append('E' + str(labeling5[i]))\n",
    "labeling5 = new_arr"
   ]
  },
  {
   "cell_type": "code",
   "execution_count": 38,
   "metadata": {},
   "outputs": [
    {
     "data": {
      "application/vnd.plotly.v1+json": {
       "config": {
        "plotlyServerURL": "https://plot.ly"
       },
       "data": [
        {
         "link": {
          "source": [
           0,
           0,
           0,
           1,
           1,
           2,
           2,
           3,
           4,
           5,
           5,
           6,
           7,
           7,
           8,
           8,
           9,
           10,
           10,
           11,
           12,
           13,
           13,
           13,
           14,
           15,
           15,
           16,
           16,
           17,
           18,
           19
          ],
          "target": [
           5,
           7,
           9,
           5,
           9,
           7,
           8,
           6,
           6,
           10,
           11,
           13,
           10,
           11,
           10,
           14,
           12,
           15,
           18,
           17,
           16,
           15,
           18,
           19,
           15,
           20,
           21,
           23,
           24,
           22,
           20,
           21
          ],
          "value": [
           1,
           32,
           1,
           30,
           4,
           1,
           17,
           13,
           20,
           15,
           16,
           33,
           18,
           15,
           1,
           16,
           5,
           29,
           5,
           31,
           5,
           6,
           11,
           16,
           16,
           26,
           25,
           4,
           1,
           31,
           16,
           16
          ]
         },
         "node": {
          "label": [
           "A0",
           "A1",
           "A2",
           "A3",
           "A4",
           "B0",
           "B1",
           "B2",
           "B3",
           "B4",
           "C0",
           "C1",
           "C2",
           "C3",
           "C4",
           "D0",
           "D1",
           "D2",
           "D3",
           "D4",
           "E0",
           "E1",
           "E2",
           "E3",
           "E4"
          ],
          "line": {
           "color": "black",
           "width": 0.5
          },
          "pad": 15,
          "thickness": 20
         },
         "type": "sankey"
        }
       ],
       "layout": {
        "font": {
         "size": 10
        },
        "template": {
         "data": {
          "bar": [
           {
            "error_x": {
             "color": "#2a3f5f"
            },
            "error_y": {
             "color": "#2a3f5f"
            },
            "marker": {
             "line": {
              "color": "#E5ECF6",
              "width": 0.5
             },
             "pattern": {
              "fillmode": "overlay",
              "size": 10,
              "solidity": 0.2
             }
            },
            "type": "bar"
           }
          ],
          "barpolar": [
           {
            "marker": {
             "line": {
              "color": "#E5ECF6",
              "width": 0.5
             },
             "pattern": {
              "fillmode": "overlay",
              "size": 10,
              "solidity": 0.2
             }
            },
            "type": "barpolar"
           }
          ],
          "carpet": [
           {
            "aaxis": {
             "endlinecolor": "#2a3f5f",
             "gridcolor": "white",
             "linecolor": "white",
             "minorgridcolor": "white",
             "startlinecolor": "#2a3f5f"
            },
            "baxis": {
             "endlinecolor": "#2a3f5f",
             "gridcolor": "white",
             "linecolor": "white",
             "minorgridcolor": "white",
             "startlinecolor": "#2a3f5f"
            },
            "type": "carpet"
           }
          ],
          "choropleth": [
           {
            "colorbar": {
             "outlinewidth": 0,
             "ticks": ""
            },
            "type": "choropleth"
           }
          ],
          "contour": [
           {
            "colorbar": {
             "outlinewidth": 0,
             "ticks": ""
            },
            "colorscale": [
             [
              0,
              "#0d0887"
             ],
             [
              0.1111111111111111,
              "#46039f"
             ],
             [
              0.2222222222222222,
              "#7201a8"
             ],
             [
              0.3333333333333333,
              "#9c179e"
             ],
             [
              0.4444444444444444,
              "#bd3786"
             ],
             [
              0.5555555555555556,
              "#d8576b"
             ],
             [
              0.6666666666666666,
              "#ed7953"
             ],
             [
              0.7777777777777778,
              "#fb9f3a"
             ],
             [
              0.8888888888888888,
              "#fdca26"
             ],
             [
              1,
              "#f0f921"
             ]
            ],
            "type": "contour"
           }
          ],
          "contourcarpet": [
           {
            "colorbar": {
             "outlinewidth": 0,
             "ticks": ""
            },
            "type": "contourcarpet"
           }
          ],
          "heatmap": [
           {
            "colorbar": {
             "outlinewidth": 0,
             "ticks": ""
            },
            "colorscale": [
             [
              0,
              "#0d0887"
             ],
             [
              0.1111111111111111,
              "#46039f"
             ],
             [
              0.2222222222222222,
              "#7201a8"
             ],
             [
              0.3333333333333333,
              "#9c179e"
             ],
             [
              0.4444444444444444,
              "#bd3786"
             ],
             [
              0.5555555555555556,
              "#d8576b"
             ],
             [
              0.6666666666666666,
              "#ed7953"
             ],
             [
              0.7777777777777778,
              "#fb9f3a"
             ],
             [
              0.8888888888888888,
              "#fdca26"
             ],
             [
              1,
              "#f0f921"
             ]
            ],
            "type": "heatmap"
           }
          ],
          "heatmapgl": [
           {
            "colorbar": {
             "outlinewidth": 0,
             "ticks": ""
            },
            "colorscale": [
             [
              0,
              "#0d0887"
             ],
             [
              0.1111111111111111,
              "#46039f"
             ],
             [
              0.2222222222222222,
              "#7201a8"
             ],
             [
              0.3333333333333333,
              "#9c179e"
             ],
             [
              0.4444444444444444,
              "#bd3786"
             ],
             [
              0.5555555555555556,
              "#d8576b"
             ],
             [
              0.6666666666666666,
              "#ed7953"
             ],
             [
              0.7777777777777778,
              "#fb9f3a"
             ],
             [
              0.8888888888888888,
              "#fdca26"
             ],
             [
              1,
              "#f0f921"
             ]
            ],
            "type": "heatmapgl"
           }
          ],
          "histogram": [
           {
            "marker": {
             "pattern": {
              "fillmode": "overlay",
              "size": 10,
              "solidity": 0.2
             }
            },
            "type": "histogram"
           }
          ],
          "histogram2d": [
           {
            "colorbar": {
             "outlinewidth": 0,
             "ticks": ""
            },
            "colorscale": [
             [
              0,
              "#0d0887"
             ],
             [
              0.1111111111111111,
              "#46039f"
             ],
             [
              0.2222222222222222,
              "#7201a8"
             ],
             [
              0.3333333333333333,
              "#9c179e"
             ],
             [
              0.4444444444444444,
              "#bd3786"
             ],
             [
              0.5555555555555556,
              "#d8576b"
             ],
             [
              0.6666666666666666,
              "#ed7953"
             ],
             [
              0.7777777777777778,
              "#fb9f3a"
             ],
             [
              0.8888888888888888,
              "#fdca26"
             ],
             [
              1,
              "#f0f921"
             ]
            ],
            "type": "histogram2d"
           }
          ],
          "histogram2dcontour": [
           {
            "colorbar": {
             "outlinewidth": 0,
             "ticks": ""
            },
            "colorscale": [
             [
              0,
              "#0d0887"
             ],
             [
              0.1111111111111111,
              "#46039f"
             ],
             [
              0.2222222222222222,
              "#7201a8"
             ],
             [
              0.3333333333333333,
              "#9c179e"
             ],
             [
              0.4444444444444444,
              "#bd3786"
             ],
             [
              0.5555555555555556,
              "#d8576b"
             ],
             [
              0.6666666666666666,
              "#ed7953"
             ],
             [
              0.7777777777777778,
              "#fb9f3a"
             ],
             [
              0.8888888888888888,
              "#fdca26"
             ],
             [
              1,
              "#f0f921"
             ]
            ],
            "type": "histogram2dcontour"
           }
          ],
          "mesh3d": [
           {
            "colorbar": {
             "outlinewidth": 0,
             "ticks": ""
            },
            "type": "mesh3d"
           }
          ],
          "parcoords": [
           {
            "line": {
             "colorbar": {
              "outlinewidth": 0,
              "ticks": ""
             }
            },
            "type": "parcoords"
           }
          ],
          "pie": [
           {
            "automargin": true,
            "type": "pie"
           }
          ],
          "scatter": [
           {
            "fillpattern": {
             "fillmode": "overlay",
             "size": 10,
             "solidity": 0.2
            },
            "type": "scatter"
           }
          ],
          "scatter3d": [
           {
            "line": {
             "colorbar": {
              "outlinewidth": 0,
              "ticks": ""
             }
            },
            "marker": {
             "colorbar": {
              "outlinewidth": 0,
              "ticks": ""
             }
            },
            "type": "scatter3d"
           }
          ],
          "scattercarpet": [
           {
            "marker": {
             "colorbar": {
              "outlinewidth": 0,
              "ticks": ""
             }
            },
            "type": "scattercarpet"
           }
          ],
          "scattergeo": [
           {
            "marker": {
             "colorbar": {
              "outlinewidth": 0,
              "ticks": ""
             }
            },
            "type": "scattergeo"
           }
          ],
          "scattergl": [
           {
            "marker": {
             "colorbar": {
              "outlinewidth": 0,
              "ticks": ""
             }
            },
            "type": "scattergl"
           }
          ],
          "scattermapbox": [
           {
            "marker": {
             "colorbar": {
              "outlinewidth": 0,
              "ticks": ""
             }
            },
            "type": "scattermapbox"
           }
          ],
          "scatterpolar": [
           {
            "marker": {
             "colorbar": {
              "outlinewidth": 0,
              "ticks": ""
             }
            },
            "type": "scatterpolar"
           }
          ],
          "scatterpolargl": [
           {
            "marker": {
             "colorbar": {
              "outlinewidth": 0,
              "ticks": ""
             }
            },
            "type": "scatterpolargl"
           }
          ],
          "scatterternary": [
           {
            "marker": {
             "colorbar": {
              "outlinewidth": 0,
              "ticks": ""
             }
            },
            "type": "scatterternary"
           }
          ],
          "surface": [
           {
            "colorbar": {
             "outlinewidth": 0,
             "ticks": ""
            },
            "colorscale": [
             [
              0,
              "#0d0887"
             ],
             [
              0.1111111111111111,
              "#46039f"
             ],
             [
              0.2222222222222222,
              "#7201a8"
             ],
             [
              0.3333333333333333,
              "#9c179e"
             ],
             [
              0.4444444444444444,
              "#bd3786"
             ],
             [
              0.5555555555555556,
              "#d8576b"
             ],
             [
              0.6666666666666666,
              "#ed7953"
             ],
             [
              0.7777777777777778,
              "#fb9f3a"
             ],
             [
              0.8888888888888888,
              "#fdca26"
             ],
             [
              1,
              "#f0f921"
             ]
            ],
            "type": "surface"
           }
          ],
          "table": [
           {
            "cells": {
             "fill": {
              "color": "#EBF0F8"
             },
             "line": {
              "color": "white"
             }
            },
            "header": {
             "fill": {
              "color": "#C8D4E3"
             },
             "line": {
              "color": "white"
             }
            },
            "type": "table"
           }
          ]
         },
         "layout": {
          "annotationdefaults": {
           "arrowcolor": "#2a3f5f",
           "arrowhead": 0,
           "arrowwidth": 1
          },
          "autotypenumbers": "strict",
          "coloraxis": {
           "colorbar": {
            "outlinewidth": 0,
            "ticks": ""
           }
          },
          "colorscale": {
           "diverging": [
            [
             0,
             "#8e0152"
            ],
            [
             0.1,
             "#c51b7d"
            ],
            [
             0.2,
             "#de77ae"
            ],
            [
             0.3,
             "#f1b6da"
            ],
            [
             0.4,
             "#fde0ef"
            ],
            [
             0.5,
             "#f7f7f7"
            ],
            [
             0.6,
             "#e6f5d0"
            ],
            [
             0.7,
             "#b8e186"
            ],
            [
             0.8,
             "#7fbc41"
            ],
            [
             0.9,
             "#4d9221"
            ],
            [
             1,
             "#276419"
            ]
           ],
           "sequential": [
            [
             0,
             "#0d0887"
            ],
            [
             0.1111111111111111,
             "#46039f"
            ],
            [
             0.2222222222222222,
             "#7201a8"
            ],
            [
             0.3333333333333333,
             "#9c179e"
            ],
            [
             0.4444444444444444,
             "#bd3786"
            ],
            [
             0.5555555555555556,
             "#d8576b"
            ],
            [
             0.6666666666666666,
             "#ed7953"
            ],
            [
             0.7777777777777778,
             "#fb9f3a"
            ],
            [
             0.8888888888888888,
             "#fdca26"
            ],
            [
             1,
             "#f0f921"
            ]
           ],
           "sequentialminus": [
            [
             0,
             "#0d0887"
            ],
            [
             0.1111111111111111,
             "#46039f"
            ],
            [
             0.2222222222222222,
             "#7201a8"
            ],
            [
             0.3333333333333333,
             "#9c179e"
            ],
            [
             0.4444444444444444,
             "#bd3786"
            ],
            [
             0.5555555555555556,
             "#d8576b"
            ],
            [
             0.6666666666666666,
             "#ed7953"
            ],
            [
             0.7777777777777778,
             "#fb9f3a"
            ],
            [
             0.8888888888888888,
             "#fdca26"
            ],
            [
             1,
             "#f0f921"
            ]
           ]
          },
          "colorway": [
           "#636efa",
           "#EF553B",
           "#00cc96",
           "#ab63fa",
           "#FFA15A",
           "#19d3f3",
           "#FF6692",
           "#B6E880",
           "#FF97FF",
           "#FECB52"
          ],
          "font": {
           "color": "#2a3f5f"
          },
          "geo": {
           "bgcolor": "white",
           "lakecolor": "white",
           "landcolor": "#E5ECF6",
           "showlakes": true,
           "showland": true,
           "subunitcolor": "white"
          },
          "hoverlabel": {
           "align": "left"
          },
          "hovermode": "closest",
          "mapbox": {
           "style": "light"
          },
          "paper_bgcolor": "white",
          "plot_bgcolor": "#E5ECF6",
          "polar": {
           "angularaxis": {
            "gridcolor": "white",
            "linecolor": "white",
            "ticks": ""
           },
           "bgcolor": "#E5ECF6",
           "radialaxis": {
            "gridcolor": "white",
            "linecolor": "white",
            "ticks": ""
           }
          },
          "scene": {
           "xaxis": {
            "backgroundcolor": "#E5ECF6",
            "gridcolor": "white",
            "gridwidth": 2,
            "linecolor": "white",
            "showbackground": true,
            "ticks": "",
            "zerolinecolor": "white"
           },
           "yaxis": {
            "backgroundcolor": "#E5ECF6",
            "gridcolor": "white",
            "gridwidth": 2,
            "linecolor": "white",
            "showbackground": true,
            "ticks": "",
            "zerolinecolor": "white"
           },
           "zaxis": {
            "backgroundcolor": "#E5ECF6",
            "gridcolor": "white",
            "gridwidth": 2,
            "linecolor": "white",
            "showbackground": true,
            "ticks": "",
            "zerolinecolor": "white"
           }
          },
          "shapedefaults": {
           "line": {
            "color": "#2a3f5f"
           }
          },
          "ternary": {
           "aaxis": {
            "gridcolor": "white",
            "linecolor": "white",
            "ticks": ""
           },
           "baxis": {
            "gridcolor": "white",
            "linecolor": "white",
            "ticks": ""
           },
           "bgcolor": "#E5ECF6",
           "caxis": {
            "gridcolor": "white",
            "linecolor": "white",
            "ticks": ""
           }
          },
          "title": {
           "x": 0.05
          },
          "xaxis": {
           "automargin": true,
           "gridcolor": "white",
           "linecolor": "white",
           "ticks": "",
           "title": {
            "standoff": 15
           },
           "zerolinecolor": "white",
           "zerolinewidth": 2
          },
          "yaxis": {
           "automargin": true,
           "gridcolor": "white",
           "linecolor": "white",
           "ticks": "",
           "title": {
            "standoff": 15
           },
           "zerolinecolor": "white",
           "zerolinewidth": 2
          }
         }
        },
        "title": {
         "text": "Sankey Diagram of Multiple Labelings"
        }
       }
      }
     },
     "metadata": {},
     "output_type": "display_data"
    }
   ],
   "source": [
    "def calculate_flow_multiple(labelings):\n",
    "    \"\"\"\n",
    "    Calculate the flow (transition counts) between multiple labelings.\n",
    "    \n",
    "    Parameters:\n",
    "    - labelings: list of array-like objects, where each array represents the categories for each labeling stage\n",
    "    \n",
    "    Returns:\n",
    "    - flows: A list of flow tables (contingency tables) between consecutive labelings.\n",
    "    \"\"\"\n",
    "    flows = []\n",
    "    for i in range(len(labelings) - 1):\n",
    "        flow_table = pd.crosstab(pd.Series(labelings[i], name=f'Labeling {i+1}'), \n",
    "                                 pd.Series(labelings[i+1], name=f'Labeling {i+2}'))\n",
    "        flows.append(flow_table)\n",
    "    return flows\n",
    "\n",
    "def create_sankey_from_multiple_flows(flow_tables):\n",
    "    \"\"\"\n",
    "    Create a Sankey diagram from multiple flow tables (transitions between consecutive labelings).\n",
    "    \n",
    "    Parameters:\n",
    "    - flow_tables: list of pd.DataFrames, each representing a contingency table with the flow between consecutive labelings\n",
    "    \n",
    "    Returns:\n",
    "    - fig: Plotly figure object displaying the Sankey diagram.\n",
    "    \"\"\"\n",
    "    all_labels = []\n",
    "    sources = []\n",
    "    targets = []\n",
    "    values = []\n",
    "    \n",
    "    label_offset = 0\n",
    "    \n",
    "    # Process each flow table (transition between consecutive labelings)\n",
    "    for i, flow_table in enumerate(flow_tables):\n",
    "        labels_1 = list(flow_table.index)   # Categories from the first labeling in the pair\n",
    "        labels_2 = list(flow_table.columns)  # Categories from the second labeling in the pair\n",
    "        \n",
    "        # Add new labels to the combined label list (without duplicates)\n",
    "        all_labels += [label for label in labels_1 if label not in all_labels]\n",
    "        all_labels += [label for label in labels_2 if label not in all_labels]\n",
    "\n",
    "        # Create the source, target, and value lists for the Sankey diagram\n",
    "        for j, label_1 in enumerate(labels_1):\n",
    "            for k, label_2 in enumerate(labels_2):\n",
    "                flow_value = flow_table.loc[label_1, label_2]\n",
    "                if flow_value > 0:\n",
    "                    sources.append(all_labels.index(label_1))  # Source index\n",
    "                    targets.append(all_labels.index(label_2))  # Target index\n",
    "                    values.append(flow_value)\n",
    "\n",
    "        label_offset += len(labels_1)  # Update the offset for the next labeling stage\n",
    "    \n",
    "    # Create the Sankey diagram\n",
    "    fig = go.Figure(go.Sankey(\n",
    "        node=dict(\n",
    "            pad=15,\n",
    "            thickness=20,\n",
    "            line=dict(color=\"black\", width=0.5),\n",
    "            label=all_labels  # All unique labels across all labelings\n",
    "        ),\n",
    "        link=dict(\n",
    "            source=sources,  # Source nodes (indices in the label list)\n",
    "            target=targets,  # Target nodes (indices in the label list)\n",
    "            value=values     # Values (flow quantities between nodes)\n",
    "        )\n",
    "    ))\n",
    "\n",
    "    # Update the layout and return the figure\n",
    "    fig.update_layout(title_text=\"Sankey Diagram of Multiple Labelings\", font_size=10)\n",
    "    return fig\n",
    "\n",
    "\n",
    "# Step 1: Calculate the flow tables for multiple labelings\n",
    "labelings = [labeling1, labeling2, labeling3, labeling4, labeling5]\n",
    "flow_tables = calculate_flow_multiple(labelings)\n",
    "\n",
    "# Step 2: Create the Sankey diagram\n",
    "fig = create_sankey_from_multiple_flows(flow_tables)\n",
    "\n",
    "# Step 3: Display the diagram\n",
    "fig.show()"
   ]
  },
  {
   "cell_type": "code",
   "execution_count": null,
   "metadata": {},
   "outputs": [],
   "source": []
  }
 ],
 "metadata": {
  "kernelspec": {
   "display_name": "Python 3",
   "language": "python",
   "name": "python3"
  },
  "language_info": {
   "codemirror_mode": {
    "name": "ipython",
    "version": 3
   },
   "file_extension": ".py",
   "mimetype": "text/x-python",
   "name": "python",
   "nbconvert_exporter": "python",
   "pygments_lexer": "ipython3",
   "version": "3.9.13"
  }
 },
 "nbformat": 4,
 "nbformat_minor": 2
}
